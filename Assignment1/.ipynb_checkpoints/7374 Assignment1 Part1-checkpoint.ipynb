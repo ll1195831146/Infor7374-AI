{
 "cells": [
  {
   "cell_type": "code",
   "execution_count": 1,
   "metadata": {},
   "outputs": [
    {
     "name": "stderr",
     "output_type": "stream",
     "text": [
      "Using TensorFlow backend.\n",
      "/anaconda3/lib/python3.5/importlib/_bootstrap.py:222: RuntimeWarning: compiletime version 3.6 of module 'tensorflow.python.framework.fast_tensor_util' does not match runtime version 3.5\n",
      "  return f(*args, **kwds)\n"
     ]
    }
   ],
   "source": [
    "from __future__ import print_function\n",
    "\n",
    "import keras\n",
    "import numpy as np\n",
    "from keras.datasets import mnist\n",
    "from keras.models import Sequential\n",
    "from keras.layers import Dense, Dropout\n",
    "from keras.optimizers import RMSprop"
   ]
  },
  {
   "cell_type": "code",
   "execution_count": 2,
   "metadata": {},
   "outputs": [],
   "source": [
    "def unpickle(file):\n",
    "    import pickle\n",
    "    with open(file, 'rb') as fo:\n",
    "        dict = pickle.load(fo, encoding='bytes')\n",
    "    return dict"
   ]
  },
  {
   "cell_type": "code",
   "execution_count": 3,
   "metadata": {},
   "outputs": [],
   "source": [
    "data_batch_1 = unpickle(\"cifar-10-batches-py/data_batch_1\")\n",
    "data_batch_2 = unpickle(\"cifar-10-batches-py/data_batch_2\")\n",
    "data_batch_3 = unpickle(\"cifar-10-batches-py/data_batch_3\")\n",
    "data_batch_4 = unpickle(\"cifar-10-batches-py/data_batch_4\")\n",
    "data_batch_5 = unpickle(\"cifar-10-batches-py/data_batch_5\")"
   ]
  },
  {
   "cell_type": "code",
   "execution_count": 4,
   "metadata": {},
   "outputs": [],
   "source": [
    "data1 = data_batch_1[b'data']\n",
    "label1 = data_batch_1[b'labels']\n",
    "data2 = data_batch_2[b'data']\n",
    "label2 = data_batch_2[b'labels']\n",
    "data3 = data_batch_3[b'data']\n",
    "label3 = data_batch_3[b'labels']\n",
    "data4 = data_batch_4[b'data']\n",
    "label4 = data_batch_4[b'labels']\n",
    "data5 = data_batch_5[b'data']\n",
    "label5 = data_batch_5[b'labels']"
   ]
  },
  {
   "cell_type": "code",
   "execution_count": 5,
   "metadata": {},
   "outputs": [],
   "source": [
    "x_train = np.concatenate((data1,data2,data3,data4,data5),axis=0)"
   ]
  },
  {
   "cell_type": "code",
   "execution_count": 6,
   "metadata": {},
   "outputs": [],
   "source": [
    "label1 = np.array(label1, dtype = float)\n",
    "label2 = np.array(label2, dtype = float)\n",
    "label3 = np.array(label3, dtype = float)\n",
    "label4 = np.array(label4, dtype = float)\n",
    "label5 = np.array(label5, dtype = float)\n",
    "y_train = np.concatenate((label1,label2,label3,label4,label5),axis=0)"
   ]
  },
  {
   "cell_type": "code",
   "execution_count": 7,
   "metadata": {},
   "outputs": [],
   "source": [
    "test_data = unpickle(\"cifar-10-batches-py/test_batch\")"
   ]
  },
  {
   "cell_type": "code",
   "execution_count": 8,
   "metadata": {},
   "outputs": [],
   "source": [
    "x_test = test_data[b'data']\n",
    "y_test = test_data[b'labels']\n",
    "y_test = np.array(y_test, dtype = float)"
   ]
  },
  {
   "cell_type": "code",
   "execution_count": 9,
   "metadata": {},
   "outputs": [
    {
     "name": "stdout",
     "output_type": "stream",
     "text": [
      "50000 train samples\n",
      "10000 test samples\n"
     ]
    }
   ],
   "source": [
    "# (x_train, y_train), (x_test, y_test) = mnist.load_data()\n",
    "\n",
    "# x_train = x_train.reshape(60000, 3072)\n",
    "# x_test = x_test.reshape(10000, 3072)\n",
    "# x_train = train_data\n",
    "# x_test = test_data\n",
    "x_train = x_train.astype('float32')\n",
    "x_test = x_test.astype('float32')\n",
    "x_train /= 255\n",
    "x_test /= 255\n",
    "print(x_train.shape[0], 'train samples')\n",
    "print(x_test.shape[0], 'test samples')"
   ]
  },
  {
   "cell_type": "code",
   "execution_count": 10,
   "metadata": {},
   "outputs": [],
   "source": [
    "num_classes = 10"
   ]
  },
  {
   "cell_type": "code",
   "execution_count": 11,
   "metadata": {},
   "outputs": [],
   "source": [
    "y_train = keras.utils.to_categorical(y_train, num_classes)\n",
    "y_test = keras.utils.to_categorical(y_test, num_classes)"
   ]
  },
  {
   "cell_type": "markdown",
   "metadata": {},
   "source": [
    "**The following configuration is the reference standard to evaluate model**\n",
    "\n",
    "**1. No of epochs: 20**\n",
    "\n",
    "**2. Batch size: 128**\n",
    "\n",
    "**3. Network configuration**\n",
    "\n",
    "    a. Number of neurons in a layer: 512\n",
    "    \n",
    "    b. Number of layers: 3\n",
    "    \n",
    "**4. Learning rate: 0.001**\n",
    "\n",
    "**5. Activation functions: relu**\n",
    "\n",
    "**6. Dropout rates: 0.2**"
   ]
  },
  {
   "cell_type": "code",
   "execution_count": 12,
   "metadata": {},
   "outputs": [],
   "source": [
    "batch_size = 128\n",
    "epochs = 20"
   ]
  },
  {
   "cell_type": "code",
   "execution_count": 13,
   "metadata": {},
   "outputs": [],
   "source": [
    "model = Sequential()\n",
    "model.add(Dense(512, activation='relu', input_shape=(3072,)))\n",
    "model.add(Dropout(0.2))\n",
    "model.add(Dense(512, activation='relu'))\n",
    "model.add(Dropout(0.2))\n",
    "model.add(Dense(num_classes, activation='softmax'))"
   ]
  },
  {
   "cell_type": "code",
   "execution_count": 14,
   "metadata": {},
   "outputs": [
    {
     "name": "stdout",
     "output_type": "stream",
     "text": [
      "_________________________________________________________________\n",
      "Layer (type)                 Output Shape              Param #   \n",
      "=================================================================\n",
      "dense_1 (Dense)              (None, 512)               1573376   \n",
      "_________________________________________________________________\n",
      "dropout_1 (Dropout)          (None, 512)               0         \n",
      "_________________________________________________________________\n",
      "dense_2 (Dense)              (None, 512)               262656    \n",
      "_________________________________________________________________\n",
      "dropout_2 (Dropout)          (None, 512)               0         \n",
      "_________________________________________________________________\n",
      "dense_3 (Dense)              (None, 10)                5130      \n",
      "=================================================================\n",
      "Total params: 1,841,162\n",
      "Trainable params: 1,841,162\n",
      "Non-trainable params: 0\n",
      "_________________________________________________________________\n"
     ]
    }
   ],
   "source": [
    "model.summary()"
   ]
  },
  {
   "cell_type": "code",
   "execution_count": 15,
   "metadata": {},
   "outputs": [],
   "source": [
    "# initiate RMSprop optimizer\n",
    "opt = keras.optimizers.rmsprop(lr=0.001, decay=1e-6)"
   ]
  },
  {
   "cell_type": "code",
   "execution_count": 16,
   "metadata": {},
   "outputs": [],
   "source": [
    "model.compile(loss='categorical_crossentropy',\n",
    "              optimizer=opt,\n",
    "              metrics=['accuracy'])"
   ]
  },
  {
   "cell_type": "code",
   "execution_count": 17,
   "metadata": {
    "scrolled": true
   },
   "outputs": [
    {
     "name": "stdout",
     "output_type": "stream",
     "text": [
      "Train on 50000 samples, validate on 10000 samples\n",
      "Epoch 1/20\n",
      "50000/50000 [==============================] - 17s 333us/step - loss: 2.2591 - acc: 0.2460 - val_loss: 1.8294 - val_acc: 0.3505\n",
      "Epoch 2/20\n",
      "50000/50000 [==============================] - 17s 334us/step - loss: 1.8532 - acc: 0.3316 - val_loss: 1.7354 - val_acc: 0.3791\n",
      "Epoch 3/20\n",
      "50000/50000 [==============================] - 17s 340us/step - loss: 1.7854 - acc: 0.3597 - val_loss: 1.7579 - val_acc: 0.3618\n",
      "Epoch 4/20\n",
      "50000/50000 [==============================] - 18s 352us/step - loss: 1.7367 - acc: 0.3770 - val_loss: 1.6481 - val_acc: 0.4240\n",
      "Epoch 5/20\n",
      "50000/50000 [==============================] - 16s 318us/step - loss: 1.6952 - acc: 0.3926 - val_loss: 1.5977 - val_acc: 0.4333\n",
      "Epoch 6/20\n",
      "50000/50000 [==============================] - 16s 314us/step - loss: 1.6703 - acc: 0.4049 - val_loss: 1.6218 - val_acc: 0.4177\n",
      "Epoch 7/20\n",
      "50000/50000 [==============================] - 15s 309us/step - loss: 1.6449 - acc: 0.4122 - val_loss: 1.5566 - val_acc: 0.4445\n",
      "Epoch 8/20\n",
      "50000/50000 [==============================] - 16s 328us/step - loss: 1.6275 - acc: 0.4194 - val_loss: 1.6408 - val_acc: 0.4121\n",
      "Epoch 9/20\n",
      "50000/50000 [==============================] - 16s 325us/step - loss: 1.6131 - acc: 0.4250 - val_loss: 1.5671 - val_acc: 0.4396\n",
      "Epoch 10/20\n",
      "50000/50000 [==============================] - 16s 325us/step - loss: 1.5964 - acc: 0.4289 - val_loss: 1.5649 - val_acc: 0.4296\n",
      "Epoch 11/20\n",
      "50000/50000 [==============================] - 16s 330us/step - loss: 1.5841 - acc: 0.4314 - val_loss: 1.5615 - val_acc: 0.4557\n",
      "Epoch 12/20\n",
      "50000/50000 [==============================] - 18s 360us/step - loss: 1.5709 - acc: 0.4416 - val_loss: 1.5031 - val_acc: 0.4748\n",
      "Epoch 13/20\n",
      "50000/50000 [==============================] - 17s 342us/step - loss: 1.5633 - acc: 0.4411 - val_loss: 1.5385 - val_acc: 0.4552\n",
      "Epoch 14/20\n",
      "50000/50000 [==============================] - 17s 342us/step - loss: 1.5571 - acc: 0.4447 - val_loss: 1.6056 - val_acc: 0.4250\n",
      "Epoch 15/20\n",
      "50000/50000 [==============================] - 17s 344us/step - loss: 1.5487 - acc: 0.4465 - val_loss: 1.5766 - val_acc: 0.4375\n",
      "Epoch 16/20\n",
      "50000/50000 [==============================] - 16s 327us/step - loss: 1.5402 - acc: 0.4518 - val_loss: 1.5323 - val_acc: 0.4564\n",
      "Epoch 17/20\n",
      "50000/50000 [==============================] - 16s 329us/step - loss: 1.5305 - acc: 0.4569 - val_loss: 1.5074 - val_acc: 0.4757\n",
      "Epoch 18/20\n",
      "50000/50000 [==============================] - 17s 335us/step - loss: 1.5281 - acc: 0.4554 - val_loss: 1.5365 - val_acc: 0.4581\n",
      "Epoch 19/20\n",
      "50000/50000 [==============================] - 18s 352us/step - loss: 1.5208 - acc: 0.4565 - val_loss: 1.5954 - val_acc: 0.4224\n",
      "Epoch 20/20\n",
      "50000/50000 [==============================] - 16s 322us/step - loss: 1.5133 - acc: 0.4614 - val_loss: 1.5354 - val_acc: 0.4586\n"
     ]
    }
   ],
   "source": [
    "history = model.fit(x_train, y_train,\n",
    "                    batch_size=batch_size,\n",
    "                    epochs=epochs,\n",
    "                    verbose=1,\n",
    "                    validation_data=(x_test, y_test))"
   ]
  },
  {
   "cell_type": "code",
   "execution_count": 18,
   "metadata": {},
   "outputs": [],
   "source": [
    "score = model.evaluate(x_test, y_test, verbose=0)"
   ]
  },
  {
   "cell_type": "code",
   "execution_count": 19,
   "metadata": {},
   "outputs": [
    {
     "name": "stdout",
     "output_type": "stream",
     "text": [
      "Test loss: 1.53538006916\n",
      "Test accuracy: 0.4586\n"
     ]
    }
   ],
   "source": [
    "print('Test loss:', score[0])\n",
    "print('Test accuracy:', score[1])"
   ]
  },
  {
   "cell_type": "markdown",
   "metadata": {},
   "source": [
    "**Change No. of epochs from 20 to 40**"
   ]
  },
  {
   "cell_type": "code",
   "execution_count": 21,
   "metadata": {},
   "outputs": [
    {
     "name": "stdout",
     "output_type": "stream",
     "text": [
      "Train on 50000 samples, validate on 10000 samples\n",
      "Epoch 1/40\n",
      "50000/50000 [==============================] - 17s 343us/step - loss: 2.3424 - acc: 0.2480 - val_loss: 1.9799 - val_acc: 0.2677\n",
      "Epoch 2/40\n",
      "50000/50000 [==============================] - 16s 316us/step - loss: 1.8624 - acc: 0.3260 - val_loss: 1.8011 - val_acc: 0.3428\n",
      "Epoch 3/40\n",
      "50000/50000 [==============================] - 17s 336us/step - loss: 1.7803 - acc: 0.3591 - val_loss: 1.6997 - val_acc: 0.3878\n",
      "Epoch 4/40\n",
      "50000/50000 [==============================] - 18s 356us/step - loss: 1.7282 - acc: 0.3795 - val_loss: 1.6486 - val_acc: 0.4228\n",
      "Epoch 5/40\n",
      "50000/50000 [==============================] - 18s 359us/step - loss: 1.6968 - acc: 0.3932 - val_loss: 1.6277 - val_acc: 0.4169\n",
      "Epoch 6/40\n",
      "50000/50000 [==============================] - 19s 374us/step - loss: 1.6651 - acc: 0.4048 - val_loss: 1.5783 - val_acc: 0.4488\n",
      "Epoch 7/40\n",
      "50000/50000 [==============================] - 17s 338us/step - loss: 1.6457 - acc: 0.4142 - val_loss: 1.6028 - val_acc: 0.4377\n",
      "Epoch 8/40\n",
      "50000/50000 [==============================] - 19s 374us/step - loss: 1.6302 - acc: 0.4179 - val_loss: 1.6070 - val_acc: 0.4381\n",
      "Epoch 9/40\n",
      "50000/50000 [==============================] - 17s 331us/step - loss: 1.6135 - acc: 0.4240 - val_loss: 1.5542 - val_acc: 0.4559\n",
      "Epoch 10/40\n",
      "50000/50000 [==============================] - 15s 300us/step - loss: 1.5962 - acc: 0.4297 - val_loss: 1.5723 - val_acc: 0.4376\n",
      "Epoch 11/40\n",
      "50000/50000 [==============================] - 13s 270us/step - loss: 1.5862 - acc: 0.4325 - val_loss: 1.5649 - val_acc: 0.4416\n",
      "Epoch 12/40\n",
      "50000/50000 [==============================] - 11s 228us/step - loss: 1.5764 - acc: 0.4348 - val_loss: 1.5194 - val_acc: 0.4686\n",
      "Epoch 13/40\n",
      "50000/50000 [==============================] - 12s 243us/step - loss: 1.5632 - acc: 0.4410 - val_loss: 1.5806 - val_acc: 0.4490\n",
      "Epoch 14/40\n",
      "50000/50000 [==============================] - 11s 225us/step - loss: 1.5598 - acc: 0.4449 - val_loss: 1.5027 - val_acc: 0.4717\n",
      "Epoch 15/40\n",
      "50000/50000 [==============================] - 11s 226us/step - loss: 1.5482 - acc: 0.4474 - val_loss: 1.5548 - val_acc: 0.4450\n",
      "Epoch 16/40\n",
      "50000/50000 [==============================] - 11s 216us/step - loss: 1.5418 - acc: 0.4518 - val_loss: 1.5636 - val_acc: 0.4513\n",
      "Epoch 17/40\n",
      "50000/50000 [==============================] - 11s 226us/step - loss: 1.5405 - acc: 0.4540 - val_loss: 1.5533 - val_acc: 0.4511\n",
      "Epoch 18/40\n",
      "50000/50000 [==============================] - 11s 227us/step - loss: 1.5252 - acc: 0.4580 - val_loss: 1.5195 - val_acc: 0.4619\n",
      "Epoch 19/40\n",
      "50000/50000 [==============================] - 11s 221us/step - loss: 1.5204 - acc: 0.4579 - val_loss: 1.5304 - val_acc: 0.4623\n",
      "Epoch 20/40\n",
      "50000/50000 [==============================] - 11s 227us/step - loss: 1.5154 - acc: 0.4615 - val_loss: 1.5005 - val_acc: 0.4719\n",
      "Epoch 21/40\n",
      "50000/50000 [==============================] - 12s 243us/step - loss: 1.5130 - acc: 0.4616 - val_loss: 1.5255 - val_acc: 0.4624\n",
      "Epoch 22/40\n",
      "50000/50000 [==============================] - 12s 242us/step - loss: 1.5081 - acc: 0.4652 - val_loss: 1.5926 - val_acc: 0.4447\n",
      "Epoch 23/40\n",
      "50000/50000 [==============================] - 14s 285us/step - loss: 1.5009 - acc: 0.4676 - val_loss: 1.4669 - val_acc: 0.4875\n",
      "Epoch 24/40\n",
      "50000/50000 [==============================] - 14s 279us/step - loss: 1.4987 - acc: 0.4661 - val_loss: 1.5437 - val_acc: 0.4728\n",
      "Epoch 25/40\n",
      "50000/50000 [==============================] - 14s 279us/step - loss: 1.4912 - acc: 0.4721 - val_loss: 1.4776 - val_acc: 0.4770\n",
      "Epoch 26/40\n",
      "50000/50000 [==============================] - 14s 278us/step - loss: 1.4898 - acc: 0.4695 - val_loss: 1.4817 - val_acc: 0.4798\n",
      "Epoch 27/40\n",
      "50000/50000 [==============================] - 14s 279us/step - loss: 1.4795 - acc: 0.4745 - val_loss: 1.4993 - val_acc: 0.4694\n",
      "Epoch 28/40\n",
      "50000/50000 [==============================] - 14s 278us/step - loss: 1.4810 - acc: 0.4745 - val_loss: 1.4823 - val_acc: 0.4880\n",
      "Epoch 29/40\n",
      "50000/50000 [==============================] - 14s 279us/step - loss: 1.4764 - acc: 0.4740 - val_loss: 1.5591 - val_acc: 0.4427\n",
      "Epoch 30/40\n",
      "50000/50000 [==============================] - 14s 277us/step - loss: 1.4784 - acc: 0.4757 - val_loss: 1.4888 - val_acc: 0.4835\n",
      "Epoch 31/40\n",
      "50000/50000 [==============================] - 14s 278us/step - loss: 1.4700 - acc: 0.4796 - val_loss: 1.4849 - val_acc: 0.4865\n",
      "Epoch 32/40\n",
      "50000/50000 [==============================] - 14s 279us/step - loss: 1.4709 - acc: 0.4774 - val_loss: 1.4758 - val_acc: 0.4945\n",
      "Epoch 33/40\n",
      "50000/50000 [==============================] - 13s 267us/step - loss: 1.4593 - acc: 0.4837 - val_loss: 1.4926 - val_acc: 0.4776\n",
      "Epoch 34/40\n",
      "50000/50000 [==============================] - 12s 239us/step - loss: 1.4616 - acc: 0.4802 - val_loss: 1.4979 - val_acc: 0.4722\n",
      "Epoch 35/40\n",
      "50000/50000 [==============================] - 12s 238us/step - loss: 1.4633 - acc: 0.4805 - val_loss: 1.4442 - val_acc: 0.4945\n",
      "Epoch 36/40\n",
      "50000/50000 [==============================] - 12s 238us/step - loss: 1.4630 - acc: 0.4858 - val_loss: 1.4684 - val_acc: 0.4840\n",
      "Epoch 37/40\n",
      "50000/50000 [==============================] - 12s 239us/step - loss: 1.4516 - acc: 0.4861 - val_loss: 1.4826 - val_acc: 0.4728\n",
      "Epoch 38/40\n",
      "50000/50000 [==============================] - 13s 255us/step - loss: 1.4482 - acc: 0.4918 - val_loss: 1.4512 - val_acc: 0.5007\n",
      "Epoch 39/40\n",
      "50000/50000 [==============================] - 12s 243us/step - loss: 1.4469 - acc: 0.4893 - val_loss: 1.4755 - val_acc: 0.4921\n",
      "Epoch 40/40\n",
      "50000/50000 [==============================] - 12s 244us/step - loss: 1.4481 - acc: 0.4914 - val_loss: 1.4991 - val_acc: 0.4690\n"
     ]
    }
   ],
   "source": [
    "model_epochs = Sequential()\n",
    "model_epochs.add(Dense(512, activation='relu', input_shape=(3072,)))\n",
    "model_epochs.add(Dropout(0.2))\n",
    "model_epochs.add(Dense(512, activation='relu'))\n",
    "model_epochs.add(Dropout(0.2))\n",
    "model_epochs.add(Dense(num_classes, activation='softmax'))\n",
    "\n",
    "model_epochs.compile(loss='categorical_crossentropy',\n",
    "              optimizer=opt,\n",
    "              metrics=['accuracy'])\n",
    "\n",
    "history_epochs = model_epochs.fit(x_train, y_train,\n",
    "                    batch_size=batch_size,\n",
    "                    epochs=40,\n",
    "                    verbose=1,\n",
    "                    validation_data=(x_test, y_test))"
   ]
  },
  {
   "cell_type": "code",
   "execution_count": 22,
   "metadata": {},
   "outputs": [
    {
     "name": "stdout",
     "output_type": "stream",
     "text": [
      "Test loss: 1.49912586746\n",
      "Test accuracy: 0.469\n"
     ]
    }
   ],
   "source": [
    "score = model_epochs.evaluate(x_test, y_test, verbose=0)\n",
    "print('Test loss:', score[0])\n",
    "print('Test accuracy:', score[1])"
   ]
  },
  {
   "cell_type": "markdown",
   "metadata": {},
   "source": [
    "**The accuracy increased and the loss decreased. So that the more epochs, the better model is.**"
   ]
  },
  {
   "cell_type": "markdown",
   "metadata": {},
   "source": [
    "**Change batch size from 128 to 256**"
   ]
  },
  {
   "cell_type": "code",
   "execution_count": 24,
   "metadata": {},
   "outputs": [
    {
     "name": "stdout",
     "output_type": "stream",
     "text": [
      "Train on 50000 samples, validate on 10000 samples\n",
      "Epoch 1/20\n",
      "50000/50000 [==============================] - 8s 165us/step - loss: 2.4696 - acc: 0.2272 - val_loss: 2.0657 - val_acc: 0.2386\n",
      "Epoch 2/20\n",
      "50000/50000 [==============================] - 8s 153us/step - loss: 1.9063 - acc: 0.3096 - val_loss: 1.9191 - val_acc: 0.2892\n",
      "Epoch 3/20\n",
      "50000/50000 [==============================] - 7s 149us/step - loss: 1.8224 - acc: 0.3422 - val_loss: 2.2275 - val_acc: 0.2301\n",
      "Epoch 4/20\n",
      "50000/50000 [==============================] - 7s 142us/step - loss: 1.7775 - acc: 0.3591 - val_loss: 1.8094 - val_acc: 0.3449\n",
      "Epoch 5/20\n",
      "50000/50000 [==============================] - 8s 154us/step - loss: 1.7311 - acc: 0.3818 - val_loss: 1.6285 - val_acc: 0.4239\n",
      "Epoch 6/20\n",
      "50000/50000 [==============================] - 8s 157us/step - loss: 1.6988 - acc: 0.3928 - val_loss: 1.6751 - val_acc: 0.3925\n",
      "Epoch 7/20\n",
      "50000/50000 [==============================] - 7s 146us/step - loss: 1.6677 - acc: 0.4044 - val_loss: 1.6767 - val_acc: 0.4045\n",
      "Epoch 8/20\n",
      "50000/50000 [==============================] - 7s 143us/step - loss: 1.6502 - acc: 0.4090 - val_loss: 1.5879 - val_acc: 0.4389\n",
      "Epoch 9/20\n",
      "50000/50000 [==============================] - 7s 144us/step - loss: 1.6214 - acc: 0.4206 - val_loss: 1.7096 - val_acc: 0.3968\n",
      "Epoch 10/20\n",
      "50000/50000 [==============================] - 7s 144us/step - loss: 1.6072 - acc: 0.4255 - val_loss: 1.6199 - val_acc: 0.4241\n",
      "Epoch 11/20\n",
      "50000/50000 [==============================] - 7s 144us/step - loss: 1.5921 - acc: 0.4323 - val_loss: 1.5819 - val_acc: 0.4293\n",
      "Epoch 12/20\n",
      "50000/50000 [==============================] - 7s 143us/step - loss: 1.5688 - acc: 0.4389 - val_loss: 1.5639 - val_acc: 0.4328\n",
      "Epoch 13/20\n",
      "50000/50000 [==============================] - 7s 144us/step - loss: 1.5618 - acc: 0.4442 - val_loss: 1.5265 - val_acc: 0.4638\n",
      "Epoch 14/20\n",
      "50000/50000 [==============================] - 7s 144us/step - loss: 1.5469 - acc: 0.4467 - val_loss: 1.5004 - val_acc: 0.4801\n",
      "Epoch 15/20\n",
      "50000/50000 [==============================] - 7s 150us/step - loss: 1.5343 - acc: 0.4514 - val_loss: 1.5768 - val_acc: 0.4504\n",
      "Epoch 16/20\n",
      "50000/50000 [==============================] - 7s 146us/step - loss: 1.5238 - acc: 0.4549 - val_loss: 1.5216 - val_acc: 0.4657\n",
      "Epoch 17/20\n",
      "50000/50000 [==============================] - 8s 161us/step - loss: 1.5148 - acc: 0.4589 - val_loss: 1.5160 - val_acc: 0.4585\n",
      "Epoch 18/20\n",
      "50000/50000 [==============================] - 8s 158us/step - loss: 1.5066 - acc: 0.4588 - val_loss: 1.5423 - val_acc: 0.4519\n",
      "Epoch 19/20\n",
      "50000/50000 [==============================] - 9s 171us/step - loss: 1.4961 - acc: 0.4645 - val_loss: 1.4765 - val_acc: 0.4731\n",
      "Epoch 20/20\n",
      "50000/50000 [==============================] - 8s 158us/step - loss: 1.4863 - acc: 0.4685 - val_loss: 1.5599 - val_acc: 0.4400\n"
     ]
    }
   ],
   "source": [
    "model_batch = Sequential()\n",
    "model_batch.add(Dense(512, activation='relu', input_shape=(3072,)))\n",
    "model_batch.add(Dropout(0.2))\n",
    "model_batch.add(Dense(512, activation='relu'))\n",
    "model_batch.add(Dropout(0.2))\n",
    "model_batch.add(Dense(num_classes, activation='softmax'))\n",
    "\n",
    "model_batch.compile(loss='categorical_crossentropy',\n",
    "              optimizer=opt,\n",
    "              metrics=['accuracy'])\n",
    "\n",
    "history_batch = model_batch.fit(x_train, y_train,\n",
    "                    batch_size=256,\n",
    "                    epochs=epochs,\n",
    "                    verbose=1,\n",
    "                    validation_data=(x_test, y_test))"
   ]
  },
  {
   "cell_type": "code",
   "execution_count": 25,
   "metadata": {},
   "outputs": [
    {
     "name": "stdout",
     "output_type": "stream",
     "text": [
      "Test loss: 1.5599057848\n",
      "Test accuracy: 0.44\n"
     ]
    }
   ],
   "source": [
    "score = model_batch.evaluate(x_test, y_test, verbose=0)\n",
    "print('Test loss:', score[0])\n",
    "print('Test accuracy:', score[1])"
   ]
  },
  {
   "cell_type": "markdown",
   "metadata": {},
   "source": [
    "**The accuracy decreased and the loss increased.**"
   ]
  },
  {
   "cell_type": "markdown",
   "metadata": {},
   "source": [
    "**Change number of neurons in a layer from 512 to 1024**"
   ]
  },
  {
   "cell_type": "code",
   "execution_count": 26,
   "metadata": {},
   "outputs": [
    {
     "name": "stdout",
     "output_type": "stream",
     "text": [
      "Train on 50000 samples, validate on 10000 samples\n",
      "Epoch 1/20\n",
      "50000/50000 [==============================] - 27s 532us/step - loss: 5.6695 - acc: 0.1977 - val_loss: 1.8763 - val_acc: 0.3015\n",
      "Epoch 2/20\n",
      "50000/50000 [==============================] - 25s 491us/step - loss: 1.8754 - acc: 0.3217 - val_loss: 1.7655 - val_acc: 0.3665\n",
      "Epoch 3/20\n",
      "50000/50000 [==============================] - 25s 490us/step - loss: 1.7879 - acc: 0.3574 - val_loss: 1.6971 - val_acc: 0.3996\n",
      "Epoch 4/20\n",
      "50000/50000 [==============================] - 30s 609us/step - loss: 1.7354 - acc: 0.3791 - val_loss: 1.6436 - val_acc: 0.4326\n",
      "Epoch 5/20\n",
      "50000/50000 [==============================] - 34s 673us/step - loss: 1.6930 - acc: 0.3964 - val_loss: 1.6987 - val_acc: 0.3902\n",
      "Epoch 6/20\n",
      "50000/50000 [==============================] - 33s 660us/step - loss: 1.6730 - acc: 0.4018 - val_loss: 1.6528 - val_acc: 0.4205\n",
      "Epoch 7/20\n",
      "50000/50000 [==============================] - 33s 658us/step - loss: 1.6496 - acc: 0.4087 - val_loss: 1.5661 - val_acc: 0.4555\n",
      "Epoch 8/20\n",
      "50000/50000 [==============================] - 33s 664us/step - loss: 1.6320 - acc: 0.4171 - val_loss: 1.6076 - val_acc: 0.4229\n",
      "Epoch 9/20\n",
      "50000/50000 [==============================] - 33s 657us/step - loss: 1.6166 - acc: 0.4235 - val_loss: 1.5547 - val_acc: 0.4664\n",
      "Epoch 10/20\n",
      "50000/50000 [==============================] - 33s 659us/step - loss: 1.6007 - acc: 0.4285 - val_loss: 1.5229 - val_acc: 0.4686\n",
      "Epoch 11/20\n",
      "50000/50000 [==============================] - 34s 681us/step - loss: 1.5895 - acc: 0.4337 - val_loss: 1.5397 - val_acc: 0.4541\n",
      "Epoch 12/20\n",
      "50000/50000 [==============================] - 33s 660us/step - loss: 1.5781 - acc: 0.4360 - val_loss: 1.5876 - val_acc: 0.4339\n",
      "Epoch 13/20\n",
      "50000/50000 [==============================] - 33s 658us/step - loss: 1.5711 - acc: 0.4402 - val_loss: 1.5761 - val_acc: 0.4538\n",
      "Epoch 14/20\n",
      "50000/50000 [==============================] - 33s 662us/step - loss: 1.5614 - acc: 0.4441 - val_loss: 1.5627 - val_acc: 0.4433\n",
      "Epoch 15/20\n",
      "50000/50000 [==============================] - 33s 654us/step - loss: 1.5599 - acc: 0.4430 - val_loss: 1.5133 - val_acc: 0.4677\n",
      "Epoch 16/20\n",
      "50000/50000 [==============================] - 33s 655us/step - loss: 1.5449 - acc: 0.4500 - val_loss: 1.5157 - val_acc: 0.4625\n",
      "Epoch 17/20\n",
      "50000/50000 [==============================] - 33s 656us/step - loss: 1.5433 - acc: 0.4514 - val_loss: 1.5712 - val_acc: 0.4408\n",
      "Epoch 18/20\n",
      "50000/50000 [==============================] - 33s 668us/step - loss: 1.5341 - acc: 0.4560 - val_loss: 1.5243 - val_acc: 0.4674\n",
      "Epoch 19/20\n",
      "50000/50000 [==============================] - 33s 658us/step - loss: 1.5315 - acc: 0.4543 - val_loss: 1.5113 - val_acc: 0.4794\n",
      "Epoch 20/20\n",
      "50000/50000 [==============================] - 33s 655us/step - loss: 1.5212 - acc: 0.4619 - val_loss: 1.4897 - val_acc: 0.4825\n"
     ]
    }
   ],
   "source": [
    "model_neuron = Sequential()\n",
    "model_neuron.add(Dense(1024, activation='relu', input_shape=(3072,)))\n",
    "model_neuron.add(Dropout(0.2))\n",
    "model_neuron.add(Dense(1024, activation='relu'))\n",
    "model_neuron.add(Dropout(0.2))\n",
    "model_neuron.add(Dense(num_classes, activation='softmax'))\n",
    "\n",
    "model_neuron.compile(loss='categorical_crossentropy',\n",
    "              optimizer=opt,\n",
    "              metrics=['accuracy'])\n",
    "\n",
    "history_neuron = model_neuron.fit(x_train, y_train,\n",
    "                    batch_size=batch_size,\n",
    "                    epochs=epochs,\n",
    "                    verbose=1,\n",
    "                    validation_data=(x_test, y_test))"
   ]
  },
  {
   "cell_type": "code",
   "execution_count": 27,
   "metadata": {},
   "outputs": [
    {
     "name": "stdout",
     "output_type": "stream",
     "text": [
      "Test loss: 1.48965818634\n",
      "Test accuracy: 0.4825\n"
     ]
    }
   ],
   "source": [
    "score = model_neuron.evaluate(x_test, y_test, verbose=0)\n",
    "print('Test loss:', score[0])\n",
    "print('Test accuracy:', score[1])"
   ]
  },
  {
   "cell_type": "markdown",
   "metadata": {},
   "source": [
    "**The accuracy increased. So that the more neurons, the better model is.**"
   ]
  },
  {
   "cell_type": "markdown",
   "metadata": {},
   "source": [
    "**Change number of layers from 3 to 5**"
   ]
  },
  {
   "cell_type": "code",
   "execution_count": 28,
   "metadata": {},
   "outputs": [
    {
     "name": "stdout",
     "output_type": "stream",
     "text": [
      "Train on 50000 samples, validate on 10000 samples\n",
      "Epoch 1/20\n",
      "50000/50000 [==============================] - 16s 320us/step - loss: 2.5746 - acc: 0.2260 - val_loss: 2.0433 - val_acc: 0.2553\n",
      "Epoch 2/20\n",
      "50000/50000 [==============================] - 15s 294us/step - loss: 1.9015 - acc: 0.3117 - val_loss: 1.8871 - val_acc: 0.3123\n",
      "Epoch 3/20\n",
      "50000/50000 [==============================] - 19s 387us/step - loss: 1.8245 - acc: 0.3424 - val_loss: 1.7960 - val_acc: 0.3572\n",
      "Epoch 4/20\n",
      "50000/50000 [==============================] - 20s 397us/step - loss: 1.7737 - acc: 0.3638 - val_loss: 1.7513 - val_acc: 0.3531\n",
      "Epoch 5/20\n",
      "50000/50000 [==============================] - 20s 400us/step - loss: 1.7433 - acc: 0.3776 - val_loss: 1.6924 - val_acc: 0.4054\n",
      "Epoch 6/20\n",
      "50000/50000 [==============================] - 20s 398us/step - loss: 1.7213 - acc: 0.3847 - val_loss: 1.6415 - val_acc: 0.4253\n",
      "Epoch 7/20\n",
      "50000/50000 [==============================] - 20s 396us/step - loss: 1.7004 - acc: 0.3911 - val_loss: 1.6680 - val_acc: 0.4057\n",
      "Epoch 8/20\n",
      "50000/50000 [==============================] - 20s 404us/step - loss: 1.6813 - acc: 0.3960 - val_loss: 1.6415 - val_acc: 0.4267\n",
      "Epoch 9/20\n",
      "50000/50000 [==============================] - 22s 432us/step - loss: 1.6675 - acc: 0.4036 - val_loss: 1.5844 - val_acc: 0.4321\n",
      "Epoch 10/20\n",
      "50000/50000 [==============================] - 21s 415us/step - loss: 1.6550 - acc: 0.4115 - val_loss: 1.6477 - val_acc: 0.4080\n",
      "Epoch 11/20\n",
      "50000/50000 [==============================] - 21s 412us/step - loss: 1.6564 - acc: 0.4114 - val_loss: 1.6020 - val_acc: 0.4485\n",
      "Epoch 12/20\n",
      "50000/50000 [==============================] - 20s 400us/step - loss: 1.6442 - acc: 0.4158 - val_loss: 1.6241 - val_acc: 0.4330\n",
      "Epoch 13/20\n",
      "50000/50000 [==============================] - 20s 401us/step - loss: 1.6391 - acc: 0.4175 - val_loss: 1.5893 - val_acc: 0.4478\n",
      "Epoch 14/20\n",
      "50000/50000 [==============================] - 21s 413us/step - loss: 1.6272 - acc: 0.4232 - val_loss: 1.5579 - val_acc: 0.4524\n",
      "Epoch 15/20\n",
      "50000/50000 [==============================] - 17s 334us/step - loss: 1.6223 - acc: 0.4242 - val_loss: 1.6400 - val_acc: 0.4278\n",
      "Epoch 16/20\n",
      "50000/50000 [==============================] - 16s 327us/step - loss: 1.6135 - acc: 0.4300 - val_loss: 1.5601 - val_acc: 0.4558\n",
      "Epoch 17/20\n",
      "50000/50000 [==============================] - 16s 313us/step - loss: 1.6116 - acc: 0.4312 - val_loss: 1.5530 - val_acc: 0.4583\n",
      "Epoch 18/20\n",
      "50000/50000 [==============================] - 17s 332us/step - loss: 1.6037 - acc: 0.4308 - val_loss: 1.5327 - val_acc: 0.4578\n",
      "Epoch 19/20\n",
      "50000/50000 [==============================] - 16s 316us/step - loss: 1.6062 - acc: 0.4348 - val_loss: 1.5481 - val_acc: 0.4552\n",
      "Epoch 20/20\n",
      "50000/50000 [==============================] - 16s 327us/step - loss: 1.5960 - acc: 0.4360 - val_loss: 1.5584 - val_acc: 0.4531\n"
     ]
    }
   ],
   "source": [
    "model_layer = Sequential()\n",
    "model_layer.add(Dense(512, activation='relu', input_shape=(3072,)))\n",
    "model_layer.add(Dropout(0.2))\n",
    "model_layer.add(Dense(512, activation='relu'))\n",
    "model_layer.add(Dropout(0.2))\n",
    "model_layer.add(Dense(512, activation='relu'))\n",
    "model_layer.add(Dropout(0.2))\n",
    "model_layer.add(Dense(512, activation='relu'))\n",
    "model_layer.add(Dropout(0.2))\n",
    "model_layer.add(Dense(num_classes, activation='softmax'))\n",
    "\n",
    "model_layer.compile(loss='categorical_crossentropy',\n",
    "              optimizer=opt,\n",
    "              metrics=['accuracy'])\n",
    "\n",
    "history_layer = model_layer.fit(x_train, y_train,\n",
    "                    batch_size=batch_size,\n",
    "                    epochs=epochs,\n",
    "                    verbose=1,\n",
    "                    validation_data=(x_test, y_test))"
   ]
  },
  {
   "cell_type": "code",
   "execution_count": 29,
   "metadata": {},
   "outputs": [
    {
     "name": "stdout",
     "output_type": "stream",
     "text": [
      "Test loss: 1.55837705841\n",
      "Test accuracy: 0.4531\n"
     ]
    }
   ],
   "source": [
    "score = model_layer.evaluate(x_test, y_test, verbose=0)\n",
    "print('Test loss:', score[0])\n",
    "print('Test accuracy:', score[1])"
   ]
  },
  {
   "cell_type": "markdown",
   "metadata": {},
   "source": [
    "**The accuracy decreased and the loss increased.**"
   ]
  },
  {
   "cell_type": "markdown",
   "metadata": {},
   "source": [
    "**Change learning rate from 0.001 to 0.0001**"
   ]
  },
  {
   "cell_type": "code",
   "execution_count": 30,
   "metadata": {},
   "outputs": [
    {
     "name": "stdout",
     "output_type": "stream",
     "text": [
      "Train on 50000 samples, validate on 10000 samples\n",
      "Epoch 1/20\n",
      "50000/50000 [==============================] - 13s 254us/step - loss: 1.9506 - acc: 0.2983 - val_loss: 1.7774 - val_acc: 0.3687\n",
      "Epoch 2/20\n",
      "50000/50000 [==============================] - 12s 249us/step - loss: 1.7659 - acc: 0.3692 - val_loss: 1.6691 - val_acc: 0.4055\n",
      "Epoch 3/20\n",
      "50000/50000 [==============================] - 12s 237us/step - loss: 1.6852 - acc: 0.4003 - val_loss: 1.6244 - val_acc: 0.4291\n",
      "Epoch 4/20\n",
      "50000/50000 [==============================] - 12s 243us/step - loss: 1.6371 - acc: 0.4175 - val_loss: 1.5623 - val_acc: 0.4426\n",
      "Epoch 5/20\n",
      "50000/50000 [==============================] - 13s 252us/step - loss: 1.5937 - acc: 0.4351 - val_loss: 1.6207 - val_acc: 0.4343\n",
      "Epoch 6/20\n",
      "50000/50000 [==============================] - 12s 240us/step - loss: 1.5618 - acc: 0.4459 - val_loss: 1.5355 - val_acc: 0.4572\n",
      "Epoch 7/20\n",
      "50000/50000 [==============================] - 12s 237us/step - loss: 1.5345 - acc: 0.4583 - val_loss: 1.4723 - val_acc: 0.4775\n",
      "Epoch 8/20\n",
      "50000/50000 [==============================] - 13s 254us/step - loss: 1.5078 - acc: 0.4671 - val_loss: 1.4803 - val_acc: 0.4682\n",
      "Epoch 9/20\n",
      "50000/50000 [==============================] - 12s 232us/step - loss: 1.4827 - acc: 0.4749 - val_loss: 1.5006 - val_acc: 0.4721\n",
      "Epoch 10/20\n",
      "50000/50000 [==============================] - 12s 234us/step - loss: 1.4604 - acc: 0.4829 - val_loss: 1.4559 - val_acc: 0.4868\n",
      "Epoch 11/20\n",
      "50000/50000 [==============================] - 12s 234us/step - loss: 1.4394 - acc: 0.4914 - val_loss: 1.4772 - val_acc: 0.4737\n",
      "Epoch 12/20\n",
      "50000/50000 [==============================] - 12s 233us/step - loss: 1.4213 - acc: 0.4975 - val_loss: 1.4614 - val_acc: 0.4778\n",
      "Epoch 13/20\n",
      "50000/50000 [==============================] - 15s 301us/step - loss: 1.4027 - acc: 0.5052 - val_loss: 1.4025 - val_acc: 0.5026\n",
      "Epoch 14/20\n",
      "50000/50000 [==============================] - 15s 298us/step - loss: 1.3854 - acc: 0.5088 - val_loss: 1.4168 - val_acc: 0.5048\n",
      "Epoch 15/20\n",
      "50000/50000 [==============================] - 15s 305us/step - loss: 1.3707 - acc: 0.5163 - val_loss: 1.4397 - val_acc: 0.4950\n",
      "Epoch 16/20\n",
      "50000/50000 [==============================] - 15s 296us/step - loss: 1.3577 - acc: 0.5217 - val_loss: 1.3914 - val_acc: 0.5126\n",
      "Epoch 17/20\n",
      "50000/50000 [==============================] - 15s 293us/step - loss: 1.3378 - acc: 0.5292 - val_loss: 1.3720 - val_acc: 0.5110\n",
      "Epoch 18/20\n",
      "50000/50000 [==============================] - 15s 293us/step - loss: 1.3258 - acc: 0.5335 - val_loss: 1.3888 - val_acc: 0.5111\n",
      "Epoch 19/20\n",
      "50000/50000 [==============================] - 15s 293us/step - loss: 1.3101 - acc: 0.5391 - val_loss: 1.3842 - val_acc: 0.5052\n",
      "Epoch 20/20\n",
      "50000/50000 [==============================] - 15s 295us/step - loss: 1.2959 - acc: 0.5430 - val_loss: 1.3518 - val_acc: 0.5204\n"
     ]
    }
   ],
   "source": [
    "opt_lr = keras.optimizers.rmsprop(lr=0.0001, decay=1e-6)\n",
    "\n",
    "model_lr = Sequential()\n",
    "model_lr.add(Dense(512, activation='relu', input_shape=(3072,)))\n",
    "model_lr.add(Dropout(0.2))\n",
    "model_lr.add(Dense(512, activation='relu'))\n",
    "model_lr.add(Dropout(0.2))\n",
    "model_lr.add(Dense(num_classes, activation='softmax'))\n",
    "\n",
    "model_lr.compile(loss='categorical_crossentropy',\n",
    "              optimizer=opt_lr,\n",
    "              metrics=['accuracy'])\n",
    "\n",
    "history_lr = model_lr.fit(x_train, y_train,\n",
    "                    batch_size=batch_size,\n",
    "                    epochs=epochs,\n",
    "                    verbose=1,\n",
    "                    validation_data=(x_test, y_test))"
   ]
  },
  {
   "cell_type": "code",
   "execution_count": 31,
   "metadata": {},
   "outputs": [
    {
     "name": "stdout",
     "output_type": "stream",
     "text": [
      "Test loss: 1.35183344975\n",
      "Test accuracy: 0.5204\n"
     ]
    }
   ],
   "source": [
    "score = model_lr.evaluate(x_test, y_test, verbose=0)\n",
    "print('Test loss:', score[0])\n",
    "print('Test accuracy:', score[1])"
   ]
  },
  {
   "cell_type": "markdown",
   "metadata": {},
   "source": [
    "**The accuracy increased and the loss decreased. The appropriate learning rate can increase the accuracy of model.**"
   ]
  },
  {
   "cell_type": "markdown",
   "metadata": {},
   "source": [
    "**Change activation function from relu to tanh**"
   ]
  },
  {
   "cell_type": "code",
   "execution_count": 32,
   "metadata": {},
   "outputs": [
    {
     "name": "stdout",
     "output_type": "stream",
     "text": [
      "Train on 50000 samples, validate on 10000 samples\n",
      "Epoch 1/20\n",
      "50000/50000 [==============================] - 15s 303us/step - loss: 2.3821 - acc: 0.1891 - val_loss: 2.2152 - val_acc: 0.2159\n",
      "Epoch 2/20\n",
      "50000/50000 [==============================] - 14s 289us/step - loss: 2.0632 - acc: 0.2700 - val_loss: 1.8969 - val_acc: 0.3266\n",
      "Epoch 3/20\n",
      "50000/50000 [==============================] - 14s 289us/step - loss: 1.9198 - acc: 0.3178 - val_loss: 1.8191 - val_acc: 0.3513\n",
      "Epoch 4/20\n",
      "50000/50000 [==============================] - 15s 292us/step - loss: 1.8370 - acc: 0.3455 - val_loss: 1.8553 - val_acc: 0.3465\n",
      "Epoch 5/20\n",
      "50000/50000 [==============================] - 15s 290us/step - loss: 1.7815 - acc: 0.3636 - val_loss: 1.7753 - val_acc: 0.3618\n",
      "Epoch 6/20\n",
      "50000/50000 [==============================] - 14s 288us/step - loss: 1.7301 - acc: 0.3810 - val_loss: 1.7621 - val_acc: 0.3639\n",
      "Epoch 7/20\n",
      "50000/50000 [==============================] - 14s 287us/step - loss: 1.6992 - acc: 0.3934 - val_loss: 1.6499 - val_acc: 0.4129\n",
      "Epoch 8/20\n",
      "50000/50000 [==============================] - 14s 288us/step - loss: 1.6728 - acc: 0.4002 - val_loss: 1.7317 - val_acc: 0.3713\n",
      "Epoch 9/20\n",
      "50000/50000 [==============================] - 14s 288us/step - loss: 1.6505 - acc: 0.4140 - val_loss: 1.6565 - val_acc: 0.3952\n",
      "Epoch 10/20\n",
      "50000/50000 [==============================] - 15s 291us/step - loss: 1.6428 - acc: 0.4147 - val_loss: 1.6033 - val_acc: 0.4234\n",
      "Epoch 11/20\n",
      "50000/50000 [==============================] - 15s 290us/step - loss: 1.6265 - acc: 0.4193 - val_loss: 1.6036 - val_acc: 0.4254\n",
      "Epoch 12/20\n",
      "50000/50000 [==============================] - 14s 288us/step - loss: 1.6108 - acc: 0.4242 - val_loss: 1.7172 - val_acc: 0.3929\n",
      "Epoch 13/20\n",
      "50000/50000 [==============================] - 15s 291us/step - loss: 1.6020 - acc: 0.4301 - val_loss: 1.6031 - val_acc: 0.4222\n",
      "Epoch 14/20\n",
      "50000/50000 [==============================] - 14s 290us/step - loss: 1.5900 - acc: 0.4305 - val_loss: 1.5935 - val_acc: 0.4330\n",
      "Epoch 15/20\n",
      "50000/50000 [==============================] - 14s 284us/step - loss: 1.5853 - acc: 0.4348 - val_loss: 1.6056 - val_acc: 0.4215\n",
      "Epoch 16/20\n",
      "50000/50000 [==============================] - 12s 243us/step - loss: 1.5753 - acc: 0.4397 - val_loss: 1.6686 - val_acc: 0.4034\n",
      "Epoch 17/20\n",
      "50000/50000 [==============================] - 12s 246us/step - loss: 1.5670 - acc: 0.4413 - val_loss: 1.5453 - val_acc: 0.4461\n",
      "Epoch 18/20\n",
      "50000/50000 [==============================] - 12s 248us/step - loss: 1.5646 - acc: 0.4417 - val_loss: 1.5299 - val_acc: 0.4553\n",
      "Epoch 19/20\n",
      "50000/50000 [==============================] - 12s 247us/step - loss: 1.5542 - acc: 0.4474 - val_loss: 1.6018 - val_acc: 0.4362\n",
      "Epoch 20/20\n",
      "50000/50000 [==============================] - 12s 248us/step - loss: 1.5547 - acc: 0.4459 - val_loss: 1.6531 - val_acc: 0.4056\n"
     ]
    }
   ],
   "source": [
    "model_activation = Sequential()\n",
    "model_activation.add(Dense(512, activation='tanh', input_shape=(3072,)))\n",
    "model_activation.add(Dropout(0.2))\n",
    "model_activation.add(Dense(512, activation='tanh'))\n",
    "model_activation.add(Dropout(0.2))\n",
    "model_activation.add(Dense(num_classes, activation='softmax'))\n",
    "\n",
    "model_activation.compile(loss='categorical_crossentropy',\n",
    "              optimizer=opt,\n",
    "              metrics=['accuracy'])\n",
    "\n",
    "history_activation = model_activation.fit(x_train, y_train,\n",
    "                    batch_size=batch_size,\n",
    "                    epochs=epochs,\n",
    "                    verbose=1,\n",
    "                    validation_data=(x_test, y_test))"
   ]
  },
  {
   "cell_type": "code",
   "execution_count": 33,
   "metadata": {},
   "outputs": [
    {
     "name": "stdout",
     "output_type": "stream",
     "text": [
      "Test loss: 1.65307708321\n",
      "Test accuracy: 0.4056\n"
     ]
    }
   ],
   "source": [
    "score = model_activation.evaluate(x_test, y_test, verbose=0)\n",
    "print('Test loss:', score[0])\n",
    "print('Test accuracy:', score[1])"
   ]
  },
  {
   "cell_type": "markdown",
   "metadata": {},
   "source": [
    "**The accuracy decreased and the loss increased. The activation function 'relu' is better than tanh.**"
   ]
  },
  {
   "cell_type": "markdown",
   "metadata": {},
   "source": [
    "**Change dropout rates from 0.2 to 0.1**"
   ]
  },
  {
   "cell_type": "code",
   "execution_count": 34,
   "metadata": {},
   "outputs": [
    {
     "name": "stdout",
     "output_type": "stream",
     "text": [
      "Train on 50000 samples, validate on 10000 samples\n",
      "Epoch 1/20\n",
      "50000/50000 [==============================] - 13s 259us/step - loss: 2.3904 - acc: 0.2571 - val_loss: 1.8676 - val_acc: 0.3161\n",
      "Epoch 2/20\n",
      "50000/50000 [==============================] - 12s 247us/step - loss: 1.8187 - acc: 0.3482 - val_loss: 1.7162 - val_acc: 0.3884\n",
      "Epoch 3/20\n",
      "50000/50000 [==============================] - 12s 248us/step - loss: 1.7278 - acc: 0.3801 - val_loss: 1.6525 - val_acc: 0.4069\n",
      "Epoch 4/20\n",
      "50000/50000 [==============================] - 12s 247us/step - loss: 1.6684 - acc: 0.4040 - val_loss: 1.6075 - val_acc: 0.4327\n",
      "Epoch 5/20\n",
      "50000/50000 [==============================] - 14s 272us/step - loss: 1.6248 - acc: 0.4159 - val_loss: 1.5485 - val_acc: 0.4506\n",
      "Epoch 6/20\n",
      "50000/50000 [==============================] - 15s 291us/step - loss: 1.5943 - acc: 0.4316 - val_loss: 1.5189 - val_acc: 0.4573\n",
      "Epoch 7/20\n",
      "50000/50000 [==============================] - 14s 288us/step - loss: 1.5703 - acc: 0.4387 - val_loss: 1.5435 - val_acc: 0.4473\n",
      "Epoch 8/20\n",
      "50000/50000 [==============================] - 14s 290us/step - loss: 1.5442 - acc: 0.4498 - val_loss: 1.5586 - val_acc: 0.4479\n",
      "Epoch 9/20\n",
      "50000/50000 [==============================] - 14s 286us/step - loss: 1.5257 - acc: 0.4568 - val_loss: 1.4954 - val_acc: 0.4706\n",
      "Epoch 10/20\n",
      "50000/50000 [==============================] - 14s 288us/step - loss: 1.5075 - acc: 0.4616 - val_loss: 1.5109 - val_acc: 0.4697\n",
      "Epoch 11/20\n",
      "50000/50000 [==============================] - 14s 289us/step - loss: 1.4897 - acc: 0.4687 - val_loss: 1.4471 - val_acc: 0.4898\n",
      "Epoch 12/20\n",
      "50000/50000 [==============================] - 15s 290us/step - loss: 1.4740 - acc: 0.4745 - val_loss: 1.5216 - val_acc: 0.4568\n",
      "Epoch 13/20\n",
      "50000/50000 [==============================] - 14s 289us/step - loss: 1.4617 - acc: 0.4802 - val_loss: 1.4939 - val_acc: 0.4672\n",
      "Epoch 14/20\n",
      "50000/50000 [==============================] - 14s 288us/step - loss: 1.4522 - acc: 0.4821 - val_loss: 1.5412 - val_acc: 0.4534\n",
      "Epoch 15/20\n",
      "50000/50000 [==============================] - 14s 288us/step - loss: 1.4381 - acc: 0.4884 - val_loss: 1.4614 - val_acc: 0.4805\n",
      "Epoch 16/20\n",
      "50000/50000 [==============================] - 14s 287us/step - loss: 1.4252 - acc: 0.4920 - val_loss: 1.5523 - val_acc: 0.4404\n",
      "Epoch 17/20\n",
      "50000/50000 [==============================] - 14s 288us/step - loss: 1.4191 - acc: 0.4974 - val_loss: 1.4023 - val_acc: 0.5014\n",
      "Epoch 18/20\n",
      "50000/50000 [==============================] - 14s 287us/step - loss: 1.4068 - acc: 0.5007 - val_loss: 1.4352 - val_acc: 0.4886\n",
      "Epoch 19/20\n",
      "50000/50000 [==============================] - 14s 288us/step - loss: 1.3984 - acc: 0.5041 - val_loss: 1.4669 - val_acc: 0.4834\n",
      "Epoch 20/20\n",
      "50000/50000 [==============================] - 14s 290us/step - loss: 1.3961 - acc: 0.5047 - val_loss: 1.4438 - val_acc: 0.4839\n"
     ]
    }
   ],
   "source": [
    "model_dropout = Sequential()\n",
    "model_dropout.add(Dense(512, activation='relu', input_shape=(3072,)))\n",
    "model_dropout.add(Dropout(0.1))\n",
    "model_dropout.add(Dense(512, activation='relu'))\n",
    "model_dropout.add(Dropout(0.1))\n",
    "model_dropout.add(Dense(num_classes, activation='softmax'))\n",
    "\n",
    "model_dropout.compile(loss='categorical_crossentropy',\n",
    "              optimizer=opt,\n",
    "              metrics=['accuracy'])\n",
    "\n",
    "history_dropout = model_dropout.fit(x_train, y_train,\n",
    "                    batch_size=batch_size,\n",
    "                    epochs=epochs,\n",
    "                    verbose=1,\n",
    "                    validation_data=(x_test, y_test))"
   ]
  },
  {
   "cell_type": "code",
   "execution_count": 35,
   "metadata": {},
   "outputs": [
    {
     "name": "stdout",
     "output_type": "stream",
     "text": [
      "Test loss: 1.44377016029\n",
      "Test accuracy: 0.4839\n"
     ]
    }
   ],
   "source": [
    "score = model_dropout.evaluate(x_test, y_test, verbose=0)\n",
    "print('Test loss:', score[0])\n",
    "print('Test accuracy:', score[1])"
   ]
  },
  {
   "cell_type": "markdown",
   "metadata": {},
   "source": [
    "**The accuracy increased and the loss decreased. The appropriate dropout rate can increase the accuracy of model.**"
   ]
  },
  {
   "cell_type": "markdown",
   "metadata": {},
   "source": [
    "**My best model is as follow**"
   ]
  },
  {
   "cell_type": "code",
   "execution_count": 36,
   "metadata": {},
   "outputs": [
    {
     "name": "stdout",
     "output_type": "stream",
     "text": [
      "Train on 50000 samples, validate on 10000 samples\n",
      "Epoch 1/100\n",
      "50000/50000 [==============================] - 45s 903us/step - loss: 1.9167 - acc: 0.3087 - val_loss: 1.8107 - val_acc: 0.3574\n",
      "Epoch 2/100\n",
      "50000/50000 [==============================] - 41s 815us/step - loss: 1.7192 - acc: 0.3890 - val_loss: 1.8331 - val_acc: 0.3542\n",
      "Epoch 3/100\n",
      "50000/50000 [==============================] - 40s 796us/step - loss: 1.6338 - acc: 0.4169 - val_loss: 1.5604 - val_acc: 0.4531\n",
      "Epoch 4/100\n",
      "50000/50000 [==============================] - 31s 613us/step - loss: 1.5667 - acc: 0.4414 - val_loss: 1.6197 - val_acc: 0.4141\n",
      "Epoch 5/100\n",
      "50000/50000 [==============================] - 29s 584us/step - loss: 1.5170 - acc: 0.4599 - val_loss: 1.4655 - val_acc: 0.4808\n",
      "Epoch 6/100\n",
      "50000/50000 [==============================] - 29s 583us/step - loss: 1.4745 - acc: 0.4763 - val_loss: 1.5752 - val_acc: 0.4431\n",
      "Epoch 7/100\n",
      "50000/50000 [==============================] - 29s 581us/step - loss: 1.4348 - acc: 0.4897 - val_loss: 1.4278 - val_acc: 0.4896\n",
      "Epoch 8/100\n",
      "50000/50000 [==============================] - 29s 581us/step - loss: 1.3992 - acc: 0.5014 - val_loss: 1.4596 - val_acc: 0.4801\n",
      "Epoch 9/100\n",
      "50000/50000 [==============================] - 29s 587us/step - loss: 1.3657 - acc: 0.5172 - val_loss: 1.3968 - val_acc: 0.5025\n",
      "Epoch 10/100\n",
      "50000/50000 [==============================] - 37s 737us/step - loss: 1.3323 - acc: 0.5275 - val_loss: 1.3650 - val_acc: 0.5112\n",
      "Epoch 11/100\n",
      "50000/50000 [==============================] - 40s 795us/step - loss: 1.3047 - acc: 0.5381 - val_loss: 1.3857 - val_acc: 0.5123\n",
      "Epoch 12/100\n",
      "50000/50000 [==============================] - 42s 844us/step - loss: 1.2711 - acc: 0.5468 - val_loss: 1.3833 - val_acc: 0.5088\n",
      "Epoch 13/100\n",
      "50000/50000 [==============================] - 41s 811us/step - loss: 1.2454 - acc: 0.5563 - val_loss: 1.3793 - val_acc: 0.5089\n",
      "Epoch 14/100\n",
      "50000/50000 [==============================] - 38s 758us/step - loss: 1.2175 - acc: 0.5679 - val_loss: 1.3724 - val_acc: 0.5136\n",
      "Epoch 15/100\n",
      "50000/50000 [==============================] - 37s 734us/step - loss: 1.1887 - acc: 0.5764 - val_loss: 1.3347 - val_acc: 0.5313\n",
      "Epoch 16/100\n",
      "50000/50000 [==============================] - 37s 739us/step - loss: 1.1610 - acc: 0.5868 - val_loss: 1.3294 - val_acc: 0.5333\n",
      "Epoch 17/100\n",
      "50000/50000 [==============================] - 37s 747us/step - loss: 1.1370 - acc: 0.5947 - val_loss: 1.2985 - val_acc: 0.5410\n",
      "Epoch 18/100\n",
      "50000/50000 [==============================] - 38s 765us/step - loss: 1.1102 - acc: 0.6053 - val_loss: 1.3656 - val_acc: 0.5199\n",
      "Epoch 19/100\n",
      "50000/50000 [==============================] - 38s 762us/step - loss: 1.0874 - acc: 0.6142 - val_loss: 1.2894 - val_acc: 0.5465\n",
      "Epoch 20/100\n",
      "50000/50000 [==============================] - 40s 795us/step - loss: 1.0566 - acc: 0.6239 - val_loss: 1.4059 - val_acc: 0.5243\n",
      "Epoch 21/100\n",
      "50000/50000 [==============================] - 36s 720us/step - loss: 1.0314 - acc: 0.6313 - val_loss: 1.3151 - val_acc: 0.5387\n",
      "Epoch 22/100\n",
      "50000/50000 [==============================] - 38s 764us/step - loss: 1.0083 - acc: 0.6392 - val_loss: 1.3546 - val_acc: 0.5315\n",
      "Epoch 23/100\n",
      "50000/50000 [==============================] - 37s 731us/step - loss: 0.9890 - acc: 0.6499 - val_loss: 1.3277 - val_acc: 0.5514\n",
      "Epoch 24/100\n",
      "50000/50000 [==============================] - 40s 798us/step - loss: 0.9561 - acc: 0.6598 - val_loss: 1.3999 - val_acc: 0.5321\n",
      "Epoch 25/100\n",
      "50000/50000 [==============================] - 36s 726us/step - loss: 0.9396 - acc: 0.6649 - val_loss: 1.3800 - val_acc: 0.5320\n",
      "Epoch 26/100\n",
      "50000/50000 [==============================] - 38s 751us/step - loss: 0.9088 - acc: 0.6784 - val_loss: 1.3464 - val_acc: 0.5359\n",
      "Epoch 27/100\n",
      "50000/50000 [==============================] - 35s 693us/step - loss: 0.8890 - acc: 0.6822 - val_loss: 1.3555 - val_acc: 0.5436\n",
      "Epoch 28/100\n",
      "50000/50000 [==============================] - 40s 795us/step - loss: 0.8635 - acc: 0.6920 - val_loss: 1.3460 - val_acc: 0.5527\n",
      "Epoch 29/100\n",
      "50000/50000 [==============================] - 39s 785us/step - loss: 0.8413 - acc: 0.6979 - val_loss: 1.3563 - val_acc: 0.5507\n",
      "Epoch 30/100\n",
      "50000/50000 [==============================] - 38s 759us/step - loss: 0.8215 - acc: 0.7062 - val_loss: 1.3458 - val_acc: 0.5508\n",
      "Epoch 31/100\n",
      "50000/50000 [==============================] - 44s 871us/step - loss: 0.7963 - acc: 0.7161 - val_loss: 1.4256 - val_acc: 0.5475\n",
      "Epoch 32/100\n",
      "50000/50000 [==============================] - 45s 906us/step - loss: 0.7745 - acc: 0.7241 - val_loss: 1.3886 - val_acc: 0.5494\n",
      "Epoch 33/100\n",
      "50000/50000 [==============================] - 45s 909us/step - loss: 0.7527 - acc: 0.7303 - val_loss: 1.3621 - val_acc: 0.5547\n",
      "Epoch 34/100\n",
      "50000/50000 [==============================] - 47s 935us/step - loss: 0.7280 - acc: 0.7402 - val_loss: 1.4011 - val_acc: 0.5422\n",
      "Epoch 35/100\n",
      "50000/50000 [==============================] - 41s 816us/step - loss: 0.7104 - acc: 0.7474 - val_loss: 1.4028 - val_acc: 0.5590\n",
      "Epoch 36/100\n",
      "50000/50000 [==============================] - 42s 843us/step - loss: 0.6893 - acc: 0.7531 - val_loss: 1.4696 - val_acc: 0.5372\n",
      "Epoch 37/100\n",
      "50000/50000 [==============================] - 42s 842us/step - loss: 0.6706 - acc: 0.7600 - val_loss: 1.4113 - val_acc: 0.5711\n",
      "Epoch 38/100\n",
      "50000/50000 [==============================] - 48s 953us/step - loss: 0.6493 - acc: 0.7671 - val_loss: 1.4782 - val_acc: 0.5589\n",
      "Epoch 39/100\n",
      "50000/50000 [==============================] - 47s 939us/step - loss: 0.6340 - acc: 0.7725 - val_loss: 1.5118 - val_acc: 0.5572\n",
      "Epoch 40/100\n",
      "50000/50000 [==============================] - 37s 736us/step - loss: 0.6182 - acc: 0.7785 - val_loss: 1.4561 - val_acc: 0.5558\n",
      "Epoch 41/100\n",
      "50000/50000 [==============================] - 39s 785us/step - loss: 0.6004 - acc: 0.7842 - val_loss: 1.4674 - val_acc: 0.5661\n",
      "Epoch 42/100\n",
      "50000/50000 [==============================] - 40s 804us/step - loss: 0.5854 - acc: 0.7927 - val_loss: 1.5453 - val_acc: 0.5540\n",
      "Epoch 43/100\n",
      "50000/50000 [==============================] - 39s 787us/step - loss: 0.5639 - acc: 0.7977 - val_loss: 1.5705 - val_acc: 0.5460\n",
      "Epoch 44/100\n",
      "50000/50000 [==============================] - 39s 789us/step - loss: 0.5489 - acc: 0.8028 - val_loss: 1.5592 - val_acc: 0.5533\n",
      "Epoch 45/100\n",
      "50000/50000 [==============================] - 43s 858us/step - loss: 0.5335 - acc: 0.8075 - val_loss: 1.6550 - val_acc: 0.5451\n",
      "Epoch 46/100\n",
      "50000/50000 [==============================] - 39s 785us/step - loss: 0.5221 - acc: 0.8130 - val_loss: 1.5957 - val_acc: 0.5656\n",
      "Epoch 47/100\n",
      "50000/50000 [==============================] - 40s 806us/step - loss: 0.5044 - acc: 0.8201 - val_loss: 1.5659 - val_acc: 0.5489\n",
      "Epoch 48/100\n",
      "50000/50000 [==============================] - 40s 809us/step - loss: 0.4894 - acc: 0.8236 - val_loss: 1.6725 - val_acc: 0.5603\n",
      "Epoch 49/100\n",
      "50000/50000 [==============================] - 39s 773us/step - loss: 0.4761 - acc: 0.8302 - val_loss: 1.5586 - val_acc: 0.5654\n",
      "Epoch 50/100\n",
      "50000/50000 [==============================] - 38s 753us/step - loss: 0.4662 - acc: 0.8338 - val_loss: 1.6096 - val_acc: 0.5642\n",
      "Epoch 51/100\n",
      "50000/50000 [==============================] - 37s 740us/step - loss: 0.4540 - acc: 0.8384 - val_loss: 1.7437 - val_acc: 0.5623\n",
      "Epoch 52/100\n",
      "50000/50000 [==============================] - 41s 818us/step - loss: 0.4409 - acc: 0.8427 - val_loss: 1.7005 - val_acc: 0.5694\n",
      "Epoch 53/100\n",
      "50000/50000 [==============================] - 39s 778us/step - loss: 0.4283 - acc: 0.8467 - val_loss: 1.7121 - val_acc: 0.5502\n",
      "Epoch 54/100\n",
      "50000/50000 [==============================] - 37s 737us/step - loss: 0.4195 - acc: 0.8500 - val_loss: 1.7422 - val_acc: 0.5522\n",
      "Epoch 55/100\n",
      "50000/50000 [==============================] - 37s 736us/step - loss: 0.4087 - acc: 0.8557 - val_loss: 1.8561 - val_acc: 0.5574\n",
      "Epoch 56/100\n",
      "50000/50000 [==============================] - 37s 749us/step - loss: 0.3988 - acc: 0.8568 - val_loss: 1.7830 - val_acc: 0.5650\n",
      "Epoch 57/100\n",
      "50000/50000 [==============================] - 38s 764us/step - loss: 0.3912 - acc: 0.8611 - val_loss: 1.8865 - val_acc: 0.5718\n",
      "Epoch 58/100\n",
      "50000/50000 [==============================] - 39s 774us/step - loss: 0.3826 - acc: 0.8632 - val_loss: 1.7977 - val_acc: 0.5619\n"
     ]
    },
    {
     "name": "stdout",
     "output_type": "stream",
     "text": [
      "Epoch 59/100\n",
      "50000/50000 [==============================] - 37s 733us/step - loss: 0.3693 - acc: 0.8674 - val_loss: 1.7833 - val_acc: 0.5708\n",
      "Epoch 60/100\n",
      "50000/50000 [==============================] - 43s 855us/step - loss: 0.3641 - acc: 0.8706 - val_loss: 1.8070 - val_acc: 0.5679\n",
      "Epoch 61/100\n",
      "50000/50000 [==============================] - 40s 805us/step - loss: 0.3509 - acc: 0.8750 - val_loss: 1.8137 - val_acc: 0.5694\n",
      "Epoch 62/100\n",
      "50000/50000 [==============================] - 49s 983us/step - loss: 0.3503 - acc: 0.8754 - val_loss: 1.8450 - val_acc: 0.5573\n",
      "Epoch 63/100\n",
      "50000/50000 [==============================] - 52s 1ms/step - loss: 0.3406 - acc: 0.8799 - val_loss: 1.9849 - val_acc: 0.5460\n",
      "Epoch 64/100\n",
      "50000/50000 [==============================] - 53s 1ms/step - loss: 0.3359 - acc: 0.8812 - val_loss: 1.7848 - val_acc: 0.5699\n",
      "Epoch 65/100\n",
      "50000/50000 [==============================] - 53s 1ms/step - loss: 0.3252 - acc: 0.8864 - val_loss: 1.9920 - val_acc: 0.5568\n",
      "Epoch 66/100\n",
      "50000/50000 [==============================] - 53s 1ms/step - loss: 0.3171 - acc: 0.8887 - val_loss: 1.9165 - val_acc: 0.5642\n",
      "Epoch 67/100\n",
      "50000/50000 [==============================] - 53s 1ms/step - loss: 0.3091 - acc: 0.8890 - val_loss: 1.9568 - val_acc: 0.5651\n",
      "Epoch 68/100\n",
      "50000/50000 [==============================] - 53s 1ms/step - loss: 0.3118 - acc: 0.8889 - val_loss: 1.9733 - val_acc: 0.5531\n",
      "Epoch 69/100\n",
      "50000/50000 [==============================] - 53s 1ms/step - loss: 0.3037 - acc: 0.8942 - val_loss: 1.9829 - val_acc: 0.5646\n",
      "Epoch 70/100\n",
      "50000/50000 [==============================] - 53s 1ms/step - loss: 0.2962 - acc: 0.8952 - val_loss: 2.0444 - val_acc: 0.5618\n",
      "Epoch 71/100\n",
      "50000/50000 [==============================] - 52s 1ms/step - loss: 0.2825 - acc: 0.9000 - val_loss: 2.0008 - val_acc: 0.5620\n",
      "Epoch 72/100\n",
      "50000/50000 [==============================] - 52s 1ms/step - loss: 0.2816 - acc: 0.9002 - val_loss: 2.0625 - val_acc: 0.5597\n",
      "Epoch 73/100\n",
      "50000/50000 [==============================] - 53s 1ms/step - loss: 0.2757 - acc: 0.9025 - val_loss: 2.0377 - val_acc: 0.5553\n",
      "Epoch 74/100\n",
      "50000/50000 [==============================] - 53s 1ms/step - loss: 0.2732 - acc: 0.9037 - val_loss: 2.0586 - val_acc: 0.5643\n",
      "Epoch 75/100\n",
      "50000/50000 [==============================] - 53s 1ms/step - loss: 0.2760 - acc: 0.9032 - val_loss: 2.0790 - val_acc: 0.5652\n",
      "Epoch 76/100\n",
      "50000/50000 [==============================] - 46s 918us/step - loss: 0.2673 - acc: 0.9049 - val_loss: 2.0340 - val_acc: 0.5650\n",
      "Epoch 77/100\n",
      "50000/50000 [==============================] - 46s 913us/step - loss: 0.2576 - acc: 0.9103 - val_loss: 2.1231 - val_acc: 0.5634\n",
      "Epoch 78/100\n",
      "50000/50000 [==============================] - 49s 978us/step - loss: 0.2538 - acc: 0.9109 - val_loss: 2.0658 - val_acc: 0.5564\n",
      "Epoch 79/100\n",
      "50000/50000 [==============================] - 53s 1ms/step - loss: 0.2531 - acc: 0.9100 - val_loss: 2.1643 - val_acc: 0.5545\n",
      "Epoch 80/100\n",
      "50000/50000 [==============================] - 53s 1ms/step - loss: 0.2487 - acc: 0.9134 - val_loss: 2.2328 - val_acc: 0.5600\n",
      "Epoch 81/100\n",
      "50000/50000 [==============================] - 53s 1ms/step - loss: 0.2457 - acc: 0.9140 - val_loss: 2.1804 - val_acc: 0.5646\n",
      "Epoch 82/100\n",
      "50000/50000 [==============================] - 53s 1ms/step - loss: 0.2339 - acc: 0.9182 - val_loss: 2.2801 - val_acc: 0.5534\n",
      "Epoch 83/100\n",
      "50000/50000 [==============================] - 53s 1ms/step - loss: 0.2350 - acc: 0.9185 - val_loss: 2.0843 - val_acc: 0.5653\n",
      "Epoch 84/100\n",
      "50000/50000 [==============================] - 52s 1ms/step - loss: 0.2357 - acc: 0.9174 - val_loss: 2.0978 - val_acc: 0.5589\n",
      "Epoch 85/100\n",
      "50000/50000 [==============================] - 53s 1ms/step - loss: 0.2334 - acc: 0.9199 - val_loss: 2.0083 - val_acc: 0.5683\n",
      "Epoch 86/100\n",
      "50000/50000 [==============================] - 53s 1ms/step - loss: 0.2264 - acc: 0.9232 - val_loss: 2.1739 - val_acc: 0.5709\n",
      "Epoch 87/100\n",
      "50000/50000 [==============================] - 47s 948us/step - loss: 0.2233 - acc: 0.9223 - val_loss: 2.2681 - val_acc: 0.5548\n",
      "Epoch 88/100\n",
      "50000/50000 [==============================] - 46s 913us/step - loss: 0.2218 - acc: 0.9219 - val_loss: 2.1329 - val_acc: 0.5706\n",
      "Epoch 89/100\n",
      "50000/50000 [==============================] - 47s 940us/step - loss: 0.2200 - acc: 0.9247 - val_loss: 2.1749 - val_acc: 0.5693\n",
      "Epoch 90/100\n",
      "50000/50000 [==============================] - 54s 1ms/step - loss: 0.2163 - acc: 0.9253 - val_loss: 2.4309 - val_acc: 0.5602\n",
      "Epoch 91/100\n",
      "50000/50000 [==============================] - 53s 1ms/step - loss: 0.2183 - acc: 0.9251 - val_loss: 2.2227 - val_acc: 0.5652\n",
      "Epoch 92/100\n",
      "50000/50000 [==============================] - 52s 1ms/step - loss: 0.2118 - acc: 0.9271 - val_loss: 2.2298 - val_acc: 0.5667\n",
      "Epoch 93/100\n",
      "50000/50000 [==============================] - 53s 1ms/step - loss: 0.2115 - acc: 0.9269 - val_loss: 2.3109 - val_acc: 0.5686\n",
      "Epoch 94/100\n",
      "50000/50000 [==============================] - 50s 997us/step - loss: 0.2098 - acc: 0.9288 - val_loss: 2.2573 - val_acc: 0.5601\n",
      "Epoch 95/100\n",
      "50000/50000 [==============================] - 44s 880us/step - loss: 0.2101 - acc: 0.9284 - val_loss: 2.1994 - val_acc: 0.5651\n",
      "Epoch 96/100\n",
      "50000/50000 [==============================] - 44s 887us/step - loss: 0.2045 - acc: 0.9297 - val_loss: 2.1969 - val_acc: 0.5614\n",
      "Epoch 97/100\n",
      "50000/50000 [==============================] - 41s 815us/step - loss: 0.1984 - acc: 0.9330 - val_loss: 2.4431 - val_acc: 0.5555\n",
      "Epoch 98/100\n",
      "50000/50000 [==============================] - 39s 771us/step - loss: 0.1964 - acc: 0.9340 - val_loss: 2.2883 - val_acc: 0.5708\n",
      "Epoch 99/100\n",
      "50000/50000 [==============================] - 40s 800us/step - loss: 0.1941 - acc: 0.9344 - val_loss: 2.2983 - val_acc: 0.5556\n",
      "Epoch 100/100\n",
      "50000/50000 [==============================] - 41s 830us/step - loss: 0.1961 - acc: 0.9330 - val_loss: 2.2571 - val_acc: 0.5659\n"
     ]
    }
   ],
   "source": [
    "opt_best = keras.optimizers.rmsprop(lr=0.0001, decay=1e-6)\n",
    "\n",
    "model_best = Sequential()\n",
    "model_best.add(Dense(1024, activation='relu', input_shape=(3072,)))\n",
    "model_best.add(Dropout(0.1))\n",
    "model_best.add(Dense(1024, activation='relu'))\n",
    "model_best.add(Dropout(0.1))\n",
    "model_best.add(Dense(1024, activation='relu'))\n",
    "model_best.add(Dropout(0.1))\n",
    "model_best.add(Dense(1024, activation='relu'))\n",
    "model_best.add(Dropout(0.1))\n",
    "model_best.add(Dense(num_classes, activation='softmax'))\n",
    "\n",
    "model_best.compile(loss='categorical_crossentropy',\n",
    "              optimizer=opt_best,\n",
    "              metrics=['accuracy'])\n",
    "\n",
    "history_best = model_best.fit(x_train, y_train,\n",
    "                    batch_size=128,\n",
    "                    epochs=100,\n",
    "                    verbose=1,\n",
    "                    validation_data=(x_test, y_test))"
   ]
  },
  {
   "cell_type": "code",
   "execution_count": null,
   "metadata": {},
   "outputs": [],
   "source": []
  },
  {
   "cell_type": "code",
   "execution_count": 37,
   "metadata": {},
   "outputs": [
    {
     "name": "stdout",
     "output_type": "stream",
     "text": [
      "Test loss: 2.25705060596\n",
      "Test accuracy: 0.5659\n"
     ]
    }
   ],
   "source": [
    "score = model_best.evaluate(x_test, y_test, verbose=0)\n",
    "print('Test loss:', score[0])\n",
    "print('Test accuracy:', score[1])"
   ]
  },
  {
   "cell_type": "markdown",
   "metadata": {},
   "source": [
    "**• You are expected to provide a recommendation for the best model you would recommend for classification. Which model (with parameter values) would you choose and why?**\n",
    "\n",
    "According to tests above, I'd like to build a model with 100 epochs, batch size 128, 1024 neurons in a layer, 5 layers, 0.0001 learning rate, activation function 'relu' and dropout rate 0.1.\n",
    "\n",
    "**• Comment on how good your model is ? Does it overfit/underfit data ? What could you do to improve the model?**\n",
    "\n",
    "My model fit data very well."
   ]
  },
  {
   "cell_type": "code",
   "execution_count": null,
   "metadata": {},
   "outputs": [],
   "source": []
  }
 ],
 "metadata": {
  "kernelspec": {
   "display_name": "Python 3",
   "language": "python",
   "name": "python3"
  },
  "language_info": {
   "codemirror_mode": {
    "name": "ipython",
    "version": 3
   },
   "file_extension": ".py",
   "mimetype": "text/x-python",
   "name": "python",
   "nbconvert_exporter": "python",
   "pygments_lexer": "ipython3",
   "version": "3.5.4"
  }
 },
 "nbformat": 4,
 "nbformat_minor": 2
}
