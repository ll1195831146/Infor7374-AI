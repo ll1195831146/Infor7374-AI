{
 "cells": [
  {
   "cell_type": "markdown",
   "metadata": {},
   "source": [
    "**In this file, I test how parameters contribute/influence to the model.**"
   ]
  },
  {
   "cell_type": "code",
   "execution_count": 10,
   "metadata": {},
   "outputs": [],
   "source": [
    "from __future__ import print_function\n",
    "import keras\n",
    "from keras.datasets import cifar10\n",
    "from keras.preprocessing.image import ImageDataGenerator\n",
    "from keras.models import Sequential\n",
    "from keras.layers import Dense, Dropout, Activation, Flatten\n",
    "from keras.layers import Conv2D, MaxPooling2D\n",
    "import os\n",
    "from keras import metrics"
   ]
  },
  {
   "cell_type": "code",
   "execution_count": 11,
   "metadata": {},
   "outputs": [],
   "source": [
    "save_dir = os.path.join(os.getcwd(), 'saved_models')\n",
    "model_name = 'keras_cifar10_trained_model.h5'"
   ]
  },
  {
   "cell_type": "code",
   "execution_count": 12,
   "metadata": {},
   "outputs": [
    {
     "name": "stdout",
     "output_type": "stream",
     "text": [
      "x_train shape: (50000, 32, 32, 3)\n",
      "50000 train samples\n",
      "10000 test samples\n"
     ]
    }
   ],
   "source": [
    "# The data, split between train and test sets:\n",
    "(x_train, y_train), (x_test, y_test) = cifar10.load_data()\n",
    "print('x_train shape:', x_train.shape)\n",
    "print(x_train.shape[0], 'train samples')\n",
    "print(x_test.shape[0], 'test samples')"
   ]
  },
  {
   "cell_type": "code",
   "execution_count": 13,
   "metadata": {},
   "outputs": [],
   "source": [
    "batch_size = 32\n",
    "num_classes = 10\n",
    "epochs = 5\n",
    "data_augmentation = True\n",
    "num_predictions = 20"
   ]
  },
  {
   "cell_type": "code",
   "execution_count": 14,
   "metadata": {},
   "outputs": [],
   "source": [
    "# Convert class vectors to binary class matrices.\n",
    "y_train = keras.utils.to_categorical(y_train, num_classes)\n",
    "y_test = keras.utils.to_categorical(y_test, num_classes)"
   ]
  },
  {
   "cell_type": "code",
   "execution_count": 15,
   "metadata": {},
   "outputs": [],
   "source": [
    "# initiate RMSprop optimizer\n",
    "opt = keras.optimizers.rmsprop(lr=0.0001, decay=1e-6)"
   ]
  },
  {
   "cell_type": "code",
   "execution_count": 16,
   "metadata": {},
   "outputs": [],
   "source": [
    "x_train = x_train.astype('float32')\n",
    "x_test = x_test.astype('float32')\n",
    "x_train /= 255\n",
    "x_test /= 255"
   ]
  },
  {
   "cell_type": "code",
   "execution_count": 17,
   "metadata": {},
   "outputs": [
    {
     "name": "stdout",
     "output_type": "stream",
     "text": [
      "Using real-time data augmentation.\n"
     ]
    }
   ],
   "source": [
    "print('Using real-time data augmentation.')\n",
    "# This will do preprocessing and realtime data augmentation:\n",
    "datagen = ImageDataGenerator(\n",
    "    featurewise_center=False,  # set input mean to 0 over the dataset\n",
    "    samplewise_center=False,  # set each sample mean to 0\n",
    "    featurewise_std_normalization=False,  # divide inputs by std of the dataset\n",
    "    samplewise_std_normalization=False,  # divide each input by its std\n",
    "    zca_whitening=False,  # apply ZCA whitening\n",
    "    zca_epsilon=1e-06,  # epsilon for ZCA whitening\n",
    "    rotation_range=0,  # randomly rotate images in the range (degrees, 0 to 180)\n",
    "    # randomly shift images horizontally (fraction of total width)\n",
    "    width_shift_range=0.1,\n",
    "    # randomly shift images vertically (fraction of total height)\n",
    "    height_shift_range=0.1,\n",
    "    shear_range=0.,  # set range for random shear\n",
    "    zoom_range=0.,  # set range for random zoom\n",
    "    channel_shift_range=0.,  # set range for random channel shifts\n",
    "    # set mode for filling points outside the input boundaries\n",
    "    fill_mode='nearest',\n",
    "    cval=0.,  # value used for fill_mode = \"constant\"\n",
    "    horizontal_flip=True,  # randomly flip images\n",
    "    vertical_flip=False,  # randomly flip images\n",
    "    # set rescaling factor (applied before any other transformation)\n",
    "    rescale=None,\n",
    "    # set function that will be applied on each input\n",
    "    preprocessing_function=None,\n",
    "    # image data format, either \"channels_first\" or \"channels_last\"\n",
    "    data_format=None,\n",
    "    # fraction of images reserved for validation (strictly between 0 and 1)\n",
    "    validation_split=0.0)\n",
    "    \n",
    "# Compute quantities required for feature-wise normalization\n",
    "# (std, mean, and principal components if ZCA whitening is applied).\n",
    "datagen.fit(x_train)"
   ]
  },
  {
   "cell_type": "markdown",
   "metadata": {},
   "source": [
    "**The following configuration is the reference standard to evaluate model**\n",
    "\n",
    "**1. No of epochs: 5**\n",
    "\n",
    "**2. Batch size: 32**\n",
    "\n",
    "**3. Network configuration**\n",
    "\n",
    "    a. Number of neurons in a layer: 512\n",
    "    \n",
    "    b. Number of layers: 3\n",
    "    \n",
    "**4. Learning rate: 0.0001**\n",
    "\n",
    "**5. Activation functions: relu**\n",
    "\n",
    "**6. Dropout rates: 0.25**"
   ]
  },
  {
   "cell_type": "code",
   "execution_count": 18,
   "metadata": {},
   "outputs": [],
   "source": [
    "model = Sequential()\n",
    "model.add(Conv2D(32, (3, 3), padding='same',\n",
    "input_shape=x_train.shape[1:]))\n",
    "model.add(Activation('relu'))\n",
    "model.add(Conv2D(32, (3, 3)))\n",
    "model.add(Activation('relu'))\n",
    "model.add(MaxPooling2D(pool_size=(2, 2)))\n",
    "model.add(Dropout(0.25))\n",
    "\n",
    "model.add(Conv2D(64, (3, 3), padding='same'))\n",
    "model.add(Activation('relu'))\n",
    "model.add(Conv2D(64, (3, 3)))\n",
    "model.add(Activation('relu'))\n",
    "model.add(MaxPooling2D(pool_size=(2, 2)))\n",
    "model.add(Dropout(0.25))\n",
    "\n",
    "model.add(Flatten())\n",
    "model.add(Dense(512))\n",
    "model.add(Activation('relu'))\n",
    "model.add(Dropout(0.25))\n",
    "model.add(Dense(num_classes))\n",
    "model.add(Activation('softmax'))"
   ]
  },
  {
   "cell_type": "code",
   "execution_count": 19,
   "metadata": {},
   "outputs": [],
   "source": [
    "# Let's train the model using RMSprop\n",
    "model.compile(loss='categorical_crossentropy',\n",
    "optimizer=opt,\n",
    "metrics=['accuracy',metrics.categorical_accuracy])"
   ]
  },
  {
   "cell_type": "code",
   "execution_count": 20,
   "metadata": {},
   "outputs": [
    {
     "name": "stdout",
     "output_type": "stream",
     "text": [
      "Epoch 1/5\n",
      "1563/1563 [==============================] - 220s 141ms/step - loss: 1.8086 - acc: 0.3371 - categorical_accuracy: 0.3371 - val_loss: 1.5465 - val_acc: 0.4343 - val_categorical_accuracy: 0.4343\n",
      "Epoch 2/5\n",
      "1563/1563 [==============================] - 226s 144ms/step - loss: 1.5566 - acc: 0.4305 - categorical_accuracy: 0.4305 - val_loss: 1.3895 - val_acc: 0.4939 - val_categorical_accuracy: 0.4939\n",
      "Epoch 3/5\n",
      "1563/1563 [==============================] - 164s 105ms/step - loss: 1.4387 - acc: 0.4795 - categorical_accuracy: 0.4795 - val_loss: 1.2483 - val_acc: 0.5544 - val_categorical_accuracy: 0.5544\n",
      "Epoch 4/5\n",
      "1563/1563 [==============================] - 141s 90ms/step - loss: 1.3477 - acc: 0.5194 - categorical_accuracy: 0.5194 - val_loss: 1.2112 - val_acc: 0.5733 - val_categorical_accuracy: 0.5733\n",
      "Epoch 5/5\n",
      "1563/1563 [==============================] - 142s 91ms/step - loss: 1.2748 - acc: 0.5460 - categorical_accuracy: 0.5460 - val_loss: 1.0913 - val_acc: 0.6180 - val_categorical_accuracy: 0.6180\n"
     ]
    },
    {
     "data": {
      "text/plain": [
       "<keras.callbacks.History at 0x1820dbbeb8>"
      ]
     },
     "execution_count": 20,
     "metadata": {},
     "output_type": "execute_result"
    }
   ],
   "source": [
    "# Fit the model on the batches generated by datagen.flow().\n",
    "model.fit_generator(datagen.flow(x_train, y_train,\n",
    "    batch_size=batch_size),\n",
    "    epochs=epochs,\n",
    "    validation_data=(x_test, y_test),\n",
    "    workers=4)"
   ]
  },
  {
   "cell_type": "code",
   "execution_count": 21,
   "metadata": {},
   "outputs": [
    {
     "name": "stdout",
     "output_type": "stream",
     "text": [
      "10000/10000 [==============================] - 6s 630us/step\n",
      "Test loss: 1.09130263615\n",
      "Test accuracy: 0.618\n"
     ]
    }
   ],
   "source": [
    "# Score trained model.\n",
    "scores = model.evaluate(x_test, y_test, verbose=1)\n",
    "print('Test loss:', scores[0])\n",
    "print('Test accuracy:', scores[1])"
   ]
  },
  {
   "cell_type": "markdown",
   "metadata": {},
   "source": [
    "**Change No. of epochs from 5 to 7**"
   ]
  },
  {
   "cell_type": "code",
   "execution_count": 22,
   "metadata": {},
   "outputs": [
    {
     "name": "stdout",
     "output_type": "stream",
     "text": [
      "Epoch 1/7\n",
      "1563/1563 [==============================] - 138s 89ms/step - loss: 1.8407 - acc: 0.3234 - categorical_accuracy: 0.3234 - val_loss: 1.5726 - val_acc: 0.4348 - val_categorical_accuracy: 0.4348\n",
      "Epoch 2/7\n",
      "1563/1563 [==============================] - 134s 86ms/step - loss: 1.5479 - acc: 0.4333 - categorical_accuracy: 0.4333 - val_loss: 1.4684 - val_acc: 0.4771 - val_categorical_accuracy: 0.4771\n",
      "Epoch 3/7\n",
      "1563/1563 [==============================] - 134s 86ms/step - loss: 1.4260 - acc: 0.4880 - categorical_accuracy: 0.4880 - val_loss: 1.3567 - val_acc: 0.5188 - val_categorical_accuracy: 0.5188\n",
      "Epoch 4/7\n",
      "1563/1563 [==============================] - 135s 87ms/step - loss: 1.3362 - acc: 0.5234 - categorical_accuracy: 0.5234 - val_loss: 1.2653 - val_acc: 0.5560 - val_categorical_accuracy: 0.5560\n",
      "Epoch 5/7\n",
      "1563/1563 [==============================] - 136s 87ms/step - loss: 1.2629 - acc: 0.5524 - categorical_accuracy: 0.5524 - val_loss: 1.1400 - val_acc: 0.5980 - val_categorical_accuracy: 0.5980\n",
      "Epoch 6/7\n",
      "1563/1563 [==============================] - 134s 86ms/step - loss: 1.2031 - acc: 0.5750 - categorical_accuracy: 0.5750 - val_loss: 1.0845 - val_acc: 0.6154 - val_categorical_accuracy: 0.6154\n",
      "Epoch 7/7\n",
      "1563/1563 [==============================] - 136s 87ms/step - loss: 1.1517 - acc: 0.5924 - categorical_accuracy: 0.5924 - val_loss: 0.9967 - val_acc: 0.6481 - val_categorical_accuracy: 0.6481\n"
     ]
    },
    {
     "data": {
      "text/plain": [
       "<keras.callbacks.History at 0x18228ebc18>"
      ]
     },
     "execution_count": 22,
     "metadata": {},
     "output_type": "execute_result"
    }
   ],
   "source": [
    "model_epochs = Sequential()\n",
    "model_epochs.add(Conv2D(32, (3, 3), padding='same',\n",
    "input_shape=x_train.shape[1:]))\n",
    "model_epochs.add(Activation('relu'))\n",
    "model_epochs.add(Conv2D(32, (3, 3)))\n",
    "model_epochs.add(Activation('relu'))\n",
    "model_epochs.add(MaxPooling2D(pool_size=(2, 2)))\n",
    "model_epochs.add(Dropout(0.25))\n",
    "\n",
    "model_epochs.add(Conv2D(64, (3, 3), padding='same'))\n",
    "model_epochs.add(Activation('relu'))\n",
    "model_epochs.add(Conv2D(64, (3, 3)))\n",
    "model_epochs.add(Activation('relu'))\n",
    "model_epochs.add(MaxPooling2D(pool_size=(2, 2)))\n",
    "model_epochs.add(Dropout(0.25))\n",
    "\n",
    "model_epochs.add(Flatten())\n",
    "model_epochs.add(Dense(512))\n",
    "model_epochs.add(Activation('relu'))\n",
    "model_epochs.add(Dropout(0.25))\n",
    "model_epochs.add(Dense(num_classes))\n",
    "model_epochs.add(Activation('softmax'))\n",
    "\n",
    "model_epochs.compile(loss='categorical_crossentropy',\n",
    "optimizer=opt,\n",
    "metrics=['accuracy',metrics.categorical_accuracy])\n",
    "\n",
    "model_epochs.fit_generator(datagen.flow(x_train, y_train,\n",
    "    batch_size=batch_size),\n",
    "    epochs=7,\n",
    "    validation_data=(x_test, y_test),\n",
    "    workers=4)"
   ]
  },
  {
   "cell_type": "code",
   "execution_count": 23,
   "metadata": {},
   "outputs": [
    {
     "name": "stdout",
     "output_type": "stream",
     "text": [
      "10000/10000 [==============================] - 6s 577us/step\n",
      "Test loss: 0.996672880554\n",
      "Test accuracy: 0.6481\n"
     ]
    }
   ],
   "source": [
    "scores = model_epochs.evaluate(x_test, y_test, verbose=1)\n",
    "print('Test loss:', scores[0])\n",
    "print('Test accuracy:', scores[1])"
   ]
  },
  {
   "cell_type": "markdown",
   "metadata": {},
   "source": [
    "**The accuracy increased and the loss decreased.**"
   ]
  },
  {
   "cell_type": "markdown",
   "metadata": {},
   "source": [
    "**Change batch size from 32 to 64**"
   ]
  },
  {
   "cell_type": "code",
   "execution_count": 24,
   "metadata": {
    "scrolled": true
   },
   "outputs": [
    {
     "name": "stdout",
     "output_type": "stream",
     "text": [
      "Epoch 1/5\n",
      "782/782 [==============================] - 143s 183ms/step - loss: 1.9168 - acc: 0.3022 - categorical_accuracy: 0.3022 - val_loss: 1.6519 - val_acc: 0.4064 - val_categorical_accuracy: 0.4064\n",
      "Epoch 2/5\n",
      "782/782 [==============================] - 134s 171ms/step - loss: 1.6479 - acc: 0.4038 - categorical_accuracy: 0.4038 - val_loss: 1.5043 - val_acc: 0.4463 - val_categorical_accuracy: 0.4463\n",
      "Epoch 3/5\n",
      "782/782 [==============================] - 137s 175ms/step - loss: 1.5228 - acc: 0.4504 - categorical_accuracy: 0.4504 - val_loss: 1.3821 - val_acc: 0.4949 - val_categorical_accuracy: 0.4949\n",
      "Epoch 4/5\n",
      "782/782 [==============================] - 144s 184ms/step - loss: 1.4362 - acc: 0.4823 - categorical_accuracy: 0.4823 - val_loss: 1.2844 - val_acc: 0.5408 - val_categorical_accuracy: 0.5408\n",
      "Epoch 5/5\n",
      "782/782 [==============================] - 139s 177ms/step - loss: 1.3771 - acc: 0.5081 - categorical_accuracy: 0.5081 - val_loss: 1.2294 - val_acc: 0.5650 - val_categorical_accuracy: 0.5650\n"
     ]
    },
    {
     "data": {
      "text/plain": [
       "<keras.callbacks.History at 0x1821261390>"
      ]
     },
     "execution_count": 24,
     "metadata": {},
     "output_type": "execute_result"
    }
   ],
   "source": [
    "model_batch = Sequential()\n",
    "model_batch.add(Conv2D(32, (3, 3), padding='same',\n",
    "input_shape=x_train.shape[1:]))\n",
    "model_batch.add(Activation('relu'))\n",
    "model_batch.add(Conv2D(32, (3, 3)))\n",
    "model_batch.add(Activation('relu'))\n",
    "model_batch.add(MaxPooling2D(pool_size=(2, 2)))\n",
    "model_batch.add(Dropout(0.25))\n",
    "\n",
    "model_batch.add(Conv2D(64, (3, 3), padding='same'))\n",
    "model_batch.add(Activation('relu'))\n",
    "model_batch.add(Conv2D(64, (3, 3)))\n",
    "model_batch.add(Activation('relu'))\n",
    "model_batch.add(MaxPooling2D(pool_size=(2, 2)))\n",
    "model_batch.add(Dropout(0.25))\n",
    "\n",
    "model_batch.add(Flatten())\n",
    "model_batch.add(Dense(512))\n",
    "model_batch.add(Activation('relu'))\n",
    "model_batch.add(Dropout(0.25))\n",
    "model_batch.add(Dense(num_classes))\n",
    "model_batch.add(Activation('softmax'))\n",
    "\n",
    "model_batch.compile(loss='categorical_crossentropy',\n",
    "optimizer=opt,\n",
    "metrics=['accuracy',metrics.categorical_accuracy])\n",
    "\n",
    "model_batch.fit_generator(datagen.flow(x_train, y_train,\n",
    "    batch_size=64),\n",
    "    epochs=epochs,\n",
    "    validation_data=(x_test, y_test),\n",
    "    workers=4)"
   ]
  },
  {
   "cell_type": "code",
   "execution_count": 25,
   "metadata": {},
   "outputs": [
    {
     "name": "stdout",
     "output_type": "stream",
     "text": [
      "10000/10000 [==============================] - 6s 600us/step\n",
      "Test loss: 1.22942170353\n",
      "Test accuracy: 0.565\n"
     ]
    }
   ],
   "source": [
    "scores = model_batch.evaluate(x_test, y_test, verbose=1)\n",
    "print('Test loss:', scores[0])\n",
    "print('Test accuracy:', scores[1])"
   ]
  },
  {
   "cell_type": "markdown",
   "metadata": {},
   "source": [
    "**The accuracy decreased and the loss increased.**"
   ]
  },
  {
   "cell_type": "markdown",
   "metadata": {},
   "source": [
    "**Change number of neurons in a layer from 512 to 1024**"
   ]
  },
  {
   "cell_type": "code",
   "execution_count": 27,
   "metadata": {},
   "outputs": [
    {
     "name": "stdout",
     "output_type": "stream",
     "text": [
      "Epoch 1/5\n",
      "1563/1563 [==============================] - 201s 129ms/step - loss: 1.8242 - acc: 0.3316 - categorical_accuracy: 0.3316 - val_loss: 1.5656 - val_acc: 0.4310 - val_categorical_accuracy: 0.4310\n",
      "Epoch 2/5\n",
      "1563/1563 [==============================] - 205s 131ms/step - loss: 1.5396 - acc: 0.4415 - categorical_accuracy: 0.4415 - val_loss: 1.3589 - val_acc: 0.5087 - val_categorical_accuracy: 0.5087\n",
      "Epoch 3/5\n",
      "1563/1563 [==============================] - 199s 127ms/step - loss: 1.4042 - acc: 0.4935 - categorical_accuracy: 0.4935 - val_loss: 1.2510 - val_acc: 0.5521 - val_categorical_accuracy: 0.5521\n",
      "Epoch 4/5\n",
      "1563/1563 [==============================] - 206s 132ms/step - loss: 1.3142 - acc: 0.5295 - categorical_accuracy: 0.5295 - val_loss: 1.2624 - val_acc: 0.5522 - val_categorical_accuracy: 0.5522\n",
      "Epoch 5/5\n",
      "1563/1563 [==============================] - 204s 130ms/step - loss: 1.2398 - acc: 0.5565 - categorical_accuracy: 0.5565 - val_loss: 1.1122 - val_acc: 0.6028 - val_categorical_accuracy: 0.6028\n"
     ]
    },
    {
     "data": {
      "text/plain": [
       "<keras.callbacks.History at 0x1823d7f160>"
      ]
     },
     "execution_count": 27,
     "metadata": {},
     "output_type": "execute_result"
    }
   ],
   "source": [
    "model_neuron = Sequential()\n",
    "model_neuron.add(Conv2D(32, (3, 3), padding='same',\n",
    "input_shape=x_train.shape[1:]))\n",
    "model_neuron.add(Activation('relu'))\n",
    "model_neuron.add(Conv2D(32, (3, 3)))\n",
    "model_neuron.add(Activation('relu'))\n",
    "model_neuron.add(MaxPooling2D(pool_size=(2, 2)))\n",
    "model_neuron.add(Dropout(0.25))\n",
    "\n",
    "model_neuron.add(Conv2D(64, (3, 3), padding='same'))\n",
    "model_neuron.add(Activation('relu'))\n",
    "model_neuron.add(Conv2D(64, (3, 3)))\n",
    "model_neuron.add(Activation('relu'))\n",
    "model_neuron.add(MaxPooling2D(pool_size=(2, 2)))\n",
    "model_neuron.add(Dropout(0.25))\n",
    "\n",
    "model_neuron.add(Flatten())\n",
    "model_neuron.add(Dense(1024))\n",
    "model_neuron.add(Activation('relu'))\n",
    "model_neuron.add(Dropout(0.25))\n",
    "model_neuron.add(Dense(num_classes))\n",
    "model_neuron.add(Activation('softmax'))\n",
    "\n",
    "model_neuron.compile(loss='categorical_crossentropy',\n",
    "optimizer=opt,\n",
    "metrics=['accuracy',metrics.categorical_accuracy])\n",
    "\n",
    "model_neuron.fit_generator(datagen.flow(x_train, y_train,\n",
    "    batch_size=batch_size),\n",
    "    epochs=epochs,\n",
    "    validation_data=(x_test, y_test),\n",
    "    workers=4)"
   ]
  },
  {
   "cell_type": "code",
   "execution_count": 28,
   "metadata": {},
   "outputs": [
    {
     "name": "stdout",
     "output_type": "stream",
     "text": [
      "10000/10000 [==============================] - 7s 672us/step\n",
      "Test loss: 1.11216862774\n",
      "Test accuracy: 0.6028\n"
     ]
    }
   ],
   "source": [
    "scores = model_neuron.evaluate(x_test, y_test, verbose=1)\n",
    "print('Test loss:', scores[0])\n",
    "print('Test accuracy:', scores[1])"
   ]
  },
  {
   "cell_type": "markdown",
   "metadata": {},
   "source": [
    "**The accuracy decreased and the loss increased.**"
   ]
  },
  {
   "cell_type": "markdown",
   "metadata": {},
   "source": [
    "**Change number of layers from 3 to 4**"
   ]
  },
  {
   "cell_type": "code",
   "execution_count": 40,
   "metadata": {},
   "outputs": [
    {
     "name": "stdout",
     "output_type": "stream",
     "text": [
      "Epoch 1/5\n",
      "1563/1563 [==============================] - 185s 118ms/step - loss: 1.9534 - acc: 0.2662 - categorical_accuracy: 0.2662 - val_loss: 1.7499 - val_acc: 0.3603 - val_categorical_accuracy: 0.3603\n",
      "Epoch 2/5\n",
      "1563/1563 [==============================] - 188s 120ms/step - loss: 1.6768 - acc: 0.3807 - categorical_accuracy: 0.3807 - val_loss: 1.5011 - val_acc: 0.4550 - val_categorical_accuracy: 0.4550\n",
      "Epoch 3/5\n",
      "1563/1563 [==============================] - 180s 115ms/step - loss: 1.5331 - acc: 0.4354 - categorical_accuracy: 0.4354 - val_loss: 1.4156 - val_acc: 0.4855 - val_categorical_accuracy: 0.4855\n",
      "Epoch 4/5\n",
      "1563/1563 [==============================] - 184s 118ms/step - loss: 1.4384 - acc: 0.4754 - categorical_accuracy: 0.4754 - val_loss: 1.5135 - val_acc: 0.4640 - val_categorical_accuracy: 0.4640\n",
      "Epoch 5/5\n",
      "1563/1563 [==============================] - 188s 120ms/step - loss: 1.3599 - acc: 0.5071 - categorical_accuracy: 0.5071 - val_loss: 1.3383 - val_acc: 0.5321 - val_categorical_accuracy: 0.5321\n"
     ]
    },
    {
     "data": {
      "text/plain": [
       "<keras.callbacks.History at 0x1823fda7f0>"
      ]
     },
     "execution_count": 40,
     "metadata": {},
     "output_type": "execute_result"
    }
   ],
   "source": [
    "model_layer = Sequential()\n",
    "model_layer.add(Conv2D(32, (3, 3), padding='same',\n",
    "input_shape=x_train.shape[1:]))\n",
    "model_layer.add(Activation('relu'))\n",
    "model_layer.add(Conv2D(32, (3, 3)))\n",
    "model_layer.add(Activation('relu'))\n",
    "model_layer.add(MaxPooling2D(pool_size=(2, 2)))\n",
    "model_layer.add(Dropout(0.25))\n",
    "\n",
    "model_layer.add(Conv2D(64, (3, 3), padding='same'))\n",
    "model_layer.add(Activation('relu'))\n",
    "model_layer.add(Conv2D(64, (3, 3)))\n",
    "model_layer.add(Activation('relu'))\n",
    "model_layer.add(MaxPooling2D(pool_size=(2, 2)))\n",
    "model_layer.add(Dropout(0.25))\n",
    "\n",
    "model_layer.add(Conv2D(128, (3, 3), padding='same'))\n",
    "model_layer.add(Activation('relu'))\n",
    "model_layer.add(Conv2D(128, (3, 3)))\n",
    "model_layer.add(Activation('relu'))\n",
    "model_layer.add(MaxPooling2D(pool_size=(2, 2)))\n",
    "model_layer.add(Dropout(0.25))\n",
    "\n",
    "model_layer.add(Flatten())\n",
    "model_layer.add(Dense(512))\n",
    "model_layer.add(Activation('relu'))\n",
    "model_layer.add(Dropout(0.25))\n",
    "model_layer.add(Dense(num_classes))\n",
    "model_layer.add(Activation('softmax'))\n",
    "\n",
    "model_layer.compile(loss='categorical_crossentropy',\n",
    "optimizer=opt,\n",
    "metrics=['accuracy',metrics.categorical_accuracy])\n",
    "\n",
    "model_layer.fit_generator(datagen.flow(x_train, y_train,\n",
    "    batch_size=batch_size),\n",
    "    epochs=epochs,\n",
    "    validation_data=(x_test, y_test),\n",
    "    workers=4)"
   ]
  },
  {
   "cell_type": "code",
   "execution_count": 41,
   "metadata": {},
   "outputs": [
    {
     "name": "stdout",
     "output_type": "stream",
     "text": [
      "10000/10000 [==============================] - 8s 781us/step\n",
      "Test loss: 1.33829700947\n",
      "Test accuracy: 0.5321\n"
     ]
    }
   ],
   "source": [
    "score = model_layer.evaluate(x_test, y_test, verbose=1)\n",
    "print('Test loss:', score[0])\n",
    "print('Test accuracy:', score[1])"
   ]
  },
  {
   "cell_type": "markdown",
   "metadata": {},
   "source": [
    "**The accuracy decreased and the loss increased.**"
   ]
  },
  {
   "cell_type": "markdown",
   "metadata": {},
   "source": [
    "**Change learning rate from 0.0001 to 0.0002**"
   ]
  },
  {
   "cell_type": "code",
   "execution_count": 32,
   "metadata": {},
   "outputs": [
    {
     "name": "stdout",
     "output_type": "stream",
     "text": [
      "Epoch 1/5\n",
      "1563/1563 [==============================] - 142s 91ms/step - loss: 1.7016 - acc: 0.3767 - categorical_accuracy: 0.3767 - val_loss: 1.4014 - val_acc: 0.4909 - val_categorical_accuracy: 0.4909\n",
      "Epoch 2/5\n",
      "1563/1563 [==============================] - 147s 94ms/step - loss: 1.4003 - acc: 0.4952 - categorical_accuracy: 0.4952 - val_loss: 1.1793 - val_acc: 0.5759 - val_categorical_accuracy: 0.5759\n",
      "Epoch 3/5\n",
      "1563/1563 [==============================] - 158s 101ms/step - loss: 1.2586 - acc: 0.5521 - categorical_accuracy: 0.5521 - val_loss: 1.0647 - val_acc: 0.6230 - val_categorical_accuracy: 0.6230\n",
      "Epoch 4/5\n",
      "1563/1563 [==============================] - 151s 97ms/step - loss: 1.1687 - acc: 0.5841 - categorical_accuracy: 0.5841 - val_loss: 1.0192 - val_acc: 0.6381 - val_categorical_accuracy: 0.6381\n",
      "Epoch 5/5\n",
      "1563/1563 [==============================] - 155s 99ms/step - loss: 1.0940 - acc: 0.6129 - categorical_accuracy: 0.6129 - val_loss: 1.0001 - val_acc: 0.6517 - val_categorical_accuracy: 0.6517\n"
     ]
    },
    {
     "data": {
      "text/plain": [
       "<keras.callbacks.History at 0x1825f97278>"
      ]
     },
     "execution_count": 32,
     "metadata": {},
     "output_type": "execute_result"
    }
   ],
   "source": [
    "model_lr = Sequential()\n",
    "model_lr.add(Conv2D(32, (3, 3), padding='same',\n",
    "input_shape=x_train.shape[1:]))\n",
    "model_lr.add(Activation('relu'))\n",
    "model_lr.add(Conv2D(32, (3, 3)))\n",
    "model_lr.add(Activation('relu'))\n",
    "model_lr.add(MaxPooling2D(pool_size=(2, 2)))\n",
    "model_lr.add(Dropout(0.25))\n",
    "\n",
    "model_lr.add(Conv2D(64, (3, 3), padding='same'))\n",
    "model_lr.add(Activation('relu'))\n",
    "model_lr.add(Conv2D(64, (3, 3)))\n",
    "model_lr.add(Activation('relu'))\n",
    "model_lr.add(MaxPooling2D(pool_size=(2, 2)))\n",
    "model_lr.add(Dropout(0.25))\n",
    "\n",
    "model_lr.add(Flatten())\n",
    "model_lr.add(Dense(512))\n",
    "model_lr.add(Activation('relu'))\n",
    "model_lr.add(Dropout(0.25))\n",
    "model_lr.add(Dense(num_classes))\n",
    "model_lr.add(Activation('softmax'))\n",
    "\n",
    "model_lr.compile(loss='categorical_crossentropy',\n",
    "optimizer=keras.optimizers.rmsprop(lr=0.0002, decay=1e-6),\n",
    "metrics=['accuracy',metrics.categorical_accuracy])\n",
    "\n",
    "model_lr.fit_generator(datagen.flow(x_train, y_train,\n",
    "    batch_size=batch_size),\n",
    "    epochs=epochs,\n",
    "    validation_data=(x_test, y_test),\n",
    "    workers=4)"
   ]
  },
  {
   "cell_type": "code",
   "execution_count": 33,
   "metadata": {},
   "outputs": [
    {
     "name": "stdout",
     "output_type": "stream",
     "text": [
      "10000/10000 [==============================] - 6s 612us/step\n",
      "Test loss: 1.00013997288\n",
      "Test accuracy: 0.6517\n"
     ]
    }
   ],
   "source": [
    "score = model_lr.evaluate(x_test, y_test, verbose=1)\n",
    "print('Test loss:', score[0])\n",
    "print('Test accuracy:', score[1])"
   ]
  },
  {
   "cell_type": "markdown",
   "metadata": {},
   "source": [
    "**The accuracy increased and the loss decreased. The appropriate learning rate can increase the accuracy of model.**"
   ]
  },
  {
   "cell_type": "markdown",
   "metadata": {},
   "source": [
    "**Change activation function from relu to elu**"
   ]
  },
  {
   "cell_type": "code",
   "execution_count": 34,
   "metadata": {},
   "outputs": [
    {
     "name": "stdout",
     "output_type": "stream",
     "text": [
      "Epoch 1/5\n",
      "1563/1563 [==============================] - 146s 93ms/step - loss: 1.7654 - acc: 0.3685 - categorical_accuracy: 0.3685 - val_loss: 1.5085 - val_acc: 0.4675 - val_categorical_accuracy: 0.4675\n",
      "Epoch 2/5\n",
      "1563/1563 [==============================] - 149s 95ms/step - loss: 1.5272 - acc: 0.4592 - categorical_accuracy: 0.4592 - val_loss: 1.3895 - val_acc: 0.4973 - val_categorical_accuracy: 0.4973\n",
      "Epoch 3/5\n",
      "1563/1563 [==============================] - 153s 98ms/step - loss: 1.4114 - acc: 0.5021 - categorical_accuracy: 0.5021 - val_loss: 1.3085 - val_acc: 0.5349 - val_categorical_accuracy: 0.5349\n",
      "Epoch 4/5\n",
      "1563/1563 [==============================] - 156s 100ms/step - loss: 1.3279 - acc: 0.5333 - categorical_accuracy: 0.5333 - val_loss: 1.2035 - val_acc: 0.5741 - val_categorical_accuracy: 0.5741\n",
      "Epoch 5/5\n",
      "1563/1563 [==============================] - 155s 99ms/step - loss: 1.2732 - acc: 0.5535 - categorical_accuracy: 0.5535 - val_loss: 1.1427 - val_acc: 0.5988 - val_categorical_accuracy: 0.5988\n"
     ]
    },
    {
     "data": {
      "text/plain": [
       "<keras.callbacks.History at 0x1853d1bc88>"
      ]
     },
     "execution_count": 34,
     "metadata": {},
     "output_type": "execute_result"
    }
   ],
   "source": [
    "model_activation = Sequential()\n",
    "model_activation.add(Conv2D(32, (3, 3), padding='same',\n",
    "input_shape=x_train.shape[1:]))\n",
    "model_activation.add(Activation('elu'))\n",
    "model_activation.add(Conv2D(32, (3, 3)))\n",
    "model_activation.add(Activation('elu'))\n",
    "model_activation.add(MaxPooling2D(pool_size=(2, 2)))\n",
    "model_activation.add(Dropout(0.25))\n",
    "\n",
    "model_activation.add(Conv2D(64, (3, 3), padding='same'))\n",
    "model_activation.add(Activation('elu'))\n",
    "model_activation.add(Conv2D(64, (3, 3)))\n",
    "model_activation.add(Activation('elu'))\n",
    "model_activation.add(MaxPooling2D(pool_size=(2, 2)))\n",
    "model_activation.add(Dropout(0.25))\n",
    "\n",
    "model_activation.add(Flatten())\n",
    "model_activation.add(Dense(512))\n",
    "model_activation.add(Activation('elu'))\n",
    "model_activation.add(Dropout(0.25))\n",
    "model_activation.add(Dense(num_classes))\n",
    "model_activation.add(Activation('softmax'))\n",
    "\n",
    "model_activation.compile(loss='categorical_crossentropy',\n",
    "optimizer=opt,\n",
    "metrics=['accuracy',metrics.categorical_accuracy])\n",
    "\n",
    "model_activation.fit_generator(datagen.flow(x_train, y_train,\n",
    "    batch_size=batch_size),\n",
    "    epochs=epochs,\n",
    "    validation_data=(x_test, y_test),\n",
    "    workers=4)"
   ]
  },
  {
   "cell_type": "code",
   "execution_count": 35,
   "metadata": {},
   "outputs": [
    {
     "name": "stdout",
     "output_type": "stream",
     "text": [
      "10000/10000 [==============================] - 7s 669us/step\n",
      "Test loss: 1.14273164692\n",
      "Test accuracy: 0.5988\n"
     ]
    }
   ],
   "source": [
    "score = model_activation.evaluate(x_test, y_test, verbose=1)\n",
    "print('Test loss:', score[0])\n",
    "print('Test accuracy:', score[1])"
   ]
  },
  {
   "cell_type": "markdown",
   "metadata": {},
   "source": [
    "**The accuracy decreased and the loss increased. The activation function 'relu' is better than 'elu' in this model.**"
   ]
  },
  {
   "cell_type": "markdown",
   "metadata": {},
   "source": [
    "**Change dropout rates from 0.25 to 0.1**"
   ]
  },
  {
   "cell_type": "code",
   "execution_count": 36,
   "metadata": {},
   "outputs": [
    {
     "name": "stdout",
     "output_type": "stream",
     "text": [
      "Epoch 1/5\n",
      "1563/1563 [==============================] - 148s 94ms/step - loss: 1.7881 - acc: 0.3474 - categorical_accuracy: 0.3474 - val_loss: 1.5325 - val_acc: 0.4460 - val_categorical_accuracy: 0.4460\n",
      "Epoch 2/5\n",
      "1563/1563 [==============================] - 148s 95ms/step - loss: 1.5034 - acc: 0.4556 - categorical_accuracy: 0.4556 - val_loss: 1.3153 - val_acc: 0.5329 - val_categorical_accuracy: 0.5329\n",
      "Epoch 3/5\n",
      "1563/1563 [==============================] - 147s 94ms/step - loss: 1.3754 - acc: 0.5058 - categorical_accuracy: 0.5058 - val_loss: 1.1950 - val_acc: 0.5733 - val_categorical_accuracy: 0.5733\n",
      "Epoch 4/5\n",
      "1563/1563 [==============================] - 143s 92ms/step - loss: 1.2746 - acc: 0.5483 - categorical_accuracy: 0.5483 - val_loss: 1.1405 - val_acc: 0.5923 - val_categorical_accuracy: 0.5923\n",
      "Epoch 5/5\n",
      "1563/1563 [==============================] - 142s 91ms/step - loss: 1.1953 - acc: 0.5757 - categorical_accuracy: 0.5757 - val_loss: 1.0283 - val_acc: 0.6377 - val_categorical_accuracy: 0.6377\n"
     ]
    },
    {
     "data": {
      "text/plain": [
       "<keras.callbacks.History at 0x185461e2b0>"
      ]
     },
     "execution_count": 36,
     "metadata": {},
     "output_type": "execute_result"
    }
   ],
   "source": [
    "model_dropout = Sequential()\n",
    "model_dropout.add(Conv2D(32, (3, 3), padding='same',\n",
    "input_shape=x_train.shape[1:]))\n",
    "model_dropout.add(Activation('relu'))\n",
    "model_dropout.add(Conv2D(32, (3, 3)))\n",
    "model_dropout.add(Activation('relu'))\n",
    "model_dropout.add(MaxPooling2D(pool_size=(2, 2)))\n",
    "model_dropout.add(Dropout(0.1))\n",
    "\n",
    "model_dropout.add(Conv2D(64, (3, 3), padding='same'))\n",
    "model_dropout.add(Activation('relu'))\n",
    "model_dropout.add(Conv2D(64, (3, 3)))\n",
    "model_dropout.add(Activation('relu'))\n",
    "model_dropout.add(MaxPooling2D(pool_size=(2, 2)))\n",
    "model_dropout.add(Dropout(0.1))\n",
    "\n",
    "model_dropout.add(Flatten())\n",
    "model_dropout.add(Dense(512))\n",
    "model_dropout.add(Activation('relu'))\n",
    "model_dropout.add(Dropout(0.1))\n",
    "model_dropout.add(Dense(num_classes))\n",
    "model_dropout.add(Activation('softmax'))\n",
    "\n",
    "model_dropout.compile(loss='categorical_crossentropy',\n",
    "optimizer=opt,\n",
    "metrics=['accuracy',metrics.categorical_accuracy])\n",
    "\n",
    "model_dropout.fit_generator(datagen.flow(x_train, y_train,\n",
    "    batch_size=batch_size),\n",
    "    epochs=epochs,\n",
    "    validation_data=(x_test, y_test),\n",
    "    workers=4)"
   ]
  },
  {
   "cell_type": "code",
   "execution_count": 37,
   "metadata": {},
   "outputs": [
    {
     "name": "stdout",
     "output_type": "stream",
     "text": [
      "10000/10000 [==============================] - 6s 590us/step\n",
      "Test loss: 1.02828486137\n",
      "Test accuracy: 0.6377\n"
     ]
    }
   ],
   "source": [
    "score = model_dropout.evaluate(x_test, y_test, verbose=1)\n",
    "print('Test loss:', score[0])\n",
    "print('Test accuracy:', score[1])"
   ]
  },
  {
   "cell_type": "markdown",
   "metadata": {},
   "source": [
    "**The accuracy increased and the loss decreased. The appropriate dropout rate can increase the accuracy of model.**"
   ]
  },
  {
   "cell_type": "markdown",
   "metadata": {},
   "source": [
    "**My best model is in file '7374 Assignment1 Best Model'**"
   ]
  },
  {
   "cell_type": "code",
   "execution_count": 44,
   "metadata": {},
   "outputs": [
    {
     "name": "stdout",
     "output_type": "stream",
     "text": [
      "Epoch 1/100\n",
      "1563/1563 [==============================] - 153s 98ms/step - loss: 1.6513 - acc: 0.3980 - categorical_accuracy: 0.3980 - val_loss: 1.3325 - val_acc: 0.5210 - val_categorical_accuracy: 0.5210\n",
      "Epoch 2/100\n",
      "1563/1563 [==============================] - 148s 95ms/step - loss: 1.3411 - acc: 0.5206 - categorical_accuracy: 0.5206 - val_loss: 1.1658 - val_acc: 0.5924 - val_categorical_accuracy: 0.5924\n",
      "Epoch 3/100\n",
      "1563/1563 [==============================] - 152s 97ms/step - loss: 1.1825 - acc: 0.5838 - categorical_accuracy: 0.5838 - val_loss: 0.9931 - val_acc: 0.6490 - val_categorical_accuracy: 0.6490\n",
      "Epoch 4/100\n",
      "1563/1563 [==============================] - 152s 97ms/step - loss: 1.0828 - acc: 0.6185 - categorical_accuracy: 0.6185 - val_loss: 1.0200 - val_acc: 0.6452 - val_categorical_accuracy: 0.6452\n",
      "Epoch 5/100\n",
      "1563/1563 [==============================] - 154s 99ms/step - loss: 1.0118 - acc: 0.6440 - categorical_accuracy: 0.6440 - val_loss: 0.9375 - val_acc: 0.6786 - val_categorical_accuracy: 0.6786\n",
      "Epoch 6/100\n",
      "1563/1563 [==============================] - 153s 98ms/step - loss: 0.9477 - acc: 0.6668 - categorical_accuracy: 0.6668 - val_loss: 0.9235 - val_acc: 0.6867 - val_categorical_accuracy: 0.6867\n",
      "Epoch 7/100\n",
      "1563/1563 [==============================] - 153s 98ms/step - loss: 0.8942 - acc: 0.6864 - categorical_accuracy: 0.6864 - val_loss: 0.8011 - val_acc: 0.7182 - val_categorical_accuracy: 0.7182\n",
      "Epoch 8/100\n",
      "1563/1563 [==============================] - 153s 98ms/step - loss: 0.8481 - acc: 0.7030 - categorical_accuracy: 0.7030 - val_loss: 0.7953 - val_acc: 0.7272 - val_categorical_accuracy: 0.7272\n",
      "Epoch 9/100\n",
      "1563/1563 [==============================] - 153s 98ms/step - loss: 0.8161 - acc: 0.7143 - categorical_accuracy: 0.7143 - val_loss: 0.7134 - val_acc: 0.7555 - val_categorical_accuracy: 0.7555\n",
      "Epoch 10/100\n",
      "1563/1563 [==============================] - 153s 98ms/step - loss: 0.7873 - acc: 0.7255 - categorical_accuracy: 0.7255 - val_loss: 0.7025 - val_acc: 0.7615 - val_categorical_accuracy: 0.7615\n",
      "Epoch 11/100\n",
      "1563/1563 [==============================] - 153s 98ms/step - loss: 0.7624 - acc: 0.7368 - categorical_accuracy: 0.7368 - val_loss: 0.6834 - val_acc: 0.7651 - val_categorical_accuracy: 0.7651\n",
      "Epoch 12/100\n",
      "1563/1563 [==============================] - 153s 98ms/step - loss: 0.7399 - acc: 0.7437 - categorical_accuracy: 0.7437 - val_loss: 0.7079 - val_acc: 0.7564 - val_categorical_accuracy: 0.7564\n",
      "Epoch 13/100\n",
      "1563/1563 [==============================] - 153s 98ms/step - loss: 0.7267 - acc: 0.7508 - categorical_accuracy: 0.7508 - val_loss: 0.7351 - val_acc: 0.7558 - val_categorical_accuracy: 0.7558\n",
      "Epoch 14/100\n",
      "1563/1563 [==============================] - 153s 98ms/step - loss: 0.7143 - acc: 0.7557 - categorical_accuracy: 0.7557 - val_loss: 0.6508 - val_acc: 0.7810 - val_categorical_accuracy: 0.7810\n",
      "Epoch 15/100\n",
      "1563/1563 [==============================] - 151s 97ms/step - loss: 0.7054 - acc: 0.7552 - categorical_accuracy: 0.7552 - val_loss: 0.6975 - val_acc: 0.7646 - val_categorical_accuracy: 0.7646\n",
      "Epoch 16/100\n",
      "1563/1563 [==============================] - 152s 97ms/step - loss: 0.6941 - acc: 0.7617 - categorical_accuracy: 0.7617 - val_loss: 0.6478 - val_acc: 0.7792 - val_categorical_accuracy: 0.7792\n",
      "Epoch 17/100\n",
      "1563/1563 [==============================] - 150s 96ms/step - loss: 0.6885 - acc: 0.7628 - categorical_accuracy: 0.7628 - val_loss: 0.6472 - val_acc: 0.7812 - val_categorical_accuracy: 0.7812\n",
      "Epoch 18/100\n",
      "1563/1563 [==============================] - 151s 96ms/step - loss: 0.6824 - acc: 0.7659 - categorical_accuracy: 0.7659 - val_loss: 0.6419 - val_acc: 0.7837 - val_categorical_accuracy: 0.7837\n",
      "Epoch 19/100\n",
      "1563/1563 [==============================] - 151s 97ms/step - loss: 0.6757 - acc: 0.7688 - categorical_accuracy: 0.7688 - val_loss: 0.6698 - val_acc: 0.7761 - val_categorical_accuracy: 0.7761\n",
      "Epoch 20/100\n",
      "1563/1563 [==============================] - 150s 96ms/step - loss: 0.6774 - acc: 0.7686 - categorical_accuracy: 0.7686 - val_loss: 0.6925 - val_acc: 0.7758 - val_categorical_accuracy: 0.7758\n",
      "Epoch 21/100\n",
      "1563/1563 [==============================] - 145s 93ms/step - loss: 0.6692 - acc: 0.7737 - categorical_accuracy: 0.7737 - val_loss: 0.6752 - val_acc: 0.7732 - val_categorical_accuracy: 0.7732\n",
      "Epoch 22/100\n",
      "1563/1563 [==============================] - 153s 98ms/step - loss: 0.6651 - acc: 0.7723 - categorical_accuracy: 0.7723 - val_loss: 0.6408 - val_acc: 0.7863 - val_categorical_accuracy: 0.7863\n",
      "Epoch 23/100\n",
      "1563/1563 [==============================] - 153s 98ms/step - loss: 0.6632 - acc: 0.7746 - categorical_accuracy: 0.7746 - val_loss: 0.7010 - val_acc: 0.7685 - val_categorical_accuracy: 0.7685\n",
      "Epoch 24/100\n",
      "1563/1563 [==============================] - 144s 92ms/step - loss: 0.6641 - acc: 0.7744 - categorical_accuracy: 0.7744 - val_loss: 0.6347 - val_acc: 0.7908 - val_categorical_accuracy: 0.7908\n",
      "Epoch 25/100\n",
      "1563/1563 [==============================] - 151s 97ms/step - loss: 0.6569 - acc: 0.7777 - categorical_accuracy: 0.7777 - val_loss: 0.6593 - val_acc: 0.7967 - val_categorical_accuracy: 0.7967\n",
      "Epoch 26/100\n",
      "1563/1563 [==============================] - 152s 97ms/step - loss: 0.6568 - acc: 0.7776 - categorical_accuracy: 0.7776 - val_loss: 0.6333 - val_acc: 0.7880 - val_categorical_accuracy: 0.7880\n",
      "Epoch 27/100\n",
      "1563/1563 [==============================] - 152s 97ms/step - loss: 0.6548 - acc: 0.7786 - categorical_accuracy: 0.7786 - val_loss: 0.6490 - val_acc: 0.7815 - val_categorical_accuracy: 0.7815\n",
      "Epoch 28/100\n",
      "1563/1563 [==============================] - 152s 97ms/step - loss: 0.6552 - acc: 0.7790 - categorical_accuracy: 0.7790 - val_loss: 0.6150 - val_acc: 0.7998 - val_categorical_accuracy: 0.7998\n",
      "Epoch 29/100\n",
      "1563/1563 [==============================] - 150s 96ms/step - loss: 0.6521 - acc: 0.7795 - categorical_accuracy: 0.7795 - val_loss: 0.7436 - val_acc: 0.7706 - val_categorical_accuracy: 0.7706\n",
      "Epoch 30/100\n",
      "1563/1563 [==============================] - 149s 95ms/step - loss: 0.6536 - acc: 0.7790 - categorical_accuracy: 0.7790 - val_loss: 0.7179 - val_acc: 0.7701 - val_categorical_accuracy: 0.7701\n",
      "Epoch 31/100\n",
      "1563/1563 [==============================] - 147s 94ms/step - loss: 0.6497 - acc: 0.7816 - categorical_accuracy: 0.7816 - val_loss: 0.6572 - val_acc: 0.7762 - val_categorical_accuracy: 0.7762\n",
      "Epoch 32/100\n",
      "1563/1563 [==============================] - 138s 89ms/step - loss: 0.6502 - acc: 0.7820 - categorical_accuracy: 0.7820 - val_loss: 0.6750 - val_acc: 0.7847 - val_categorical_accuracy: 0.7847\n",
      "Epoch 33/100\n",
      "1563/1563 [==============================] - 151s 97ms/step - loss: 0.6474 - acc: 0.7811 - categorical_accuracy: 0.7811 - val_loss: 0.6020 - val_acc: 0.8008 - val_categorical_accuracy: 0.8008\n",
      "Epoch 34/100\n",
      "1563/1563 [==============================] - 146s 94ms/step - loss: 0.6453 - acc: 0.7851 - categorical_accuracy: 0.7851 - val_loss: 0.6475 - val_acc: 0.7934 - val_categorical_accuracy: 0.7934\n",
      "Epoch 35/100\n",
      "1563/1563 [==============================] - 151s 96ms/step - loss: 0.6424 - acc: 0.7846 - categorical_accuracy: 0.7846 - val_loss: 0.6701 - val_acc: 0.7880 - val_categorical_accuracy: 0.7880\n",
      "Epoch 36/100\n",
      "1563/1563 [==============================] - 147s 94ms/step - loss: 0.6456 - acc: 0.7828 - categorical_accuracy: 0.7828 - val_loss: 0.6009 - val_acc: 0.8085 - val_categorical_accuracy: 0.8085\n",
      "Epoch 37/100\n",
      "1563/1563 [==============================] - 152s 97ms/step - loss: 0.6433 - acc: 0.7847 - categorical_accuracy: 0.7847 - val_loss: 0.6446 - val_acc: 0.7852 - val_categorical_accuracy: 0.7852\n",
      "Epoch 38/100\n",
      "1563/1563 [==============================] - 151s 97ms/step - loss: 0.6439 - acc: 0.7861 - categorical_accuracy: 0.7861 - val_loss: 0.6719 - val_acc: 0.7783 - val_categorical_accuracy: 0.7783\n",
      "Epoch 39/100\n",
      "1563/1563 [==============================] - 152s 97ms/step - loss: 0.6436 - acc: 0.7854 - categorical_accuracy: 0.7854 - val_loss: 0.6420 - val_acc: 0.7908 - val_categorical_accuracy: 0.7908\n",
      "Epoch 40/100\n",
      "1563/1563 [==============================] - 152s 98ms/step - loss: 0.6438 - acc: 0.7821 - categorical_accuracy: 0.7821 - val_loss: 0.6316 - val_acc: 0.7952 - val_categorical_accuracy: 0.7952\n",
      "Epoch 41/100\n"
     ]
    },
    {
     "name": "stdout",
     "output_type": "stream",
     "text": [
      "1563/1563 [==============================] - 150s 96ms/step - loss: 0.6464 - acc: 0.7857 - categorical_accuracy: 0.7857 - val_loss: 0.5784 - val_acc: 0.8072 - val_categorical_accuracy: 0.8072\n",
      "Epoch 42/100\n",
      "1563/1563 [==============================] - 149s 95ms/step - loss: 0.6449 - acc: 0.7837 - categorical_accuracy: 0.7837 - val_loss: 0.6507 - val_acc: 0.7901 - val_categorical_accuracy: 0.7901\n",
      "Epoch 43/100\n",
      "1563/1563 [==============================] - 149s 96ms/step - loss: 0.6426 - acc: 0.7852 - categorical_accuracy: 0.7852 - val_loss: 0.6256 - val_acc: 0.8040 - val_categorical_accuracy: 0.8040\n",
      "Epoch 44/100\n",
      "1563/1563 [==============================] - 151s 97ms/step - loss: 0.6468 - acc: 0.7842 - categorical_accuracy: 0.7842 - val_loss: 0.5898 - val_acc: 0.8080 - val_categorical_accuracy: 0.8080\n",
      "Epoch 45/100\n",
      "1563/1563 [==============================] - 151s 97ms/step - loss: 0.6475 - acc: 0.7832 - categorical_accuracy: 0.7832 - val_loss: 0.6625 - val_acc: 0.7851 - val_categorical_accuracy: 0.7851\n",
      "Epoch 46/100\n",
      "1563/1563 [==============================] - 151s 96ms/step - loss: 0.6510 - acc: 0.7832 - categorical_accuracy: 0.7832 - val_loss: 0.6880 - val_acc: 0.7717 - val_categorical_accuracy: 0.7717\n",
      "Epoch 47/100\n",
      "1563/1563 [==============================] - 151s 97ms/step - loss: 0.6471 - acc: 0.7852 - categorical_accuracy: 0.7852 - val_loss: 0.7173 - val_acc: 0.7686 - val_categorical_accuracy: 0.7686\n",
      "Epoch 48/100\n",
      "1563/1563 [==============================] - 151s 97ms/step - loss: 0.6458 - acc: 0.7845 - categorical_accuracy: 0.7845 - val_loss: 0.6584 - val_acc: 0.7867 - val_categorical_accuracy: 0.7867\n",
      "Epoch 49/100\n",
      "1563/1563 [==============================] - 150s 96ms/step - loss: 0.6500 - acc: 0.7833 - categorical_accuracy: 0.7833 - val_loss: 0.6124 - val_acc: 0.8002 - val_categorical_accuracy: 0.8002\n",
      "Epoch 50/100\n",
      "1563/1563 [==============================] - 151s 96ms/step - loss: 0.6458 - acc: 0.7856 - categorical_accuracy: 0.7856 - val_loss: 0.6985 - val_acc: 0.7730 - val_categorical_accuracy: 0.7730\n",
      "Epoch 51/100\n",
      "1563/1563 [==============================] - 152s 97ms/step - loss: 0.6498 - acc: 0.7836 - categorical_accuracy: 0.7836 - val_loss: 0.6987 - val_acc: 0.7726 - val_categorical_accuracy: 0.7726\n",
      "Epoch 52/100\n",
      "1563/1563 [==============================] - 151s 97ms/step - loss: 0.6475 - acc: 0.7865 - categorical_accuracy: 0.7865 - val_loss: 0.5997 - val_acc: 0.8105 - val_categorical_accuracy: 0.8105\n",
      "Epoch 53/100\n",
      "1563/1563 [==============================] - 152s 97ms/step - loss: 0.6517 - acc: 0.7840 - categorical_accuracy: 0.7840 - val_loss: 0.7755 - val_acc: 0.7739 - val_categorical_accuracy: 0.7739\n",
      "Epoch 54/100\n",
      "1563/1563 [==============================] - 152s 97ms/step - loss: 0.6495 - acc: 0.7854 - categorical_accuracy: 0.7854 - val_loss: 0.6932 - val_acc: 0.7815 - val_categorical_accuracy: 0.7815\n",
      "Epoch 55/100\n",
      "1563/1563 [==============================] - 152s 97ms/step - loss: 0.6571 - acc: 0.7845 - categorical_accuracy: 0.7845 - val_loss: 0.6604 - val_acc: 0.7794 - val_categorical_accuracy: 0.7794\n",
      "Epoch 56/100\n",
      "1563/1563 [==============================] - 152s 97ms/step - loss: 0.6549 - acc: 0.7838 - categorical_accuracy: 0.7838 - val_loss: 0.7308 - val_acc: 0.7913 - val_categorical_accuracy: 0.7913\n",
      "Epoch 57/100\n",
      "1563/1563 [==============================] - 151s 97ms/step - loss: 0.6598 - acc: 0.7808 - categorical_accuracy: 0.7808 - val_loss: 0.5935 - val_acc: 0.8090 - val_categorical_accuracy: 0.8090\n",
      "Epoch 58/100\n",
      "1563/1563 [==============================] - 150s 96ms/step - loss: 0.6647 - acc: 0.7811 - categorical_accuracy: 0.7811 - val_loss: 0.6762 - val_acc: 0.7940 - val_categorical_accuracy: 0.7940\n",
      "Epoch 59/100\n",
      "1563/1563 [==============================] - 150s 96ms/step - loss: 0.6619 - acc: 0.7813 - categorical_accuracy: 0.7813 - val_loss: 0.6720 - val_acc: 0.7862 - val_categorical_accuracy: 0.7862\n",
      "Epoch 60/100\n",
      "1563/1563 [==============================] - 151s 97ms/step - loss: 0.6517 - acc: 0.7841 - categorical_accuracy: 0.7841 - val_loss: 0.7018 - val_acc: 0.7817 - val_categorical_accuracy: 0.7817\n",
      "Epoch 61/100\n",
      "1563/1563 [==============================] - 151s 96ms/step - loss: 0.6643 - acc: 0.7796 - categorical_accuracy: 0.7796 - val_loss: 0.6768 - val_acc: 0.7889 - val_categorical_accuracy: 0.7889\n",
      "Epoch 62/100\n",
      "1563/1563 [==============================] - 149s 96ms/step - loss: 0.6684 - acc: 0.7810 - categorical_accuracy: 0.7810 - val_loss: 0.6778 - val_acc: 0.7838 - val_categorical_accuracy: 0.7838\n",
      "Epoch 63/100\n",
      "1563/1563 [==============================] - 151s 96ms/step - loss: 0.6659 - acc: 0.7808 - categorical_accuracy: 0.7808 - val_loss: 0.6410 - val_acc: 0.7980 - val_categorical_accuracy: 0.7980\n",
      "Epoch 64/100\n",
      "1563/1563 [==============================] - 152s 97ms/step - loss: 0.6707 - acc: 0.7786 - categorical_accuracy: 0.7786 - val_loss: 0.8453 - val_acc: 0.7616 - val_categorical_accuracy: 0.7616\n",
      "Epoch 65/100\n",
      "1563/1563 [==============================] - 151s 97ms/step - loss: 0.6734 - acc: 0.7772 - categorical_accuracy: 0.7772 - val_loss: 0.6152 - val_acc: 0.8023 - val_categorical_accuracy: 0.8023\n",
      "Epoch 66/100\n",
      "1563/1563 [==============================] - 151s 97ms/step - loss: 0.6788 - acc: 0.7775 - categorical_accuracy: 0.7775 - val_loss: 0.7425 - val_acc: 0.7655 - val_categorical_accuracy: 0.7655\n",
      "Epoch 67/100\n",
      "1563/1563 [==============================] - 150s 96ms/step - loss: 0.6776 - acc: 0.7772 - categorical_accuracy: 0.7772 - val_loss: 0.6910 - val_acc: 0.7820 - val_categorical_accuracy: 0.7820\n",
      "Epoch 68/100\n",
      "1563/1563 [==============================] - 150s 96ms/step - loss: 0.6822 - acc: 0.7776 - categorical_accuracy: 0.7776 - val_loss: 0.6117 - val_acc: 0.8073 - val_categorical_accuracy: 0.8073\n",
      "Epoch 69/100\n",
      "1563/1563 [==============================] - 152s 97ms/step - loss: 0.6859 - acc: 0.7749 - categorical_accuracy: 0.7749 - val_loss: 0.6293 - val_acc: 0.8050 - val_categorical_accuracy: 0.8050\n",
      "Epoch 70/100\n",
      "1563/1563 [==============================] - 150s 96ms/step - loss: 0.6825 - acc: 0.7785 - categorical_accuracy: 0.7785 - val_loss: 0.6442 - val_acc: 0.8022 - val_categorical_accuracy: 0.8022\n",
      "Epoch 71/100\n",
      "1563/1563 [==============================] - 151s 97ms/step - loss: 0.6981 - acc: 0.7707 - categorical_accuracy: 0.7707 - val_loss: 0.6822 - val_acc: 0.7734 - val_categorical_accuracy: 0.7734\n",
      "Epoch 72/100\n",
      "1563/1563 [==============================] - 151s 97ms/step - loss: 0.6983 - acc: 0.7705 - categorical_accuracy: 0.7705 - val_loss: 0.8468 - val_acc: 0.7458 - val_categorical_accuracy: 0.7458\n",
      "Epoch 73/100\n",
      "1563/1563 [==============================] - 152s 97ms/step - loss: 0.6990 - acc: 0.7735 - categorical_accuracy: 0.7735 - val_loss: 0.6909 - val_acc: 0.7724 - val_categorical_accuracy: 0.7724\n",
      "Epoch 74/100\n",
      "1563/1563 [==============================] - 151s 97ms/step - loss: 0.7070 - acc: 0.7669 - categorical_accuracy: 0.7669 - val_loss: 0.6973 - val_acc: 0.7754 - val_categorical_accuracy: 0.7754\n",
      "Epoch 75/100\n",
      "1563/1563 [==============================] - 149s 95ms/step - loss: 0.7036 - acc: 0.7685 - categorical_accuracy: 0.7685 - val_loss: 0.6391 - val_acc: 0.7924 - val_categorical_accuracy: 0.7924\n",
      "Epoch 76/100\n",
      "1563/1563 [==============================] - 146s 93ms/step - loss: 0.7069 - acc: 0.7696 - categorical_accuracy: 0.7696 - val_loss: 0.6763 - val_acc: 0.7825 - val_categorical_accuracy: 0.7825\n",
      "Epoch 77/100\n",
      "1563/1563 [==============================] - 150s 96ms/step - loss: 0.7227 - acc: 0.7669 - categorical_accuracy: 0.7669 - val_loss: 0.7923 - val_acc: 0.7622 - val_categorical_accuracy: 0.7622\n",
      "Epoch 78/100\n",
      "1563/1563 [==============================] - 151s 97ms/step - loss: 0.7281 - acc: 0.7654 - categorical_accuracy: 0.7654 - val_loss: 0.6845 - val_acc: 0.7851 - val_categorical_accuracy: 0.7851\n",
      "Epoch 79/100\n",
      "1563/1563 [==============================] - 151s 97ms/step - loss: 0.7245 - acc: 0.7610 - categorical_accuracy: 0.7610 - val_loss: 0.7367 - val_acc: 0.7829 - val_categorical_accuracy: 0.7829\n",
      "Epoch 80/100\n",
      "1563/1563 [==============================] - 151s 97ms/step - loss: 0.7347 - acc: 0.7646 - categorical_accuracy: 0.7646 - val_loss: 0.7112 - val_acc: 0.7837 - val_categorical_accuracy: 0.7837\n",
      "Epoch 81/100\n"
     ]
    },
    {
     "name": "stdout",
     "output_type": "stream",
     "text": [
      "1563/1563 [==============================] - 151s 96ms/step - loss: 0.7349 - acc: 0.7606 - categorical_accuracy: 0.7606 - val_loss: 0.7338 - val_acc: 0.7739 - val_categorical_accuracy: 0.7739\n",
      "Epoch 82/100\n",
      "1563/1563 [==============================] - 150s 96ms/step - loss: 0.7396 - acc: 0.7598 - categorical_accuracy: 0.7598 - val_loss: 0.7476 - val_acc: 0.7481 - val_categorical_accuracy: 0.7481\n",
      "Epoch 83/100\n",
      "1563/1563 [==============================] - 151s 96ms/step - loss: 0.7476 - acc: 0.7559 - categorical_accuracy: 0.7559 - val_loss: 0.7143 - val_acc: 0.7830 - val_categorical_accuracy: 0.7830\n",
      "Epoch 84/100\n",
      "1563/1563 [==============================] - 152s 97ms/step - loss: 0.7488 - acc: 0.7583 - categorical_accuracy: 0.7583 - val_loss: 0.7067 - val_acc: 0.7677 - val_categorical_accuracy: 0.7677\n",
      "Epoch 85/100\n",
      "1563/1563 [==============================] - 150s 96ms/step - loss: 0.7581 - acc: 0.7534 - categorical_accuracy: 0.7534 - val_loss: 0.6504 - val_acc: 0.7855 - val_categorical_accuracy: 0.7855\n",
      "Epoch 86/100\n",
      "1563/1563 [==============================] - 151s 97ms/step - loss: 0.7604 - acc: 0.7524 - categorical_accuracy: 0.7524 - val_loss: 0.7364 - val_acc: 0.7662 - val_categorical_accuracy: 0.7662\n",
      "Epoch 87/100\n",
      "1563/1563 [==============================] - 153s 98ms/step - loss: 0.7705 - acc: 0.7506 - categorical_accuracy: 0.7506 - val_loss: 0.8554 - val_acc: 0.7579 - val_categorical_accuracy: 0.7579\n",
      "Epoch 88/100\n",
      "1563/1563 [==============================] - 151s 96ms/step - loss: 0.7805 - acc: 0.7468 - categorical_accuracy: 0.7468 - val_loss: 0.8637 - val_acc: 0.7575 - val_categorical_accuracy: 0.7575\n",
      "Epoch 89/100\n",
      "1563/1563 [==============================] - 152s 97ms/step - loss: 0.7835 - acc: 0.7470 - categorical_accuracy: 0.7470 - val_loss: 0.8572 - val_acc: 0.7293 - val_categorical_accuracy: 0.7293\n",
      "Epoch 90/100\n",
      "1563/1563 [==============================] - 141s 90ms/step - loss: 0.7921 - acc: 0.7442 - categorical_accuracy: 0.7442 - val_loss: 0.7826 - val_acc: 0.7466 - val_categorical_accuracy: 0.7466\n",
      "Epoch 91/100\n",
      "1563/1563 [==============================] - 143s 91ms/step - loss: 0.7978 - acc: 0.7451 - categorical_accuracy: 0.7451 - val_loss: 0.9691 - val_acc: 0.7573 - val_categorical_accuracy: 0.7573\n",
      "Epoch 92/100\n",
      "1563/1563 [==============================] - 152s 97ms/step - loss: 0.8117 - acc: 0.7392 - categorical_accuracy: 0.7392 - val_loss: 0.7099 - val_acc: 0.7797 - val_categorical_accuracy: 0.7797\n",
      "Epoch 93/100\n",
      "1563/1563 [==============================] - 152s 97ms/step - loss: 0.8151 - acc: 0.7372 - categorical_accuracy: 0.7372 - val_loss: 0.7374 - val_acc: 0.7541 - val_categorical_accuracy: 0.7541\n",
      "Epoch 94/100\n",
      "1563/1563 [==============================] - 150s 96ms/step - loss: 0.8253 - acc: 0.7346 - categorical_accuracy: 0.7346 - val_loss: 0.7427 - val_acc: 0.7709 - val_categorical_accuracy: 0.7709\n",
      "Epoch 95/100\n",
      "1563/1563 [==============================] - 150s 96ms/step - loss: 0.8325 - acc: 0.7337 - categorical_accuracy: 0.7337 - val_loss: 0.7552 - val_acc: 0.7607 - val_categorical_accuracy: 0.7607\n",
      "Epoch 96/100\n",
      "1563/1563 [==============================] - 151s 97ms/step - loss: 0.8432 - acc: 0.7300 - categorical_accuracy: 0.7300 - val_loss: 0.9133 - val_acc: 0.7008 - val_categorical_accuracy: 0.7008\n",
      "Epoch 97/100\n",
      "1563/1563 [==============================] - 150s 96ms/step - loss: 0.8438 - acc: 0.7296 - categorical_accuracy: 0.7296 - val_loss: 0.7613 - val_acc: 0.7723 - val_categorical_accuracy: 0.7723\n",
      "Epoch 98/100\n",
      "1563/1563 [==============================] - 151s 96ms/step - loss: 0.8560 - acc: 0.7244 - categorical_accuracy: 0.7244 - val_loss: 0.7532 - val_acc: 0.7597 - val_categorical_accuracy: 0.7597\n",
      "Epoch 99/100\n",
      "1563/1563 [==============================] - 152s 97ms/step - loss: 0.8621 - acc: 0.7247 - categorical_accuracy: 0.7247 - val_loss: 0.7890 - val_acc: 0.7527 - val_categorical_accuracy: 0.7527\n",
      "Epoch 100/100\n",
      "1563/1563 [==============================] - 152s 97ms/step - loss: 0.8684 - acc: 0.7234 - categorical_accuracy: 0.7234 - val_loss: 0.7646 - val_acc: 0.7648 - val_categorical_accuracy: 0.7648\n"
     ]
    },
    {
     "data": {
      "text/plain": [
       "<keras.callbacks.History at 0x185c492748>"
      ]
     },
     "execution_count": 44,
     "metadata": {},
     "output_type": "execute_result"
    }
   ],
   "source": [
    "model_best = Sequential()\n",
    "model_best.add(Conv2D(32, (3, 3), padding='same',\n",
    "input_shape=x_train.shape[1:]))\n",
    "model_best.add(Activation('relu'))\n",
    "model_best.add(Conv2D(32, (3, 3)))\n",
    "model_best.add(Activation('relu'))\n",
    "model_best.add(MaxPooling2D(pool_size=(2, 2)))\n",
    "model_best.add(Dropout(0.1))\n",
    "\n",
    "model_best.add(Conv2D(64, (3, 3), padding='same'))\n",
    "model_best.add(Activation('relu'))\n",
    "model_best.add(Conv2D(64, (3, 3)))\n",
    "model_best.add(Activation('relu'))\n",
    "model_best.add(MaxPooling2D(pool_size=(2, 2)))\n",
    "model_best.add(Dropout(0.1))\n",
    "\n",
    "model_best.add(Flatten())\n",
    "model_best.add(Dense(512))\n",
    "model_best.add(Activation('relu'))\n",
    "model_best.add(Dropout(0.1))\n",
    "model_best.add(Dense(num_classes))\n",
    "model_best.add(Activation('softmax'))\n",
    "\n",
    "model_best.compile(loss='categorical_crossentropy',\n",
    "optimizer=keras.optimizers.rmsprop(lr=0.0002, decay=1e-6),\n",
    "metrics=['accuracy',metrics.categorical_accuracy])\n",
    "\n",
    "model_best.fit_generator(datagen.flow(x_train, y_train,\n",
    "    batch_size=batch_size),\n",
    "    epochs=100,\n",
    "    validation_data=(x_test, y_test),\n",
    "    workers=4)"
   ]
  },
  {
   "cell_type": "code",
   "execution_count": 45,
   "metadata": {},
   "outputs": [
    {
     "name": "stdout",
     "output_type": "stream",
     "text": [
      "10000/10000 [==============================] - 7s 681us/step\n",
      "Test loss: 0.764634818888\n",
      "Test accuracy: 0.7648\n"
     ]
    }
   ],
   "source": [
    "score = model_best.evaluate(x_test, y_test, verbose=1)\n",
    "print('Test loss:', score[0])\n",
    "print('Test accuracy:', score[1])"
   ]
  },
  {
   "cell_type": "markdown",
   "metadata": {},
   "source": [
    "**• You are expected to provide a recommendation for the best model you would recommend for classification. Which model (with parameter values) would you choose and why?**\n",
    "\n",
    "Because the tests above, I'd like to build a model with 100 epochs, batch size 32, 512 neurons in every layer, 3 layers, 0.0002 learning rate, activation function 'relu' and dropout rate 0.1.\n",
    "\n",
    "**• Comment on how good your model is ? Does it overfit/underfit data ? What could you do to improve the model?**\n",
    "\n",
    "My best model fits data well but it can be still improved. Because the testing accuracy is about 0.76 and the loss is 0.76. These two parameters are very close to training results. My model underfits data because the loss of model is still a high value and can be decreased.\n",
    "\n",
    "I think I can improve my model by doing follows:\n",
    "1. Add more features. If the under-fitting is due to insufficient features, I can add more feature parameters.\n",
    "2. Increase model complexity. If the model is too simple to handle complex tasks. More complexity can be used to reduce the regularization coefficients. \n",
    "3. I can test more parameters and analyze how each parameter influence the result. For example, I can train model with more epochs, or more layers."
   ]
  }
 ],
 "metadata": {
  "kernelspec": {
   "display_name": "Python 3",
   "language": "python",
   "name": "python3"
  },
  "language_info": {
   "codemirror_mode": {
    "name": "ipython",
    "version": 3
   },
   "file_extension": ".py",
   "mimetype": "text/x-python",
   "name": "python",
   "nbconvert_exporter": "python",
   "pygments_lexer": "ipython3",
   "version": "3.5.4"
  }
 },
 "nbformat": 4,
 "nbformat_minor": 2
}
