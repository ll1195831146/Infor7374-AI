{
 "cells": [
  {
   "cell_type": "code",
   "execution_count": 1,
   "metadata": {
    "_cell_guid": "b1076dfc-b9ad-4769-8c92-a6c4dae69d19",
    "_uuid": "8f2839f25d086af736a60e9eeb907d3b93b6e0e5"
   },
   "outputs": [
    {
     "name": "stdout",
     "output_type": "stream",
     "text": [
      "['imet-2019-fgvc6', 'xception']\n"
     ]
    }
   ],
   "source": [
    "# This Python 3 environment comes with many helpful analytics libraries installed\n",
    "# It is defined by the kaggle/python docker image: https://github.com/kaggle/docker-python\n",
    "# For example, here's several helpful packages to load in \n",
    "\n",
    "import numpy as np # linear algebra\n",
    "import pandas as pd # data processing, CSV file I/O (e.g. pd.read_csv)\n",
    "\n",
    "# Input data files are available in the \"../input/\" directory.\n",
    "# For example, running this (by clicking run or pressing Shift+Enter) will list the files in the input directory\n",
    "\n",
    "import os\n",
    "print(os.listdir(\"../input\"))\n",
    "\n",
    "# Any results you write to the current directory are saved as output."
   ]
  },
  {
   "cell_type": "code",
   "execution_count": 2,
   "metadata": {
    "_cell_guid": "79c7e3d0-c299-4dcb-8224-4455121ee9b0",
    "_uuid": "d629ff2d2480ee46fbb7e2d37f6b5fab8052498a"
   },
   "outputs": [
    {
     "name": "stderr",
     "output_type": "stream",
     "text": [
      "Using TensorFlow backend.\n"
     ]
    }
   ],
   "source": [
    "import os, sys\n",
    "import numpy as np\n",
    "import pandas as pd\n",
    "import matplotlib.pyplot as plt\n",
    "import skimage.io\n",
    "from skimage.transform import resize\n",
    "from imgaug import augmenters as iaa\n",
    "from tqdm import tqdm\n",
    "import PIL\n",
    "from PIL import Image\n",
    "import cv2\n",
    "from sklearn.utils import class_weight, shuffle\n",
    "from keras.losses import binary_crossentropy\n",
    "import keras.backend as K\n",
    "import tensorflow as tf\n",
    "from sklearn.metrics import f1_score, fbeta_score\n",
    "from keras.utils import Sequence\n",
    "WORKERS = 2\n",
    "CHANNEL = 3\n",
    "\n",
    "import warnings\n",
    "warnings.filterwarnings(\"ignore\")\n",
    "SIZE = 156\n",
    "NUM_CLASSES = 1103\n",
    "beta_f2=2"
   ]
  },
  {
   "cell_type": "code",
   "execution_count": 3,
   "metadata": {},
   "outputs": [],
   "source": [
    "# Load dataset info\n",
    "path_to_train = '../input/imet-2019-fgvc6/train/'\n",
    "data = pd.read_csv('../input/imet-2019-fgvc6/train.csv')\n",
    "\n",
    "train_dataset_info = []\n",
    "for name, labels in zip(data['id'], data['attribute_ids'].str.split(' ')):\n",
    "    train_dataset_info.append({\n",
    "        'path':os.path.join(path_to_train, name),\n",
    "        'labels':np.array([int(label) for label in labels])})\n",
    "train_dataset_info = np.array(train_dataset_info)"
   ]
  },
  {
   "cell_type": "code",
   "execution_count": 4,
   "metadata": {},
   "outputs": [],
   "source": [
    "gamma = 2.0\n",
    "epsilon = K.epsilon()\n",
    "def focal_loss(y_true, y_pred):\n",
    "    pt = y_pred * y_true + (1-y_pred) * (1-y_true)\n",
    "    pt = K.clip(pt, epsilon, 1-epsilon)\n",
    "    CE = -K.log(pt)\n",
    "    FL = K.pow(1-pt, gamma) * CE\n",
    "    loss = K.sum(FL, axis=1)\n",
    "    return loss"
   ]
  },
  {
   "cell_type": "code",
   "execution_count": 5,
   "metadata": {},
   "outputs": [],
   "source": [
    "sometimes = lambda aug: iaa.Sometimes(0.5, aug)\n",
    "\n",
    "class data_generator(Sequence):\n",
    "    \n",
    "    def create_train(dataset_info, batch_size, shape, augument=True):\n",
    "        assert shape[2] == 3\n",
    "        while True:\n",
    "            dataset_info = shuffle(dataset_info)\n",
    "            for start in range(0, len(dataset_info), batch_size):\n",
    "                end = min(start + batch_size, len(dataset_info))\n",
    "                batch_images = []\n",
    "                X_train_batch = dataset_info[start:end]\n",
    "                batch_labels = np.zeros((len(X_train_batch), NUM_CLASSES))\n",
    "                for i in range(len(X_train_batch)):\n",
    "                    image = data_generator.load_image(\n",
    "                        X_train_batch[i]['path'], shape)   \n",
    "                    if augument:\n",
    "                        image = data_generator.augment(image)\n",
    "                    batch_images.append(image/255.)\n",
    "                    batch_labels[i][X_train_batch[i]['labels']] = 1\n",
    "                    \n",
    "                yield np.array(batch_images, np.float32), batch_labels\n",
    "\n",
    "    def create_valid(dataset_info, batch_size, shape, augument=False):\n",
    "        assert shape[2] == 3\n",
    "        while True:\n",
    "            # dataset_info = shuffle(dataset_info)\n",
    "            for start in range(0, len(dataset_info), batch_size):\n",
    "                end = min(start + batch_size, len(dataset_info))\n",
    "                batch_images = []\n",
    "                X_train_batch = dataset_info[start:end]\n",
    "                batch_labels = np.zeros((len(X_train_batch), NUM_CLASSES))\n",
    "                for i in range(len(X_train_batch)):\n",
    "                    image = data_generator.load_image(\n",
    "                        X_train_batch[i]['path'], shape)   \n",
    "                    if augument:\n",
    "                        image = data_generator.augment(image)\n",
    "                    batch_images.append(image/255.)\n",
    "                    batch_labels[i][X_train_batch[i]['labels']] = 1\n",
    "                yield np.array(batch_images, np.float32), batch_labels\n",
    "\n",
    "\n",
    "    def load_image(path, shape):\n",
    "        image = cv2.imread(path+'.png')\n",
    "        image = cv2.resize(image, (SIZE, SIZE))\n",
    "        return image\n",
    "\n",
    "    def augment(image):\n",
    "        augment_img = iaa.Sequential([\n",
    "            iaa.OneOf([\n",
    "                iaa.Affine(rotate=0),\n",
    "                iaa.Affine(rotate=(-15,15)),\n",
    "                iaa.Crop(px=(0, 16)),\n",
    "                iaa.Affine(shear=(-5, 5)),\n",
    "                iaa.GaussianBlur(sigma=(0, 0.5)),\n",
    "                iaa.Fliplr(0.5),\n",
    "            ])], random_order=True)\n",
    "\n",
    "        image_aug = augment_img.augment_image(image)\n",
    "        return image_aug\n"
   ]
  },
  {
   "cell_type": "code",
   "execution_count": 6,
   "metadata": {},
   "outputs": [],
   "source": [
    "from keras.preprocessing.image import ImageDataGenerator\n",
    "from keras.models import Sequential, load_model\n",
    "from keras.layers import *\n",
    "from keras.applications import *\n",
    "from keras.callbacks import ModelCheckpoint\n",
    "from keras import metrics\n",
    "from keras.optimizers import Adam \n",
    "from keras import backend as K\n",
    "import keras\n",
    "from keras.models import Model"
   ]
  },
  {
   "cell_type": "code",
   "execution_count": 7,
   "metadata": {},
   "outputs": [],
   "source": [
    "# reference link: https://gist.github.com/drscotthawley/d1818aabce8d1bf082a6fb37137473ae\n",
    "from keras.callbacks import Callback\n",
    "\n",
    "def get_1cycle_schedule(lr_max=1e-3, n_data_points=8000, epochs=200, batch_size=40, verbose=0):          \n",
    "    \"\"\"\n",
    "    Creates a look-up table of learning rates for 1cycle schedule with cosine annealing\n",
    "    See @sgugger's & @jeremyhoward's code in fastai library: https://github.com/fastai/fastai/blob/master/fastai/train.py\n",
    "    Wrote this to use with my Keras and (non-fastai-)PyTorch codes.\n",
    "    Note that in Keras, the LearningRateScheduler callback (https://keras.io/callbacks/#learningratescheduler) only operates once per epoch, not per batch\n",
    "      So see below for Keras callback\n",
    "\n",
    "    Keyword arguments:\n",
    "    lr_max            chosen by user after lr_finder\n",
    "    n_data_points     data points per epoch (e.g. size of training set)\n",
    "    epochs            number of epochs\n",
    "    batch_size        batch size\n",
    "    Output:  \n",
    "    lrs               look-up table of LR's, with length equal to total # of iterations\n",
    "    Then you can use this in your PyTorch code by counting iteration number and setting\n",
    "          optimizer.param_groups[0]['lr'] = lrs[iter_count]\n",
    "    \"\"\"\n",
    "    if verbose > 0:\n",
    "        print(\"Setting up 1Cycle LR schedule...\")\n",
    "    pct_start, div_factor = 0.3, 25.        # @sgugger's parameters in fastai code\n",
    "    lr_start = lr_max/div_factor\n",
    "    lr_end = lr_start/1e4\n",
    "    n_iter = (n_data_points * epochs // batch_size) + 1    # number of iterations\n",
    "    a1 = int(n_iter * pct_start)\n",
    "    a2 = n_iter - a1\n",
    "\n",
    "    # make look-up table\n",
    "    lrs_first = np.linspace(lr_start, lr_max, a1)            # linear growth\n",
    "    lrs_second = (lr_max-lr_end)*(1+np.cos(np.linspace(0,np.pi,a2)))/2 + lr_end  # cosine annealing\n",
    "    lrs = np.concatenate((lrs_first, lrs_second))\n",
    "    return lrs\n",
    "\n",
    "\n",
    "class OneCycleScheduler(Callback):\n",
    "    \"\"\"My modification of Keras' Learning rate scheduler to do 1Cycle learning\n",
    "       which increments per BATCH, not per epoch\n",
    "    Keyword arguments\n",
    "        **kwargs:  keyword arguments to pass to get_1cycle_schedule()\n",
    "        Also, verbose: int. 0: quiet, 1: update messages.\n",
    "\n",
    "    Sample usage (from my train.py):\n",
    "        lrsched = OneCycleScheduler(lr_max=1e-4, n_data_points=X_train.shape[0],\n",
    "        epochs=epochs, batch_size=batch_size, verbose=1)\n",
    "    \"\"\"\n",
    "    def __init__(self, **kwargs):\n",
    "        super(OneCycleScheduler, self).__init__()\n",
    "        self.verbose = kwargs.get('verbose', 0)\n",
    "        self.lrs = get_1cycle_schedule(**kwargs)\n",
    "        self.iteration = 0\n",
    "\n",
    "    def on_batch_begin(self, batch, logs=None):\n",
    "        lr = self.lrs[self.iteration]\n",
    "        K.set_value(self.model.optimizer.lr, lr)         # here's where the assignment takes place\n",
    "        if self.verbose > 0:\n",
    "            print('\\nIteration %06d: OneCycleScheduler setting learning '\n",
    "                  'rate to %s.' % (self.iteration, lr))\n",
    "        self.iteration += 1\n",
    "\n",
    "    def on_epoch_end(self, epoch, logs=None):  # this is unchanged from Keras LearningRateScheduler\n",
    "        logs = logs or {}\n",
    "        logs['lr'] = K.get_value(self.model.optimizer.lr)\n",
    "        self.iteration = 0\n",
    "\n"
   ]
  },
  {
   "cell_type": "code",
   "execution_count": 8,
   "metadata": {},
   "outputs": [],
   "source": [
    "def create_model(input_shape, n_out):\n",
    "    input_tensor = Input(shape=input_shape)\n",
    "    base_model = Xception(include_top=False,\n",
    "                   weights=None,\n",
    "                   input_tensor=input_tensor)\n",
    "    base_model.load_weights('../input/xception/xception_weights_tf_dim_ordering_tf_kernels_notop.h5')\n",
    "#     x = Conv2D(32, kernel_size=(1,1), activation='relu')(base_model.output)\n",
    "#     x = Flatten()(x)\n",
    "    x = GlobalAveragePooling2D()(base_model.output)\n",
    "    x = Dropout(0.5)(x)\n",
    "    x = Dense(1024, activation='relu')(x)\n",
    "    x = Dropout(0.5)(x)\n",
    "    final_output = Dense(n_out, activation='sigmoid', name='final_output')(x)\n",
    "    model = Model(input_tensor, final_output)\n",
    "    \n",
    "    return model"
   ]
  },
  {
   "cell_type": "code",
   "execution_count": 9,
   "metadata": {},
   "outputs": [],
   "source": [
    "# create callbacks list\n",
    "from keras.callbacks import (ModelCheckpoint, LearningRateScheduler,\n",
    "                             EarlyStopping, ReduceLROnPlateau,CSVLogger)\n",
    "                             \n",
    "from sklearn.model_selection import train_test_split\n",
    "\n",
    "epochs = 28; batch_size = 64\n",
    "checkpoint = ModelCheckpoint('../working/Resnet50_focal.h5', monitor='val_loss', verbose=1, \n",
    "                             save_best_only=True, mode='min', save_weights_only = True)\n",
    "reduceLROnPlat = ReduceLROnPlateau(monitor='val_loss', factor=0.5, patience=4, \n",
    "                                   verbose=1, mode='auto', epsilon=0.0001)\n",
    "early = EarlyStopping(monitor=\"val_loss\", \n",
    "                      mode=\"min\", \n",
    "                      patience=9)\n",
    "\n",
    "csv_logger = CSVLogger(filename='../working/training_log.csv',\n",
    "                       separator=',',\n",
    "                       append=True)\n",
    "\n",
    "\n",
    "# split data into train, valid\n",
    "indexes = np.arange(train_dataset_info.shape[0])\n",
    "train_indexes, valid_indexes = train_test_split(indexes, test_size=0.15, random_state=8)\n",
    "\n",
    "# create train and valid datagens\n",
    "train_generator = data_generator.create_train(\n",
    "    train_dataset_info[train_indexes], batch_size, (SIZE,SIZE,3), augument=True)\n",
    "train_generator_warmup = data_generator.create_train(\n",
    "    train_dataset_info[train_indexes], batch_size, (SIZE,SIZE,3), augument=False)\n",
    "validation_generator = data_generator.create_valid(\n",
    "    train_dataset_info[valid_indexes], batch_size, (SIZE,SIZE,3), augument=False)\n",
    "\n",
    "lrsched = OneCycleScheduler(lr_max=1e-4, n_data_points=len(train_indexes),\n",
    "        epochs=1, batch_size=batch_size, verbose=0)\n",
    "# callbacks_list = [checkpoint, csv_logger, lrsched]\n",
    "callbacks_list = [checkpoint, csv_logger, reduceLROnPlat]"
   ]
  },
  {
   "cell_type": "code",
   "execution_count": 10,
   "metadata": {},
   "outputs": [
    {
     "name": "stdout",
     "output_type": "stream",
     "text": [
      "WARNING:tensorflow:From /opt/conda/lib/python3.6/site-packages/tensorflow/python/framework/op_def_library.py:263: colocate_with (from tensorflow.python.framework.ops) is deprecated and will be removed in a future version.\n",
      "Instructions for updating:\n",
      "Colocations handled automatically by placer.\n",
      "WARNING:tensorflow:From /opt/conda/lib/python3.6/site-packages/keras/backend/tensorflow_backend.py:3445: calling dropout (from tensorflow.python.ops.nn_ops) with keep_prob is deprecated and will be removed in a future version.\n",
      "Instructions for updating:\n",
      "Please use `rate` instead of `keep_prob`. Rate should be set to `rate = 1 - keep_prob`.\n",
      "WARNING:tensorflow:From /opt/conda/lib/python3.6/site-packages/tensorflow/python/ops/math_ops.py:3066: to_int32 (from tensorflow.python.ops.math_ops) is deprecated and will be removed in a future version.\n",
      "Instructions for updating:\n",
      "Use tf.cast instead.\n",
      "Epoch 1/2\n",
      "1451/1451 [==============================] - 451s 311ms/step - loss: 0.0180\n",
      "Epoch 2/2\n",
      "1451/1451 [==============================] - 466s 321ms/step - loss: 0.0125\n"
     ]
    },
    {
     "data": {
      "text/plain": [
       "<keras.callbacks.History at 0x7f1a47bfecf8>"
      ]
     },
     "execution_count": 10,
     "metadata": {},
     "output_type": "execute_result"
    }
   ],
   "source": [
    "# warm up model\n",
    "model = create_model(\n",
    "    input_shape=(SIZE,SIZE,3), \n",
    "    n_out=NUM_CLASSES)\n",
    "\n",
    "for layer in model.layers:\n",
    "    layer.trainable = False\n",
    "\n",
    "for i in range(-5,0):\n",
    "    model.layers[i].trainable = True\n",
    "\n",
    "model.compile(\n",
    "    loss='binary_crossentropy',\n",
    "    optimizer=Adam(1e-3))\n",
    "\n",
    "# model.summary()\n",
    "\n",
    "model.fit_generator(\n",
    "    train_generator_warmup,\n",
    "    steps_per_epoch=np.ceil(float(len(train_indexes)) / float(batch_size)),\n",
    "    epochs=2,\n",
    "    max_queue_size=16, workers=WORKERS, use_multiprocessing=True,\n",
    "    verbose=1)"
   ]
  },
  {
   "cell_type": "code",
   "execution_count": 11,
   "metadata": {},
   "outputs": [
    {
     "name": "stdout",
     "output_type": "stream",
     "text": [
      "Epoch 1/25\n",
      "1451/1451 [==============================] - 794s 547ms/step - loss: 0.0107 - val_loss: 0.0100\n",
      "\n",
      "Epoch 00001: val_loss improved from inf to 0.01000, saving model to ../working/Resnet50_focal.h5\n",
      "Epoch 2/25\n",
      "1451/1451 [==============================] - 769s 530ms/step - loss: 0.0098 - val_loss: 0.0095\n",
      "\n",
      "Epoch 00002: val_loss improved from 0.01000 to 0.00949, saving model to ../working/Resnet50_focal.h5\n",
      "Epoch 3/25\n",
      "1451/1451 [==============================] - 741s 510ms/step - loss: 0.0092 - val_loss: 0.0093\n",
      "\n",
      "Epoch 00003: val_loss improved from 0.00949 to 0.00933, saving model to ../working/Resnet50_focal.h5\n",
      "Epoch 4/25\n",
      "1451/1451 [==============================] - 753s 519ms/step - loss: 0.0091 - val_loss: 0.0091\n",
      "\n",
      "Epoch 00004: val_loss improved from 0.00933 to 0.00909, saving model to ../working/Resnet50_focal.h5\n",
      "Epoch 5/25\n",
      "1451/1451 [==============================] - 738s 509ms/step - loss: 0.0085 - val_loss: 0.0090\n",
      "\n",
      "Epoch 00005: val_loss improved from 0.00909 to 0.00899, saving model to ../working/Resnet50_focal.h5\n",
      "Epoch 6/25\n",
      "1451/1451 [==============================] - 750s 517ms/step - loss: 0.0085 - val_loss: 0.0088\n",
      "\n",
      "Epoch 00006: val_loss improved from 0.00899 to 0.00879, saving model to ../working/Resnet50_focal.h5\n",
      "Epoch 7/25\n",
      "1451/1451 [==============================] - 736s 507ms/step - loss: 0.0079 - val_loss: 0.0089\n",
      "\n",
      "Epoch 00007: val_loss did not improve from 0.00879\n",
      "\n",
      "Epoch 00007: ReduceLROnPlateau reducing learning rate to 0.0001500000071246177.\n",
      "Epoch 8/25\n",
      "1451/1451 [==============================] - 744s 513ms/step - loss: 0.0078 - val_loss: 0.0083\n",
      "\n",
      "Epoch 00008: val_loss improved from 0.00879 to 0.00830, saving model to ../working/Resnet50_focal.h5\n",
      "Epoch 9/25\n",
      " 431/1451 [=======>......................] - ETA: 7:26 - loss: 0.0070"
     ]
    }
   ],
   "source": [
    "# train all layers\n",
    "for layer in model.layers:\n",
    "    layer.trainable = True\n",
    "\n",
    "model.compile(loss='binary_crossentropy',\n",
    "            # loss=focal_loss,\n",
    "            optimizer=Adam(lr=0.0003))\n",
    "\n",
    "checkpoint = ModelCheckpoint('../working/Resnet50_focal.h5', monitor='val_loss', verbose=1, \n",
    "                             save_best_only=True, mode='min', save_weights_only = True)\n",
    "reduceLROnPlat = ReduceLROnPlateau(monitor='val_loss', factor=0.5, patience=1, \n",
    "                                   verbose=1, mode='auto', epsilon=0.0001)\n",
    "early = EarlyStopping(monitor=\"val_loss\", \n",
    "                      mode=\"min\", \n",
    "                      patience=9)\n",
    "callbacks_list = [checkpoint, csv_logger, reduceLROnPlat]\n",
    "\n",
    "model.fit_generator(\n",
    "    train_generator,\n",
    "    steps_per_epoch=np.ceil(float(len(train_indexes)) / float(batch_size)),\n",
    "    validation_data=validation_generator,\n",
    "    validation_steps=np.ceil(float(len(valid_indexes)) / float(batch_size)),\n",
    "    epochs=(epochs*0.9),\n",
    "    verbose=1,\n",
    "    max_queue_size=16, workers=WORKERS, use_multiprocessing=True,\n",
    "    callbacks=callbacks_list)\n",
    "\n",
    "model.compile(loss='binary_crossentropy',\n",
    "            # loss=focal_loss,\n",
    "            optimizer=SGD(0.0001,0.9))\n",
    "model.fit_generator(\n",
    "    train_generator,\n",
    "    steps_per_epoch=np.ceil(float(len(train_indexes)) / float(batch_size)),\n",
    "    validation_data=validation_generator,\n",
    "    validation_steps=np.ceil(float(len(valid_indexes)) / float(batch_size)),\n",
    "    epochs=(epochs*0.1),\n",
    "    verbose=1,\n",
    "    max_queue_size=16, workers=WORKERS, use_multiprocessing=True,\n",
    "    callbacks=callbacks_list)"
   ]
  },
  {
   "cell_type": "code",
   "execution_count": 12,
   "metadata": {},
   "outputs": [
    {
     "name": "stdout",
     "output_type": "stream",
     "text": [
      "['__notebook__.ipynb', 'training_log.csv', 'Resnet50_focal.h5', '__output__.json']\n"
     ]
    }
   ],
   "source": [
    "print(os.listdir('../working/'))"
   ]
  },
  {
   "cell_type": "code",
   "execution_count": 13,
   "metadata": {},
   "outputs": [],
   "source": [
    "submit = pd.read_csv('../input/imet-2019-fgvc6/sample_submission.csv')\n",
    "model.load_weights('../working/Resnet50_focal.h5')\n",
    "predicted = []"
   ]
  },
  {
   "cell_type": "code",
   "execution_count": 14,
   "metadata": {},
   "outputs": [
    {
     "name": "stderr",
     "output_type": "stream",
     "text": [
      "  0%|          | 0/33 [00:00<?, ?it/s]"
     ]
    },
    {
     "name": "stdout",
     "output_type": "stream",
     "text": [
      "32\n"
     ]
    },
    {
     "name": "stderr",
     "output_type": "stream",
     "text": [
      "100%|██████████| 33/33 [02:06<00:00,  2.71s/it]"
     ]
    },
    {
     "name": "stdout",
     "output_type": "stream",
     "text": [
      "(16386, 1103) (16386, 1103)\n"
     ]
    },
    {
     "name": "stderr",
     "output_type": "stream",
     "text": [
      "\n"
     ]
    }
   ],
   "source": [
    "'''Search for the best threshold regarding the validation set'''\n",
    "\n",
    "BATCH = 512\n",
    "fullValGen = data_generator.create_valid(\n",
    "    train_dataset_info[valid_indexes], BATCH, (SIZE,SIZE,3))\n",
    "\n",
    "n_val = round(train_dataset_info.shape[0]*0.15)//BATCH\n",
    "print(n_val)\n",
    "\n",
    "lastFullValPred = np.empty((0, NUM_CLASSES))\n",
    "lastFullValLabels = np.empty((0, NUM_CLASSES))\n",
    "for i in tqdm(range(n_val+1)): \n",
    "    im, lbl = next(fullValGen)\n",
    "    scores = model.predict(im)\n",
    "    lastFullValPred = np.append(lastFullValPred, scores, axis=0)\n",
    "    lastFullValLabels = np.append(lastFullValLabels, lbl, axis=0)\n",
    "print(lastFullValPred.shape, lastFullValLabels.shape)"
   ]
  },
  {
   "cell_type": "code",
   "execution_count": 15,
   "metadata": {},
   "outputs": [],
   "source": [
    "def my_f2(y_true, y_pred):\n",
    "    assert y_true.shape[0] == y_pred.shape[0]\n",
    "\n",
    "    tp = np.sum((y_true == 1) & (y_pred == 1))\n",
    "    tn = np.sum((y_true == 0) & (y_pred == 0))\n",
    "    fp = np.sum((y_true == 0) & (y_pred == 1))\n",
    "    fn = np.sum((y_true == 1) & (y_pred == 0))\n",
    "    \n",
    "    p = tp / (tp + fp + K.epsilon())\n",
    "    r = tp / (tp + fn + K.epsilon())\n",
    "\n",
    "    f2 = (1+beta_f2**2)*p*r / (p*beta_f2**2 + r + 1e-15)\n",
    "\n",
    "    return f2\n",
    "\n",
    "def find_best_fixed_threshold(preds, targs, do_plot=True):\n",
    "    score = []\n",
    "    thrs = np.arange(0, 0.5, 0.01)\n",
    "    for thr in tqdm(thrs):\n",
    "        score.append(my_f2(targs, (preds > thr).astype(int) ))\n",
    "    score = np.array(score)\n",
    "    pm = score.argmax()\n",
    "    best_thr, best_score = thrs[pm], score[pm].item()\n",
    "    print(f'thr={best_thr:.3f}', f'F2={best_score:.3f}')\n",
    "    if do_plot:\n",
    "        plt.plot(thrs, score)\n",
    "        plt.vlines(x=best_thr, ymin=score.min(), ymax=score.max())\n",
    "        plt.text(best_thr+0.03, best_score-0.01, f'$F_{2}=${best_score:.3f}', fontsize=14);\n",
    "        plt.show()\n",
    "    return best_thr, best_score"
   ]
  },
  {
   "cell_type": "code",
   "execution_count": 16,
   "metadata": {},
   "outputs": [
    {
     "name": "stderr",
     "output_type": "stream",
     "text": [
      "100%|██████████| 50/50 [00:15<00:00,  3.17it/s]\n"
     ]
    },
    {
     "name": "stdout",
     "output_type": "stream",
     "text": [
      "thr=0.130 F2=0.547\n"
     ]
    },
    {
     "data": {
      "image/png": "[encoded data removed]",
      "text/plain": [
       "<Figure size 432x288 with 1 Axes>"
      ]
     },
     "metadata": {},
     "output_type": "display_data"
    }
   ],
   "source": [
    "best_thr, best_score = find_best_fixed_threshold(lastFullValPred, lastFullValLabels, do_plot=True)"
   ]
  },
  {
   "cell_type": "code",
   "execution_count": 17,
   "metadata": {},
   "outputs": [
    {
     "name": "stderr",
     "output_type": "stream",
     "text": [
      "7443it [01:57, 63.14it/s]\n"
     ]
    }
   ],
   "source": [
    "\n",
    "for i, name in tqdm(enumerate(submit['id'])):\n",
    "    path = os.path.join('../input/imet-2019-fgvc6/test/', name)\n",
    "    image = data_generator.load_image(path, (SIZE,SIZE,3))\n",
    "    score_predict = model.predict(image[np.newaxis]/255.)\n",
    "    # print(score_predict)\n",
    "    label_predict = np.arange(NUM_CLASSES)[score_predict[0]>=best_thr]\n",
    "    # print(label_predict)\n",
    "    str_predict_label = ' '.join(str(l) for l in label_predict)\n",
    "    predicted.append(str_predict_label)"
   ]
  },
  {
   "cell_type": "code",
   "execution_count": 18,
   "metadata": {},
   "outputs": [],
   "source": [
    "submit['attribute_ids'] = predicted\n",
    "submit.to_csv('submission.csv', index=False)"
   ]
  }
 ],
 "metadata": {
  "kernelspec": {
   "display_name": "Python 3",
   "language": "python",
   "name": "python3"
  },
  "language_info": {
   "codemirror_mode": {
    "name": "ipython",
    "version": 3
   },
   "file_extension": ".py",
   "mimetype": "text/x-python",
   "name": "python",
   "nbconvert_exporter": "python",
   "pygments_lexer": "ipython3",
   "version": "3.6.4"
  }
 },
 "nbformat": 4,
 "nbformat_minor": 1
}
