{
  "nbformat": 4,
  "nbformat_minor": 0,
  "metadata": {
    "colab": {
      "name": "CNN Experiments.ipynb",
      "version": "0.3.2",
      "provenance": [],
      "include_colab_link": true
    },
    "kernelspec": {
      "name": "python3",
      "display_name": "Python 3"
    },
    "accelerator": "GPU"
  },
  "cells": [
    {
      "cell_type": "markdown",
      "metadata": {
        "id": "view-in-github",
        "colab_type": "text"
      },
      "source": [
        "<a href=\"https://colab.research.google.com/github/ll1195831146/Infor7374-AI/blob/master/Assignment2/CNN_Experiments.ipynb\" target=\"_parent\"><img src=\"https://colab.research.google.com/assets/colab-badge.svg\" alt=\"Open In Colab\"/></a>"
      ]
    },
    {
      "metadata": {
        "id": "DUg0ormUCFPR",
        "colab_type": "text"
      },
      "cell_type": "markdown",
      "source": [
        "**Load and Preprocess Data**"
      ]
    },
    {
      "metadata": {
        "id": "_TLQifhhqZad",
        "colab_type": "code",
        "colab": {}
      },
      "cell_type": "code",
      "source": [
        "!mkdir -p drive\n",
        "!google-drive-ocamlfuse -o nonempty drive"
      ],
      "execution_count": 0,
      "outputs": []
    },
    {
      "metadata": {
        "id": "eKCMsD4EqHJ8",
        "colab_type": "code",
        "outputId": "6c4950e5-14ba-483e-f3a5-c0163420fa53",
        "colab": {
          "base_uri": "https://localhost:8080/",
          "height": 76
        }
      },
      "cell_type": "code",
      "source": [
        "import os\n",
        "os.chdir(os.path.join(os.getcwd(),'drive'))\n",
        "print(os.getcwd())\n",
        "print(os.listdir(os.getcwd()))"
      ],
      "execution_count": 2,
      "outputs": [
        {
          "output_type": "stream",
          "text": [
            "/content/drive\n",
            "['.Trash', 'Video_Games_Sales.csv', 'val_data', 'Getting started', 'Track-guidelines.pdf', 'AED_Lab1_Part1.mp4', 'AED_Lab1_Part2Final.mp4', 'games.zip', 'VideoGames-Version2 2.zip', 'VideoGames-Version4.zip', 'VideoGames-Version4-2.zip', 'NBA_stats_f (Recovered).ods', 'RL-NikBrown.odt', 'Resume0102.odt', '6210 Database Design.odt', 'Colab Notebooks', 'Imagenet32_train', 'y_val_1.npy', 'out_data_val', 'out_data_train', 'out_data_train_1', 'out_data_val.zip', 'out_data_val_1.zip', 'out_data_train_1.zip', 'out_data_train.zip', 'data', 'drive', 'Assignment2-E1.ipynb', 'resized-tiny-imagenet-200']\n"
          ],
          "name": "stdout"
        }
      ]
    },
    {
      "metadata": {
        "id": "mROsyVNrhbKY",
        "colab_type": "code",
        "colab": {}
      },
      "cell_type": "code",
      "source": [
        "def get_annotations_map():\n",
        "\tvalAnnotationsPath = './resized-tiny-imagenet-200/val/val_annotations.txt'\n",
        "\tvalAnnotationsFile = open(valAnnotationsPath, 'r')\n",
        "\tvalAnnotationsContents = valAnnotationsFile.read()\n",
        "\tvalAnnotations = {}\n",
        "\n",
        "\tfor line in valAnnotationsContents.splitlines():\n",
        "\t\tpieces = line.strip().split()\n",
        "\t\tvalAnnotations[pieces[0]] = pieces[1]\n",
        "\n",
        "\treturn valAnnotations"
      ],
      "execution_count": 0,
      "outputs": []
    },
    {
      "metadata": {
        "id": "T6hnmnnyTpcq",
        "colab_type": "code",
        "colab": {}
      },
      "cell_type": "code",
      "source": [
        "import numpy as np\n",
        "from PIL import Image\n",
        "\n",
        "def load_images(path,num_classes):\n",
        "    #Load images\n",
        "    \n",
        "    print('Loading ' + str(num_classes) + ' classes')\n",
        "\n",
        "    X_train=np.zeros([num_classes*500,3,32,32],dtype='uint8')\n",
        "    y_train=np.zeros([num_classes*500], dtype='uint8')\n",
        "\n",
        "    trainPath=path+'/train'\n",
        "\n",
        "    print('loading training images...');\n",
        "\n",
        "    i=0\n",
        "    j=0\n",
        "    annotations={}\n",
        "    for sChild in os.listdir(trainPath):\n",
        "        if sChild == '.DS_Store':\n",
        "            continue\n",
        "        sChildPath = os.path.join(os.path.join(trainPath,sChild),'images')\n",
        "#         print(j)\n",
        "        annotations[sChild]=j\n",
        "        for c in os.listdir(sChildPath):\n",
        "            if c == '.DS_Store':\n",
        "                continue\n",
        "            X=np.array(Image.open(os.path.join(sChildPath,c)))\n",
        "            if len(np.shape(X))==2:\n",
        "                X_train[i]=np.array([X,X,X])\n",
        "            else:\n",
        "                X_train[i]=np.transpose(X,(2,0,1))\n",
        "            y_train[i]=j\n",
        "            i+=1\n",
        "        j+=1\n",
        "        if (j >= num_classes):\n",
        "            break\n",
        "\n",
        "    print('finished loading training images')\n",
        "\n",
        "    val_annotations_map = get_annotations_map()\n",
        "\n",
        "    X_test = np.zeros([num_classes*50,3,32,32],dtype='uint8')\n",
        "    y_test = np.zeros([num_classes*50], dtype='uint8')\n",
        "\n",
        "\n",
        "    print('loading test images...')\n",
        "\n",
        "    i = 0\n",
        "    testPath=path+'/val/images'\n",
        "    for sChild in os.listdir(testPath):\n",
        "        if sChild == '.DS_Store':\n",
        "            continue\n",
        "        if val_annotations_map[sChild] in annotations.keys():\n",
        "            sChildPath = os.path.join(testPath, sChild)\n",
        "            X=np.array(Image.open(sChildPath))\n",
        "            if len(np.shape(X))==2:\n",
        "                X_test[i]=np.array([X,X,X])\n",
        "            else:\n",
        "                X_test[i]=np.transpose(X,(2,0,1))\n",
        "            y_test[i]=annotations[val_annotations_map[sChild]]\n",
        "            i+=1\n",
        "        else:\n",
        "            pass\n",
        "\n",
        "    X_train = X_train.transpose(0,2,3,1)\n",
        "    X_test = X_test.transpose(0,2,3,1)\n",
        "    print('finished loading test images')\n",
        "\n",
        "    return X_train,y_train,X_test,y_test"
      ],
      "execution_count": 0,
      "outputs": []
    },
    {
      "metadata": {
        "id": "yOOowAv2TsUW",
        "colab_type": "code",
        "colab": {}
      },
      "cell_type": "code",
      "source": [
        "path='./resized-tiny-imagenet-200'\n",
        "x_train,y_train,x_test,y_test=load_images(path,5)"
      ],
      "execution_count": 0,
      "outputs": []
    },
    {
      "metadata": {
        "id": "_ee85bxFTxJi",
        "colab_type": "code",
        "colab": {
          "base_uri": "https://localhost:8080/",
          "height": 34
        },
        "outputId": "b22612da-3441-46ed-ec07-606511dc1a7f"
      },
      "cell_type": "code",
      "source": [
        "from __future__ import print_function\n",
        "import keras\n",
        "from keras.datasets import cifar10\n",
        "from keras.preprocessing.image import ImageDataGenerator\n",
        "from keras.models import Sequential\n",
        "from keras.layers import Dense, Dropout, Activation, Flatten, BatchNormalization\n",
        "from keras.layers import Conv2D, MaxPooling2D, ZeroPadding2D, AveragePooling2D\n",
        "from keras.optimizers import SGD\n",
        "import os\n",
        "from keras import metrics"
      ],
      "execution_count": 6,
      "outputs": [
        {
          "output_type": "stream",
          "text": [
            "Using TensorFlow backend.\n"
          ],
          "name": "stderr"
        }
      ]
    },
    {
      "metadata": {
        "id": "wC3ysNGWUzpS",
        "colab_type": "code",
        "colab": {
          "base_uri": "https://localhost:8080/",
          "height": 34
        },
        "outputId": "f269d74d-fbd9-4ae7-f7a1-dd75bc1af5be"
      },
      "cell_type": "code",
      "source": [
        "x_train.shape"
      ],
      "execution_count": 7,
      "outputs": [
        {
          "output_type": "execute_result",
          "data": {
            "text/plain": [
              "(2500, 32, 32, 3)"
            ]
          },
          "metadata": {
            "tags": []
          },
          "execution_count": 7
        }
      ]
    },
    {
      "metadata": {
        "id": "iFl5Xd5HUz3O",
        "colab_type": "code",
        "colab": {}
      },
      "cell_type": "code",
      "source": [
        "num_classes = 5\n",
        "data_augmentation = True\n",
        "y_train = keras.utils.to_categorical(y_train, num_classes)\n",
        "y_test = keras.utils.to_categorical(y_test, num_classes)\n",
        "x_train = x_train.astype('float32')\n",
        "x_test = x_test.astype('float32')\n",
        "x_train /= 255\n",
        "x_test /= 255"
      ],
      "execution_count": 0,
      "outputs": []
    },
    {
      "metadata": {
        "id": "OVLxNz1YCNWE",
        "colab_type": "text"
      },
      "cell_type": "markdown",
      "source": [
        "**1st Model**"
      ]
    },
    {
      "metadata": {
        "id": "iwUtcIPQ550W",
        "colab_type": "code",
        "colab": {}
      },
      "cell_type": "code",
      "source": [
        "datagen = ImageDataGenerator(\n",
        "    featurewise_center=False,  # set input mean to 0 over the dataset\n",
        "    samplewise_center=False,  # set each sample mean to 0\n",
        "    featurewise_std_normalization=False,  # divide inputs by std of the dataset\n",
        "    samplewise_std_normalization=False,  # divide each input by its std\n",
        "    zca_whitening=False,  # apply ZCA whitening\n",
        "    zca_epsilon=1e-06,  # epsilon for ZCA whitening\n",
        "    rotation_range=0,  # randomly rotate images in the range (degrees, 0 to 180)\n",
        "    # randomly shift images horizontally (fraction of total width)\n",
        "    width_shift_range=0.1,\n",
        "    # randomly shift images vertically (fraction of total height)\n",
        "    height_shift_range=0.1,\n",
        "    shear_range=0.,  # set range for random shear\n",
        "    zoom_range=0.,  # set range for random zoom\n",
        "    channel_shift_range=0.,  # set range for random channel shifts\n",
        "    # set mode for filling points outside the input boundaries\n",
        "    fill_mode='nearest',\n",
        "    cval=0.,  # value used for fill_mode = \"constant\"\n",
        "    horizontal_flip=True,  # randomly flip images\n",
        "    vertical_flip=False,  # randomly flip images\n",
        "    # set rescaling factor (applied before any other transformation)\n",
        "    rescale=None,\n",
        "    # set function that will be applied on each input\n",
        "    preprocessing_function=None,\n",
        "    # image data format, either \"channels_first\" or \"channels_last\"\n",
        "    data_format=None,\n",
        "    # fraction of images reserved for validation (strictly between 0 and 1)\n",
        "    validation_split=0.0)\n",
        "    \n",
        "# Compute quantities required for feature-wise normalization\n",
        "# (std, mean, and principal components if ZCA whitening is applied).\n",
        "datagen.fit(x_train)"
      ],
      "execution_count": 0,
      "outputs": []
    },
    {
      "metadata": {
        "id": "ijT4A3KC8CGu",
        "colab_type": "code",
        "colab": {}
      },
      "cell_type": "code",
      "source": [
        "model = Sequential()\n",
        "model.add(Conv2D(32, (3, 3), padding='same',\n",
        "input_shape=x_train.shape[1:]))\n",
        "model.add(Activation('relu'))\n",
        "model.add(Conv2D(32, (3, 3)))\n",
        "model.add(Activation('relu'))\n",
        "model.add(MaxPooling2D(pool_size=(2, 2)))\n",
        "model.add(Dropout(0.1))\n",
        "\n",
        "model.add(Conv2D(64, (3, 3), padding='same'))\n",
        "model.add(Activation('relu'))\n",
        "model.add(Conv2D(64, (3, 3)))\n",
        "model.add(Activation('relu'))\n",
        "model.add(MaxPooling2D(pool_size=(2, 2)))\n",
        "model.add(Dropout(0.1))\n",
        "\n",
        "model.add(Flatten())\n",
        "model.add(Dense(512))\n",
        "model.add(Activation('relu'))\n",
        "model.add(Dropout(0.1))\n",
        "model.add(Dense(num_classes))\n",
        "model.add(Activation('softmax'))"
      ],
      "execution_count": 0,
      "outputs": []
    },
    {
      "metadata": {
        "id": "JyF4j-hy8RYO",
        "colab_type": "code",
        "colab": {
          "base_uri": "https://localhost:8080/",
          "height": 748
        },
        "outputId": "56b047e0-b8e7-42a5-aae3-379a144260a6"
      },
      "cell_type": "code",
      "source": [
        "model.compile(loss='categorical_crossentropy',\n",
        "optimizer=SGD(lr=0.001, decay=1e-6, momentum=0.9, nesterov=True),\n",
        "metrics=['accuracy',metrics.categorical_accuracy])\n",
        "\n",
        "model.summary()"
      ],
      "execution_count": 21,
      "outputs": [
        {
          "output_type": "stream",
          "text": [
            "_________________________________________________________________\n",
            "Layer (type)                 Output Shape              Param #   \n",
            "=================================================================\n",
            "conv2d_14 (Conv2D)           (None, 32, 32, 32)        896       \n",
            "_________________________________________________________________\n",
            "activation_16 (Activation)   (None, 32, 32, 32)        0         \n",
            "_________________________________________________________________\n",
            "conv2d_15 (Conv2D)           (None, 30, 30, 32)        9248      \n",
            "_________________________________________________________________\n",
            "activation_17 (Activation)   (None, 30, 30, 32)        0         \n",
            "_________________________________________________________________\n",
            "max_pooling2d_8 (MaxPooling2 (None, 15, 15, 32)        0         \n",
            "_________________________________________________________________\n",
            "dropout_6 (Dropout)          (None, 15, 15, 32)        0         \n",
            "_________________________________________________________________\n",
            "conv2d_16 (Conv2D)           (None, 15, 15, 64)        18496     \n",
            "_________________________________________________________________\n",
            "activation_18 (Activation)   (None, 15, 15, 64)        0         \n",
            "_________________________________________________________________\n",
            "conv2d_17 (Conv2D)           (None, 13, 13, 64)        36928     \n",
            "_________________________________________________________________\n",
            "activation_19 (Activation)   (None, 13, 13, 64)        0         \n",
            "_________________________________________________________________\n",
            "max_pooling2d_9 (MaxPooling2 (None, 6, 6, 64)          0         \n",
            "_________________________________________________________________\n",
            "dropout_7 (Dropout)          (None, 6, 6, 64)          0         \n",
            "_________________________________________________________________\n",
            "flatten_3 (Flatten)          (None, 2304)              0         \n",
            "_________________________________________________________________\n",
            "dense_7 (Dense)              (None, 512)               1180160   \n",
            "_________________________________________________________________\n",
            "activation_20 (Activation)   (None, 512)               0         \n",
            "_________________________________________________________________\n",
            "dropout_8 (Dropout)          (None, 512)               0         \n",
            "_________________________________________________________________\n",
            "dense_8 (Dense)              (None, 5)                 2565      \n",
            "_________________________________________________________________\n",
            "activation_21 (Activation)   (None, 5)                 0         \n",
            "=================================================================\n",
            "Total params: 1,248,293\n",
            "Trainable params: 1,248,293\n",
            "Non-trainable params: 0\n",
            "_________________________________________________________________\n"
          ],
          "name": "stdout"
        }
      ]
    },
    {
      "metadata": {
        "id": "d5IjoXj_8CR5",
        "colab_type": "code",
        "colab": {
          "base_uri": "https://localhost:8080/",
          "height": 1005
        },
        "outputId": "3fc1ab2d-6ec9-451d-e416-db518864cfed"
      },
      "cell_type": "code",
      "source": [
        "model.fit_generator(datagen.flow(x_train, y_train,\n",
        "    batch_size=100),\n",
        "    epochs=5,\n",
        "    steps_per_epoch=200,\n",
        "    validation_data=(x_test, y_test),\n",
        "    verbose=1,\n",
        "    workers=16)"
      ],
      "execution_count": 22,
      "outputs": [
        {
          "output_type": "stream",
          "text": [
            "Epoch 1/5\n",
            "200/200 [==============================] - 16s 82ms/step - loss: 1.5967 - acc: 0.2756 - categorical_accuracy: 0.2756 - val_loss: 1.5697 - val_acc: 0.3440 - val_categorical_accuracy: 0.3440\n",
            "Epoch 2/5\n",
            "200/200 [==============================] - 15s 74ms/step - loss: 1.4923 - acc: 0.3524 - categorical_accuracy: 0.3524 - val_loss: 1.3982 - val_acc: 0.4320 - val_categorical_accuracy: 0.4320\n",
            "Epoch 3/5\n",
            "200/200 [==============================] - 15s 75ms/step - loss: 1.4032 - acc: 0.3990 - categorical_accuracy: 0.3990 - val_loss: 1.3489 - val_acc: 0.4200 - val_categorical_accuracy: 0.4200\n",
            "Epoch 4/5\n",
            "200/200 [==============================] - 15s 75ms/step - loss: 1.3688 - acc: 0.4200 - categorical_accuracy: 0.4200 - val_loss: 1.3181 - val_acc: 0.4720 - val_categorical_accuracy: 0.4720\n",
            "Epoch 5/5\n",
            "200/200 [==============================] - 15s 75ms/step - loss: 1.3292 - acc: 0.4479 - categorical_accuracy: 0.4479 - val_loss: 1.2706 - val_acc: 0.5000 - val_categorical_accuracy: 0.5000\n"
          ],
          "name": "stdout"
        },
        {
          "output_type": "execute_result",
          "data": {
            "text/plain": [
              "<keras.callbacks.History at 0x7f78e54025c0>"
            ]
          },
          "metadata": {
            "tags": []
          },
          "execution_count": 22
        }
      ]
    },
    {
      "metadata": {
        "id": "donmkIhQ8phK",
        "colab_type": "code",
        "colab": {
          "base_uri": "https://localhost:8080/",
          "height": 68
        },
        "outputId": "c79f0233-5f07-4941-d4bd-f69fa0b4015b"
      },
      "cell_type": "code",
      "source": [
        "score = model.evaluate(x_test, y_test, verbose=1)\n",
        "print('Test loss:', score[0])\n",
        "print('Test accuracy:', score[1])"
      ],
      "execution_count": 23,
      "outputs": [
        {
          "output_type": "stream",
          "text": [
            "250/250 [==============================] - 0s 409us/step\n",
            "Test loss: 1.2705574026107789\n",
            "Test accuracy: 0.5\n"
          ],
          "name": "stdout"
        }
      ]
    },
    {
      "metadata": {
        "id": "oTKQWL8LCpGa",
        "colab_type": "text"
      },
      "cell_type": "markdown",
      "source": [
        "**2nd Model**"
      ]
    },
    {
      "metadata": {
        "id": "9pVHyJtE6n1z",
        "colab_type": "code",
        "colab": {
          "base_uri": "https://localhost:8080/",
          "height": 128
        },
        "outputId": "8f151b2a-8e60-49dc-e0dc-6e876d80b51d"
      },
      "cell_type": "code",
      "source": [
        "model = Sequential()\n",
        "\n",
        "# layer 1\n",
        "model.add(Conv2D(128, (3, 3), padding='same',\n",
        "input_shape=x_train.shape[1:]))\n",
        "model.add(Activation('relu'))\n",
        "\n",
        "# layer 2\n",
        "model.add(Conv2D(128, (3, 3)))\n",
        "model.add(Activation('relu'))\n",
        "model.add(MaxPooling2D(pool_size=(2, 2)))\n",
        "model.add(Dropout(0.5))\n",
        "\n",
        "# layer 3\n",
        "model.add(Conv2D(128, (3, 3), padding='same'))\n",
        "model.add(Activation('relu'))\n",
        "\n",
        "# layer 4\n",
        "model.add(Conv2D(128, (3, 3)))\n",
        "model.add(Activation('relu'))\n",
        "model.add(MaxPooling2D(pool_size=(2, 2)))\n",
        "model.add(Dropout(0.5))\n",
        "\n",
        "# layer 5\n",
        "model.add(Conv2D(128, (3, 3)))\n",
        "model.add(Activation('relu'))\n",
        "model.add(MaxPooling2D(pool_size=(2, 2)))\n",
        "model.add(Dropout(0.5))\n",
        "\n",
        "model.add(Flatten())\n",
        "model.add(Dense(400))\n",
        "model.add(Activation('relu'))\n",
        "model.add(Dropout(0.5))\n",
        "\n",
        "model.add(Dense(400))\n",
        "model.add(Activation('relu'))\n",
        "model.add(Dropout(0.5))\n",
        "\n",
        "model.add(Dense(num_classes))\n",
        "model.add(Activation('softmax'))"
      ],
      "execution_count": 16,
      "outputs": [
        {
          "output_type": "stream",
          "text": [
            "WARNING:tensorflow:From /usr/local/lib/python3.6/dist-packages/keras/backend/tensorflow_backend.py:3445: calling dropout (from tensorflow.python.ops.nn_ops) with keep_prob is deprecated and will be removed in a future version.\n",
            "Instructions for updating:\n",
            "Please use `rate` instead of `keep_prob`. Rate should be set to `rate = 1 - keep_prob`.\n"
          ],
          "name": "stdout"
        }
      ]
    },
    {
      "metadata": {
        "id": "3YRTY6n47zNd",
        "colab_type": "code",
        "colab": {
          "base_uri": "https://localhost:8080/",
          "height": 986
        },
        "outputId": "12c263bb-2013-4893-cfba-c5ee27b95638"
      },
      "cell_type": "code",
      "source": [
        "model.compile(loss='categorical_crossentropy',\n",
        "optimizer=SGD(lr=0.001, decay=1e-6, momentum=0.9, nesterov=True),\n",
        "metrics=['accuracy',metrics.categorical_accuracy])\n",
        "\n",
        "model.summary()"
      ],
      "execution_count": 17,
      "outputs": [
        {
          "output_type": "stream",
          "text": [
            "_________________________________________________________________\n",
            "Layer (type)                 Output Shape              Param #   \n",
            "=================================================================\n",
            "conv2d_9 (Conv2D)            (None, 32, 32, 128)       3584      \n",
            "_________________________________________________________________\n",
            "activation_8 (Activation)    (None, 32, 32, 128)       0         \n",
            "_________________________________________________________________\n",
            "conv2d_10 (Conv2D)           (None, 30, 30, 128)       147584    \n",
            "_________________________________________________________________\n",
            "activation_9 (Activation)    (None, 30, 30, 128)       0         \n",
            "_________________________________________________________________\n",
            "max_pooling2d_5 (MaxPooling2 (None, 15, 15, 128)       0         \n",
            "_________________________________________________________________\n",
            "dropout_1 (Dropout)          (None, 15, 15, 128)       0         \n",
            "_________________________________________________________________\n",
            "conv2d_11 (Conv2D)           (None, 15, 15, 128)       147584    \n",
            "_________________________________________________________________\n",
            "activation_10 (Activation)   (None, 15, 15, 128)       0         \n",
            "_________________________________________________________________\n",
            "conv2d_12 (Conv2D)           (None, 13, 13, 128)       147584    \n",
            "_________________________________________________________________\n",
            "activation_11 (Activation)   (None, 13, 13, 128)       0         \n",
            "_________________________________________________________________\n",
            "max_pooling2d_6 (MaxPooling2 (None, 6, 6, 128)         0         \n",
            "_________________________________________________________________\n",
            "dropout_2 (Dropout)          (None, 6, 6, 128)         0         \n",
            "_________________________________________________________________\n",
            "conv2d_13 (Conv2D)           (None, 4, 4, 128)         147584    \n",
            "_________________________________________________________________\n",
            "activation_12 (Activation)   (None, 4, 4, 128)         0         \n",
            "_________________________________________________________________\n",
            "max_pooling2d_7 (MaxPooling2 (None, 2, 2, 128)         0         \n",
            "_________________________________________________________________\n",
            "dropout_3 (Dropout)          (None, 2, 2, 128)         0         \n",
            "_________________________________________________________________\n",
            "flatten_2 (Flatten)          (None, 512)               0         \n",
            "_________________________________________________________________\n",
            "dense_4 (Dense)              (None, 400)               205200    \n",
            "_________________________________________________________________\n",
            "activation_13 (Activation)   (None, 400)               0         \n",
            "_________________________________________________________________\n",
            "dropout_4 (Dropout)          (None, 400)               0         \n",
            "_________________________________________________________________\n",
            "dense_5 (Dense)              (None, 400)               160400    \n",
            "_________________________________________________________________\n",
            "activation_14 (Activation)   (None, 400)               0         \n",
            "_________________________________________________________________\n",
            "dropout_5 (Dropout)          (None, 400)               0         \n",
            "_________________________________________________________________\n",
            "dense_6 (Dense)              (None, 5)                 2005      \n",
            "_________________________________________________________________\n",
            "activation_15 (Activation)   (None, 5)                 0         \n",
            "=================================================================\n",
            "Total params: 961,525\n",
            "Trainable params: 961,525\n",
            "Non-trainable params: 0\n",
            "_________________________________________________________________\n"
          ],
          "name": "stdout"
        }
      ]
    },
    {
      "metadata": {
        "id": "N1srtKM57zYW",
        "colab_type": "code",
        "colab": {
          "base_uri": "https://localhost:8080/",
          "height": 1005
        },
        "outputId": "230bb9df-8efd-4237-821f-330ea35d7de6"
      },
      "cell_type": "code",
      "source": [
        "model.fit_generator(datagen.flow(x_train, y_train,\n",
        "    batch_size=100),\n",
        "    epochs=5,\n",
        "    steps_per_epoch=200,\n",
        "    validation_data=(x_test, y_test),\n",
        "    verbose=1,\n",
        "    workers=16)"
      ],
      "execution_count": 18,
      "outputs": [
        {
          "output_type": "stream",
          "text": [
            "Epoch 1/5\n",
            "200/200 [==============================] - 19s 95ms/step - loss: 1.6106 - acc: 0.2083 - categorical_accuracy: 0.2083 - val_loss: 1.6092 - val_acc: 0.2000 - val_categorical_accuracy: 0.2000\n",
            "Epoch 2/5\n",
            "200/200 [==============================] - 17s 84ms/step - loss: 1.6094 - acc: 0.2066 - categorical_accuracy: 0.2066 - val_loss: 1.6092 - val_acc: 0.2000 - val_categorical_accuracy: 0.2000\n",
            "Epoch 3/5\n",
            "200/200 [==============================] - 17s 85ms/step - loss: 1.6070 - acc: 0.2215 - categorical_accuracy: 0.2215 - val_loss: 1.6084 - val_acc: 0.2000 - val_categorical_accuracy: 0.2000\n",
            "Epoch 4/5\n",
            "200/200 [==============================] - 17s 85ms/step - loss: 1.6042 - acc: 0.2464 - categorical_accuracy: 0.2464 - val_loss: 1.6068 - val_acc: 0.2000 - val_categorical_accuracy: 0.2000\n",
            "Epoch 5/5\n",
            "200/200 [==============================] - 17s 85ms/step - loss: 1.5993 - acc: 0.2626 - categorical_accuracy: 0.2626 - val_loss: 1.6024 - val_acc: 0.2520 - val_categorical_accuracy: 0.2520\n"
          ],
          "name": "stdout"
        },
        {
          "output_type": "execute_result",
          "data": {
            "text/plain": [
              "<keras.callbacks.History at 0x7f78e029d240>"
            ]
          },
          "metadata": {
            "tags": []
          },
          "execution_count": 18
        }
      ]
    },
    {
      "metadata": {
        "id": "RPHUZHQc8B7T",
        "colab_type": "code",
        "colab": {
          "base_uri": "https://localhost:8080/",
          "height": 68
        },
        "outputId": "8a222d55-653f-4a86-fb1b-cc3309625689"
      },
      "cell_type": "code",
      "source": [
        "score = model.evaluate(x_test, y_test, verbose=1)\n",
        "print('Test loss:', score[0])\n",
        "print('Test accuracy:', score[1])"
      ],
      "execution_count": 19,
      "outputs": [
        {
          "output_type": "stream",
          "text": [
            "250/250 [==============================] - 0s 847us/step\n",
            "Test loss: 1.6023705635070802\n",
            "Test accuracy: 0.25200000059604644\n"
          ],
          "name": "stdout"
        }
      ]
    },
    {
      "metadata": {
        "id": "LLdNGW55CxUT",
        "colab_type": "text"
      },
      "cell_type": "markdown",
      "source": [
        "**3rd Model**"
      ]
    },
    {
      "metadata": {
        "id": "dUf0Tbk68qX8",
        "colab_type": "code",
        "colab": {
          "base_uri": "https://localhost:8080/",
          "height": 254
        },
        "outputId": "c20da148-b5b9-43c4-beff-28065fdad5c7"
      },
      "cell_type": "code",
      "source": [
        "from keras.layers.convolutional import Convolution2D\n",
        "\n",
        "model = Sequential()\n",
        "#conv-spatial batch norm - relu #1 \n",
        "model.add(ZeroPadding2D((2,2),input_shape=x_train.shape[1:]))\n",
        "model.add(Convolution2D(64,5,5,subsample=(2,2)))\n",
        "model.add(BatchNormalization())\n",
        "model.add(Activation('relu')) \n",
        "\n",
        "#conv-spatial batch norm - relu #2\n",
        "model.add(ZeroPadding2D((1,1)))\n",
        "model.add(Convolution2D(64,3,3,subsample=(1,1)))\n",
        "model.add(BatchNormalization())\n",
        "model.add(Activation('relu')) \n",
        "\n",
        "#conv-spatial batch norm - relu #3\n",
        "model.add(ZeroPadding2D((1,1)))\n",
        "model.add(Convolution2D(128,3,3,subsample=(2,2)))\n",
        "model.add(BatchNormalization())\n",
        "model.add(Activation('relu')) \n",
        "model.add(Dropout(0.25)) \n",
        "\n",
        "#conv-spatial batch norm - relu #4\n",
        "model.add(ZeroPadding2D((1,1)))\n",
        "model.add(Convolution2D(128,3,3,subsample=(1,1)))\n",
        "model.add(BatchNormalization())\n",
        "model.add(Activation('relu')) \n",
        "\n",
        "#conv-spatial batch norm - relu #5\n",
        "model.add(ZeroPadding2D((1,1)))\n",
        "model.add(Convolution2D(256,3,3,subsample=(2,2)))\n",
        "model.add(BatchNormalization())\n",
        "model.add(Activation('relu')) \n",
        "\n",
        "#conv-spatial batch norm - relu #6\n",
        "model.add(ZeroPadding2D((1,1)))\n",
        "model.add(Convolution2D(256,3,3,subsample=(1,1)))\n",
        "model.add(BatchNormalization())\n",
        "model.add(Activation('relu')) \n",
        "model.add(Dropout(0.25))\n",
        "\n",
        "#conv-spatial batch norm - relu #7\n",
        "model.add(ZeroPadding2D((1,1)))\n",
        "model.add(Convolution2D(512,3,3,subsample=(2,2)))\n",
        "model.add(BatchNormalization())\n",
        "model.add(Activation('relu')) \n",
        "\n",
        "#conv-spatial batch norm - relu #8\n",
        "model.add(ZeroPadding2D((1,1)))\n",
        "model.add(Convolution2D(512,3,3,subsample=(1,1)))\n",
        "model.add(BatchNormalization())\n",
        "model.add(Activation('relu')) \n",
        "\n",
        "\n",
        "#conv-spatial batch norm - relu #9\n",
        "model.add(ZeroPadding2D((1,1)))\n",
        "model.add(Convolution2D(1024,3,3,subsample=(2,2)))\n",
        "model.add(BatchNormalization())\n",
        "model.add(Activation('relu'))\n",
        "model.add(Dropout(0.25)) \n",
        "\n",
        "#Affine-spatial batch norm -relu #10 \n",
        "model.add(Flatten())\n",
        "model.add(Dense(512))\n",
        "model.add(BatchNormalization())\n",
        "model.add(Activation('relu')) \n",
        "model.add(Dropout(0.5)) \n",
        "model.add(Dense(num_classes))\n",
        "model.add(Activation('softmax'))"
      ],
      "execution_count": 30,
      "outputs": [
        {
          "output_type": "stream",
          "text": [
            "/usr/local/lib/python3.6/dist-packages/ipykernel_launcher.py:6: UserWarning: Update your `Conv2D` call to the Keras 2 API: `Conv2D(64, (5, 5), strides=(2, 2))`\n",
            "  \n",
            "/usr/local/lib/python3.6/dist-packages/ipykernel_launcher.py:12: UserWarning: Update your `Conv2D` call to the Keras 2 API: `Conv2D(64, (3, 3), strides=(1, 1))`\n",
            "  if sys.path[0] == '':\n",
            "/usr/local/lib/python3.6/dist-packages/ipykernel_launcher.py:18: UserWarning: Update your `Conv2D` call to the Keras 2 API: `Conv2D(128, (3, 3), strides=(2, 2))`\n",
            "/usr/local/lib/python3.6/dist-packages/ipykernel_launcher.py:25: UserWarning: Update your `Conv2D` call to the Keras 2 API: `Conv2D(128, (3, 3), strides=(1, 1))`\n",
            "/usr/local/lib/python3.6/dist-packages/ipykernel_launcher.py:31: UserWarning: Update your `Conv2D` call to the Keras 2 API: `Conv2D(256, (3, 3), strides=(2, 2))`\n",
            "/usr/local/lib/python3.6/dist-packages/ipykernel_launcher.py:37: UserWarning: Update your `Conv2D` call to the Keras 2 API: `Conv2D(256, (3, 3), strides=(1, 1))`\n",
            "/usr/local/lib/python3.6/dist-packages/ipykernel_launcher.py:44: UserWarning: Update your `Conv2D` call to the Keras 2 API: `Conv2D(512, (3, 3), strides=(2, 2))`\n",
            "/usr/local/lib/python3.6/dist-packages/ipykernel_launcher.py:50: UserWarning: Update your `Conv2D` call to the Keras 2 API: `Conv2D(512, (3, 3), strides=(1, 1))`\n",
            "/usr/local/lib/python3.6/dist-packages/ipykernel_launcher.py:57: UserWarning: Update your `Conv2D` call to the Keras 2 API: `Conv2D(1024, (3, 3), strides=(2, 2))`\n"
          ],
          "name": "stderr"
        }
      ]
    },
    {
      "metadata": {
        "id": "RvKcYF2L9zH6",
        "colab_type": "code",
        "colab": {
          "base_uri": "https://localhost:8080/",
          "height": 1700
        },
        "outputId": "64a43ea3-7145-417b-84d3-68cd6f5d3e86"
      },
      "cell_type": "code",
      "source": [
        "model.compile(loss='categorical_crossentropy',\n",
        "optimizer=SGD(lr=0.001, decay=1e-6, momentum=0.9, nesterov=True),\n",
        "metrics=['accuracy',metrics.categorical_accuracy])\n",
        "\n",
        "model.summary()"
      ],
      "execution_count": 31,
      "outputs": [
        {
          "output_type": "stream",
          "text": [
            "_________________________________________________________________\n",
            "Layer (type)                 Output Shape              Param #   \n",
            "=================================================================\n",
            "zero_padding2d_6 (ZeroPaddin (None, 36, 36, 3)         0         \n",
            "_________________________________________________________________\n",
            "conv2d_20 (Conv2D)           (None, 16, 16, 64)        4864      \n",
            "_________________________________________________________________\n",
            "batch_normalization_13 (Batc (None, 16, 16, 64)        256       \n",
            "_________________________________________________________________\n",
            "activation_22 (Activation)   (None, 16, 16, 64)        0         \n",
            "_________________________________________________________________\n",
            "zero_padding2d_7 (ZeroPaddin (None, 18, 18, 64)        0         \n",
            "_________________________________________________________________\n",
            "conv2d_21 (Conv2D)           (None, 16, 16, 64)        36928     \n",
            "_________________________________________________________________\n",
            "batch_normalization_14 (Batc (None, 16, 16, 64)        256       \n",
            "_________________________________________________________________\n",
            "activation_23 (Activation)   (None, 16, 16, 64)        0         \n",
            "_________________________________________________________________\n",
            "zero_padding2d_8 (ZeroPaddin (None, 18, 18, 64)        0         \n",
            "_________________________________________________________________\n",
            "conv2d_22 (Conv2D)           (None, 8, 8, 128)         73856     \n",
            "_________________________________________________________________\n",
            "batch_normalization_15 (Batc (None, 8, 8, 128)         512       \n",
            "_________________________________________________________________\n",
            "activation_24 (Activation)   (None, 8, 8, 128)         0         \n",
            "_________________________________________________________________\n",
            "dropout_9 (Dropout)          (None, 8, 8, 128)         0         \n",
            "_________________________________________________________________\n",
            "zero_padding2d_9 (ZeroPaddin (None, 10, 10, 128)       0         \n",
            "_________________________________________________________________\n",
            "conv2d_23 (Conv2D)           (None, 8, 8, 128)         147584    \n",
            "_________________________________________________________________\n",
            "batch_normalization_16 (Batc (None, 8, 8, 128)         512       \n",
            "_________________________________________________________________\n",
            "activation_25 (Activation)   (None, 8, 8, 128)         0         \n",
            "_________________________________________________________________\n",
            "zero_padding2d_10 (ZeroPaddi (None, 10, 10, 128)       0         \n",
            "_________________________________________________________________\n",
            "conv2d_24 (Conv2D)           (None, 4, 4, 256)         295168    \n",
            "_________________________________________________________________\n",
            "batch_normalization_17 (Batc (None, 4, 4, 256)         1024      \n",
            "_________________________________________________________________\n",
            "activation_26 (Activation)   (None, 4, 4, 256)         0         \n",
            "_________________________________________________________________\n",
            "zero_padding2d_11 (ZeroPaddi (None, 6, 6, 256)         0         \n",
            "_________________________________________________________________\n",
            "conv2d_25 (Conv2D)           (None, 4, 4, 256)         590080    \n",
            "_________________________________________________________________\n",
            "batch_normalization_18 (Batc (None, 4, 4, 256)         1024      \n",
            "_________________________________________________________________\n",
            "activation_27 (Activation)   (None, 4, 4, 256)         0         \n",
            "_________________________________________________________________\n",
            "dropout_10 (Dropout)         (None, 4, 4, 256)         0         \n",
            "_________________________________________________________________\n",
            "zero_padding2d_12 (ZeroPaddi (None, 6, 6, 256)         0         \n",
            "_________________________________________________________________\n",
            "conv2d_26 (Conv2D)           (None, 2, 2, 512)         1180160   \n",
            "_________________________________________________________________\n",
            "batch_normalization_19 (Batc (None, 2, 2, 512)         2048      \n",
            "_________________________________________________________________\n",
            "activation_28 (Activation)   (None, 2, 2, 512)         0         \n",
            "_________________________________________________________________\n",
            "zero_padding2d_13 (ZeroPaddi (None, 4, 4, 512)         0         \n",
            "_________________________________________________________________\n",
            "conv2d_27 (Conv2D)           (None, 2, 2, 512)         2359808   \n",
            "_________________________________________________________________\n",
            "batch_normalization_20 (Batc (None, 2, 2, 512)         2048      \n",
            "_________________________________________________________________\n",
            "activation_29 (Activation)   (None, 2, 2, 512)         0         \n",
            "_________________________________________________________________\n",
            "zero_padding2d_14 (ZeroPaddi (None, 4, 4, 512)         0         \n",
            "_________________________________________________________________\n",
            "conv2d_28 (Conv2D)           (None, 1, 1, 1024)        4719616   \n",
            "_________________________________________________________________\n",
            "batch_normalization_21 (Batc (None, 1, 1, 1024)        4096      \n",
            "_________________________________________________________________\n",
            "activation_30 (Activation)   (None, 1, 1, 1024)        0         \n",
            "_________________________________________________________________\n",
            "dropout_11 (Dropout)         (None, 1, 1, 1024)        0         \n",
            "_________________________________________________________________\n",
            "flatten_4 (Flatten)          (None, 1024)              0         \n",
            "_________________________________________________________________\n",
            "dense_9 (Dense)              (None, 512)               524800    \n",
            "_________________________________________________________________\n",
            "batch_normalization_22 (Batc (None, 512)               2048      \n",
            "_________________________________________________________________\n",
            "activation_31 (Activation)   (None, 512)               0         \n",
            "_________________________________________________________________\n",
            "dropout_12 (Dropout)         (None, 512)               0         \n",
            "_________________________________________________________________\n",
            "dense_10 (Dense)             (None, 5)                 2565      \n",
            "_________________________________________________________________\n",
            "activation_32 (Activation)   (None, 5)                 0         \n",
            "=================================================================\n",
            "Total params: 9,949,253\n",
            "Trainable params: 9,942,341\n",
            "Non-trainable params: 6,912\n",
            "_________________________________________________________________\n"
          ],
          "name": "stdout"
        }
      ]
    },
    {
      "metadata": {
        "id": "6l_FilGO_LR_",
        "colab_type": "code",
        "colab": {
          "base_uri": "https://localhost:8080/",
          "height": 1005
        },
        "outputId": "4081cc62-d795-4a9a-bbf3-77e82c89743c"
      },
      "cell_type": "code",
      "source": [
        "model.fit_generator(datagen.flow(x_train, y_train,\n",
        "    batch_size=100),\n",
        "    epochs=5,\n",
        "    steps_per_epoch=200,\n",
        "    validation_data=(x_test, y_test),\n",
        "    verbose=1,\n",
        "    workers=16)"
      ],
      "execution_count": 32,
      "outputs": [
        {
          "output_type": "stream",
          "text": [
            "Epoch 1/5\n",
            "200/200 [==============================] - 25s 125ms/step - loss: 1.5702 - acc: 0.3855 - categorical_accuracy: 0.3855 - val_loss: 1.2090 - val_acc: 0.4680 - val_categorical_accuracy: 0.4680\n",
            "Epoch 2/5\n",
            "200/200 [==============================] - 20s 101ms/step - loss: 1.1842 - acc: 0.5282 - categorical_accuracy: 0.5282 - val_loss: 1.2210 - val_acc: 0.5680 - val_categorical_accuracy: 0.5680\n",
            "Epoch 3/5\n",
            "200/200 [==============================] - 20s 101ms/step - loss: 0.9852 - acc: 0.6181 - categorical_accuracy: 0.6181 - val_loss: 0.9973 - val_acc: 0.6560 - val_categorical_accuracy: 0.6560\n",
            "Epoch 4/5\n",
            "200/200 [==============================] - 20s 101ms/step - loss: 0.8622 - acc: 0.6687 - categorical_accuracy: 0.6687 - val_loss: 0.8775 - val_acc: 0.6360 - val_categorical_accuracy: 0.6360\n",
            "Epoch 5/5\n",
            "200/200 [==============================] - 20s 101ms/step - loss: 0.7786 - acc: 0.6996 - categorical_accuracy: 0.6996 - val_loss: 1.4796 - val_acc: 0.5800 - val_categorical_accuracy: 0.5800\n"
          ],
          "name": "stdout"
        },
        {
          "output_type": "execute_result",
          "data": {
            "text/plain": [
              "<keras.callbacks.History at 0x7f78e4830198>"
            ]
          },
          "metadata": {
            "tags": []
          },
          "execution_count": 32
        }
      ]
    },
    {
      "metadata": {
        "id": "5equfJ12_OKk",
        "colab_type": "code",
        "colab": {
          "base_uri": "https://localhost:8080/",
          "height": 68
        },
        "outputId": "620af81e-bae7-4cb0-893b-f797a889ed5b"
      },
      "cell_type": "code",
      "source": [
        "score = model.evaluate(x_test, y_test, verbose=1)\n",
        "print('Test loss:', score[0])\n",
        "print('Test accuracy:', score[1])"
      ],
      "execution_count": 33,
      "outputs": [
        {
          "output_type": "stream",
          "text": [
            "250/250 [==============================] - 0s 2ms/step\n",
            "Test loss: 1.4796340646743775\n",
            "Test accuracy: 0.5800000023841858\n"
          ],
          "name": "stdout"
        }
      ]
    },
    {
      "metadata": {
        "id": "HvGfx2dSDBnQ",
        "colab_type": "text"
      },
      "cell_type": "markdown",
      "source": [
        "**4th Model(Best one)**"
      ]
    },
    {
      "metadata": {
        "id": "X1gkBGK6U0CV",
        "colab_type": "code",
        "colab": {
          "base_uri": "https://localhost:8080/",
          "height": 98
        },
        "outputId": "293f6a5f-b1db-4ce8-b5e4-af3101f651c0"
      },
      "cell_type": "code",
      "source": [
        "model = Sequential()\n",
        "\n",
        "# \"\"\"Block 1\"\"\"\n",
        "model.add(Conv2D(128, (3, 3), strides=(1,1), padding='same', \n",
        "\t\t\t\t\tinput_shape=x_train.shape[1:]))\n",
        "model.add(BatchNormalization())\n",
        "model.add(Conv2D(128, (3, 3), strides=(1,1), padding='same'))\n",
        "model.add(BatchNormalization())\n",
        "model.add(MaxPooling2D(pool_size=(3, 3), strides=(2, 2), padding='same'))\n",
        "model.add(Activation('relu'))\n",
        "\n",
        "# \"\"\"Block 2\"\"\"\n",
        "model.add(Conv2D(128, (3, 3), strides=(1,1), padding='same'))\n",
        "model.add(BatchNormalization())\n",
        "model.add(Conv2D(128, (3, 3), strides=(1,1), padding='same'))\n",
        "model.add(BatchNormalization())\n",
        "model.add(Activation('relu'))\n",
        "model.add(MaxPooling2D(pool_size=(3, 3), strides=(2, 2), padding='same'))\n",
        "\n",
        "# \"\"\"Block 3\"\"\"\n",
        "model.add(Conv2D(128, (3, 3), strides=(1,1), padding='same'))\n",
        "model.add(BatchNormalization())\n",
        "model.add(Conv2D(128, (3, 3), strides=(1,1), padding='same'))\n",
        "model.add(BatchNormalization())\n",
        "model.add(Activation('relu'))\n",
        "model.add(MaxPooling2D(pool_size=(3, 3), strides=(2, 2), padding='same'))\n",
        "\n",
        "# \"\"\"Block 4\"\"\"\n",
        "model.add(Conv2D(256, (3, 3), strides=(1,1), padding='same'))\n",
        "model.add(BatchNormalization())\n",
        "model.add(Conv2D(512, (3, 3), strides=(1,1), padding='same'))\n",
        "model.add(BatchNormalization())\n",
        "model.add(Activation('relu'))\n",
        "model.add(MaxPooling2D(pool_size=(3, 3), strides=(2, 2), padding='same'))\n",
        "\n",
        "# \"\"\"Block 5\"\"\"\n",
        "model.add(Flatten())\n",
        "model.add(Dense(4096))\n",
        "model.add(BatchNormalization())\n",
        "model.add(Activation('relu'))\n",
        "\n",
        "# \"\"\"Block Test\"\"\"\n",
        "model.add(Dense(1024))\n",
        "model.add(BatchNormalization())\n",
        "model.add(Activation('relu'))\n",
        "\n",
        "# \"\"\"Output Layer\"\"\"\n",
        "model.add(Dense(num_classes))\n",
        "\n",
        "# \"\"\"Loss Layer\"\"\"\n",
        "model.add(Activation('softmax'))"
      ],
      "execution_count": 9,
      "outputs": [
        {
          "output_type": "stream",
          "text": [
            "WARNING:tensorflow:From /usr/local/lib/python3.6/dist-packages/tensorflow/python/framework/op_def_library.py:263: colocate_with (from tensorflow.python.framework.ops) is deprecated and will be removed in a future version.\n",
            "Instructions for updating:\n",
            "Colocations handled automatically by placer.\n"
          ],
          "name": "stdout"
        }
      ]
    },
    {
      "metadata": {
        "id": "JN3IXPC9VYt_",
        "colab_type": "code",
        "colab": {
          "base_uri": "https://localhost:8080/",
          "height": 1258
        },
        "outputId": "53084a95-c93a-482e-9852-a0909eb611a6"
      },
      "cell_type": "code",
      "source": [
        "model.compile(loss='categorical_crossentropy',\n",
        "optimizer=SGD(lr=0.001, decay=1e-6, momentum=0.9, nesterov=True),\n",
        "metrics=['accuracy',metrics.categorical_accuracy])\n",
        "\n",
        "model.summary()"
      ],
      "execution_count": 10,
      "outputs": [
        {
          "output_type": "stream",
          "text": [
            "_________________________________________________________________\n",
            "Layer (type)                 Output Shape              Param #   \n",
            "=================================================================\n",
            "conv2d_1 (Conv2D)            (None, 32, 32, 128)       3584      \n",
            "_________________________________________________________________\n",
            "batch_normalization_1 (Batch (None, 32, 32, 128)       512       \n",
            "_________________________________________________________________\n",
            "conv2d_2 (Conv2D)            (None, 32, 32, 128)       147584    \n",
            "_________________________________________________________________\n",
            "batch_normalization_2 (Batch (None, 32, 32, 128)       512       \n",
            "_________________________________________________________________\n",
            "max_pooling2d_1 (MaxPooling2 (None, 16, 16, 128)       0         \n",
            "_________________________________________________________________\n",
            "activation_1 (Activation)    (None, 16, 16, 128)       0         \n",
            "_________________________________________________________________\n",
            "conv2d_3 (Conv2D)            (None, 16, 16, 128)       147584    \n",
            "_________________________________________________________________\n",
            "batch_normalization_3 (Batch (None, 16, 16, 128)       512       \n",
            "_________________________________________________________________\n",
            "conv2d_4 (Conv2D)            (None, 16, 16, 128)       147584    \n",
            "_________________________________________________________________\n",
            "batch_normalization_4 (Batch (None, 16, 16, 128)       512       \n",
            "_________________________________________________________________\n",
            "activation_2 (Activation)    (None, 16, 16, 128)       0         \n",
            "_________________________________________________________________\n",
            "max_pooling2d_2 (MaxPooling2 (None, 8, 8, 128)         0         \n",
            "_________________________________________________________________\n",
            "conv2d_5 (Conv2D)            (None, 8, 8, 128)         147584    \n",
            "_________________________________________________________________\n",
            "batch_normalization_5 (Batch (None, 8, 8, 128)         512       \n",
            "_________________________________________________________________\n",
            "conv2d_6 (Conv2D)            (None, 8, 8, 128)         147584    \n",
            "_________________________________________________________________\n",
            "batch_normalization_6 (Batch (None, 8, 8, 128)         512       \n",
            "_________________________________________________________________\n",
            "activation_3 (Activation)    (None, 8, 8, 128)         0         \n",
            "_________________________________________________________________\n",
            "max_pooling2d_3 (MaxPooling2 (None, 4, 4, 128)         0         \n",
            "_________________________________________________________________\n",
            "conv2d_7 (Conv2D)            (None, 4, 4, 256)         295168    \n",
            "_________________________________________________________________\n",
            "batch_normalization_7 (Batch (None, 4, 4, 256)         1024      \n",
            "_________________________________________________________________\n",
            "conv2d_8 (Conv2D)            (None, 4, 4, 512)         1180160   \n",
            "_________________________________________________________________\n",
            "batch_normalization_8 (Batch (None, 4, 4, 512)         2048      \n",
            "_________________________________________________________________\n",
            "activation_4 (Activation)    (None, 4, 4, 512)         0         \n",
            "_________________________________________________________________\n",
            "max_pooling2d_4 (MaxPooling2 (None, 2, 2, 512)         0         \n",
            "_________________________________________________________________\n",
            "flatten_1 (Flatten)          (None, 2048)              0         \n",
            "_________________________________________________________________\n",
            "dense_1 (Dense)              (None, 4096)              8392704   \n",
            "_________________________________________________________________\n",
            "batch_normalization_9 (Batch (None, 4096)              16384     \n",
            "_________________________________________________________________\n",
            "activation_5 (Activation)    (None, 4096)              0         \n",
            "_________________________________________________________________\n",
            "dense_2 (Dense)              (None, 1024)              4195328   \n",
            "_________________________________________________________________\n",
            "batch_normalization_10 (Batc (None, 1024)              4096      \n",
            "_________________________________________________________________\n",
            "activation_6 (Activation)    (None, 1024)              0         \n",
            "_________________________________________________________________\n",
            "dense_3 (Dense)              (None, 5)                 5125      \n",
            "_________________________________________________________________\n",
            "activation_7 (Activation)    (None, 5)                 0         \n",
            "=================================================================\n",
            "Total params: 14,836,613\n",
            "Trainable params: 14,823,301\n",
            "Non-trainable params: 13,312\n",
            "_________________________________________________________________\n"
          ],
          "name": "stdout"
        }
      ]
    },
    {
      "metadata": {
        "id": "A_JlOBjWVaov",
        "colab_type": "code",
        "colab": {
          "base_uri": "https://localhost:8080/",
          "height": 1005
        },
        "outputId": "4459d44b-fad0-4da7-901e-32721713d6ef"
      },
      "cell_type": "code",
      "source": [
        "model.fit_generator(datagen.flow(x_train, y_train,\n",
        "    batch_size=100),\n",
        "    epochs=5,\n",
        "    steps_per_epoch=200,\n",
        "    validation_data=(x_test, y_test),\n",
        "    verbose=1,\n",
        "    workers=16)"
      ],
      "execution_count": 14,
      "outputs": [
        {
          "output_type": "stream",
          "text": [
            "Epoch 1/5\n",
            "200/200 [==============================] - 25s 124ms/step - loss: 0.0078 - acc: 0.9994 - categorical_accuracy: 0.9994 - val_loss: 0.8517 - val_acc: 0.7840 - val_categorical_accuracy: 0.7840\n",
            "Epoch 2/5\n",
            "200/200 [==============================] - 24s 119ms/step - loss: 0.0066 - acc: 0.9998 - categorical_accuracy: 0.9998 - val_loss: 0.8523 - val_acc: 0.7760 - val_categorical_accuracy: 0.7760\n",
            "Epoch 3/5\n",
            "200/200 [==============================] - 24s 120ms/step - loss: 0.0066 - acc: 0.9994 - categorical_accuracy: 0.9994 - val_loss: 0.9091 - val_acc: 0.7840 - val_categorical_accuracy: 0.7840\n",
            "Epoch 4/5\n",
            "200/200 [==============================] - 24s 119ms/step - loss: 0.0061 - acc: 0.9996 - categorical_accuracy: 0.9996 - val_loss: 0.8888 - val_acc: 0.7800 - val_categorical_accuracy: 0.7800\n",
            "Epoch 5/5\n",
            "200/200 [==============================] - 24s 119ms/step - loss: 0.0059 - acc: 0.9997 - categorical_accuracy: 0.9997 - val_loss: 0.8982 - val_acc: 0.7840 - val_categorical_accuracy: 0.7840\n"
          ],
          "name": "stdout"
        },
        {
          "output_type": "execute_result",
          "data": {
            "text/plain": [
              "<keras.callbacks.History at 0x7f78e43d9828>"
            ]
          },
          "metadata": {
            "tags": []
          },
          "execution_count": 14
        }
      ]
    },
    {
      "metadata": {
        "id": "19-KGnQzXnkq",
        "colab_type": "code",
        "colab": {
          "base_uri": "https://localhost:8080/",
          "height": 68
        },
        "outputId": "1633218e-a710-44e4-8b9d-2b23bb74719d"
      },
      "cell_type": "code",
      "source": [
        "score = model.evaluate(x_test, y_test, verbose=1)\n",
        "print('Test loss:', score[0])\n",
        "print('Test accuracy:', score[1])"
      ],
      "execution_count": 15,
      "outputs": [
        {
          "output_type": "stream",
          "text": [
            "250/250 [==============================] - 0s 2ms/step\n",
            "Test loss: 0.8982262268066407\n",
            "Test accuracy: 0.7840000019073486\n"
          ],
          "name": "stdout"
        }
      ]
    },
    {
      "metadata": {
        "id": "yAncC4NpDGBY",
        "colab_type": "text"
      },
      "cell_type": "markdown",
      "source": [
        "**5th Model**"
      ]
    },
    {
      "metadata": {
        "id": "KcFxHFH0_ReD",
        "colab_type": "code",
        "colab": {}
      },
      "cell_type": "code",
      "source": [
        "model = Sequential()\n",
        "\n",
        "\n",
        "model.add(Conv2D(128, (3, 3), strides=(1,1), padding='same', \n",
        "\t\t\t\t\tinput_shape=x_train.shape[1:]))\n",
        "model.add(BatchNormalization())\n",
        "model.add(Conv2D(128, (3, 3), strides=(1,1), padding='same'))\n",
        "model.add(BatchNormalization())\n",
        "model.add(MaxPooling2D(pool_size=(3, 3), strides=(2, 2), padding='same'))\n",
        "model.add(Activation('relu'))\n",
        "\n",
        "\n",
        "model.add(Conv2D(256, (3, 3), strides=(1,1), padding='same'))\n",
        "model.add(BatchNormalization())\n",
        "model.add(Conv2D(256, (3, 3), strides=(1,1), padding='same'))\n",
        "model.add(BatchNormalization())\n",
        "model.add(Activation('relu'))\n",
        "model.add(MaxPooling2D(pool_size=(3, 3), strides=(2, 2), padding='same'))\n",
        "\n",
        "\n",
        "model.add(Conv2D(512, (3, 3), strides=(1,1), padding='same'))\n",
        "model.add(BatchNormalization())\n",
        "model.add(Conv2D(512, (3, 3), strides=(1,1), padding='same'))\n",
        "model.add(BatchNormalization())\n",
        "model.add(Activation('relu'))\n",
        "model.add(MaxPooling2D(pool_size=(3, 3), strides=(2, 2), padding='same'))\n",
        "\n",
        "\n",
        "model.add(Conv2D(1024, (3, 3), strides=(1,1), padding='same'))\n",
        "model.add(BatchNormalization())\n",
        "model.add(Conv2D(1024, (3, 3), strides=(1,1), padding='same'))\n",
        "model.add(BatchNormalization())\n",
        "model.add(Activation('relu'))\n",
        "model.add(MaxPooling2D(pool_size=(3, 3), strides=(2, 2), padding='same'))\n",
        "\n",
        "\n",
        "model.add(Flatten())\n",
        "model.add(Dense(4096))\n",
        "model.add(BatchNormalization())\n",
        "model.add(Activation('relu'))\n",
        "model.add(Dense(2048))\n",
        "model.add(BatchNormalization())\n",
        "model.add(Activation('relu'))\n",
        "model.add(Dense(1024))\n",
        "model.add(BatchNormalization())\n",
        "model.add(Activation('relu'))\n",
        "model.add(Dense(num_classes))\n",
        "model.add(Activation('softmax'))"
      ],
      "execution_count": 0,
      "outputs": []
    },
    {
      "metadata": {
        "id": "7cyv53N6_sra",
        "colab_type": "code",
        "colab": {
          "base_uri": "https://localhost:8080/",
          "height": 1360
        },
        "outputId": "37ab326b-53f3-4889-b299-4db215cc1745"
      },
      "cell_type": "code",
      "source": [
        "model.compile(loss='categorical_crossentropy',\n",
        "optimizer=SGD(lr=0.001, decay=1e-6, momentum=0.9, nesterov=True),\n",
        "metrics=['accuracy',metrics.categorical_accuracy])\n",
        "\n",
        "model.summary()"
      ],
      "execution_count": 36,
      "outputs": [
        {
          "output_type": "stream",
          "text": [
            "_________________________________________________________________\n",
            "Layer (type)                 Output Shape              Param #   \n",
            "=================================================================\n",
            "conv2d_37 (Conv2D)           (None, 32, 32, 128)       3584      \n",
            "_________________________________________________________________\n",
            "batch_normalization_32 (Batc (None, 32, 32, 128)       512       \n",
            "_________________________________________________________________\n",
            "conv2d_38 (Conv2D)           (None, 32, 32, 128)       147584    \n",
            "_________________________________________________________________\n",
            "batch_normalization_33 (Batc (None, 32, 32, 128)       512       \n",
            "_________________________________________________________________\n",
            "max_pooling2d_14 (MaxPooling (None, 16, 16, 128)       0         \n",
            "_________________________________________________________________\n",
            "activation_38 (Activation)   (None, 16, 16, 128)       0         \n",
            "_________________________________________________________________\n",
            "conv2d_39 (Conv2D)           (None, 16, 16, 256)       295168    \n",
            "_________________________________________________________________\n",
            "batch_normalization_34 (Batc (None, 16, 16, 256)       1024      \n",
            "_________________________________________________________________\n",
            "conv2d_40 (Conv2D)           (None, 16, 16, 256)       590080    \n",
            "_________________________________________________________________\n",
            "batch_normalization_35 (Batc (None, 16, 16, 256)       1024      \n",
            "_________________________________________________________________\n",
            "activation_39 (Activation)   (None, 16, 16, 256)       0         \n",
            "_________________________________________________________________\n",
            "max_pooling2d_15 (MaxPooling (None, 8, 8, 256)         0         \n",
            "_________________________________________________________________\n",
            "conv2d_41 (Conv2D)           (None, 8, 8, 512)         1180160   \n",
            "_________________________________________________________________\n",
            "batch_normalization_36 (Batc (None, 8, 8, 512)         2048      \n",
            "_________________________________________________________________\n",
            "conv2d_42 (Conv2D)           (None, 8, 8, 512)         2359808   \n",
            "_________________________________________________________________\n",
            "batch_normalization_37 (Batc (None, 8, 8, 512)         2048      \n",
            "_________________________________________________________________\n",
            "activation_40 (Activation)   (None, 8, 8, 512)         0         \n",
            "_________________________________________________________________\n",
            "max_pooling2d_16 (MaxPooling (None, 4, 4, 512)         0         \n",
            "_________________________________________________________________\n",
            "conv2d_43 (Conv2D)           (None, 4, 4, 1024)        4719616   \n",
            "_________________________________________________________________\n",
            "batch_normalization_38 (Batc (None, 4, 4, 1024)        4096      \n",
            "_________________________________________________________________\n",
            "conv2d_44 (Conv2D)           (None, 4, 4, 1024)        9438208   \n",
            "_________________________________________________________________\n",
            "batch_normalization_39 (Batc (None, 4, 4, 1024)        4096      \n",
            "_________________________________________________________________\n",
            "activation_41 (Activation)   (None, 4, 4, 1024)        0         \n",
            "_________________________________________________________________\n",
            "max_pooling2d_17 (MaxPooling (None, 2, 2, 1024)        0         \n",
            "_________________________________________________________________\n",
            "flatten_7 (Flatten)          (None, 4096)              0         \n",
            "_________________________________________________________________\n",
            "dense_12 (Dense)             (None, 4096)              16781312  \n",
            "_________________________________________________________________\n",
            "batch_normalization_40 (Batc (None, 4096)              16384     \n",
            "_________________________________________________________________\n",
            "activation_42 (Activation)   (None, 4096)              0         \n",
            "_________________________________________________________________\n",
            "dense_13 (Dense)             (None, 2048)              8390656   \n",
            "_________________________________________________________________\n",
            "batch_normalization_41 (Batc (None, 2048)              8192      \n",
            "_________________________________________________________________\n",
            "activation_43 (Activation)   (None, 2048)              0         \n",
            "_________________________________________________________________\n",
            "dense_14 (Dense)             (None, 1024)              2098176   \n",
            "_________________________________________________________________\n",
            "batch_normalization_42 (Batc (None, 1024)              4096      \n",
            "_________________________________________________________________\n",
            "activation_44 (Activation)   (None, 1024)              0         \n",
            "_________________________________________________________________\n",
            "dense_15 (Dense)             (None, 5)                 5125      \n",
            "_________________________________________________________________\n",
            "activation_45 (Activation)   (None, 5)                 0         \n",
            "=================================================================\n",
            "Total params: 46,053,509\n",
            "Trainable params: 46,031,493\n",
            "Non-trainable params: 22,016\n",
            "_________________________________________________________________\n"
          ],
          "name": "stdout"
        }
      ]
    },
    {
      "metadata": {
        "id": "TfcDrZo8_s36",
        "colab_type": "code",
        "colab": {
          "base_uri": "https://localhost:8080/",
          "height": 1005
        },
        "outputId": "75db853d-f221-4ab9-dd6a-eb9964b9a3fc"
      },
      "cell_type": "code",
      "source": [
        "model.fit_generator(datagen.flow(x_train, y_train,\n",
        "    batch_size=100),\n",
        "    epochs=5,\n",
        "    steps_per_epoch=200,\n",
        "    validation_data=(x_test, y_test),\n",
        "    verbose=1,\n",
        "    workers=16)"
      ],
      "execution_count": 37,
      "outputs": [
        {
          "output_type": "stream",
          "text": [
            "Epoch 1/5\n",
            "200/200 [==============================] - 56s 280ms/step - loss: 0.7002 - acc: 0.7322 - categorical_accuracy: 0.7322 - val_loss: 0.6966 - val_acc: 0.7320 - val_categorical_accuracy: 0.7320\n",
            "Epoch 2/5\n",
            "200/200 [==============================] - 48s 240ms/step - loss: 0.2505 - acc: 0.9206 - categorical_accuracy: 0.9206 - val_loss: 0.7769 - val_acc: 0.7360 - val_categorical_accuracy: 0.7360\n",
            "Epoch 3/5\n",
            "200/200 [==============================] - 48s 240ms/step - loss: 0.1153 - acc: 0.9719 - categorical_accuracy: 0.9719 - val_loss: 0.7065 - val_acc: 0.7760 - val_categorical_accuracy: 0.7760\n",
            "Epoch 4/5\n",
            "200/200 [==============================] - 48s 240ms/step - loss: 0.0638 - acc: 0.9882 - categorical_accuracy: 0.9882 - val_loss: 0.7246 - val_acc: 0.7600 - val_categorical_accuracy: 0.7600\n",
            "Epoch 5/5\n",
            "200/200 [==============================] - 48s 240ms/step - loss: 0.0408 - acc: 0.9933 - categorical_accuracy: 0.9933 - val_loss: 0.7685 - val_acc: 0.7680 - val_categorical_accuracy: 0.7680\n"
          ],
          "name": "stdout"
        },
        {
          "output_type": "execute_result",
          "data": {
            "text/plain": [
              "<keras.callbacks.History at 0x7f78e3abd240>"
            ]
          },
          "metadata": {
            "tags": []
          },
          "execution_count": 37
        }
      ]
    },
    {
      "metadata": {
        "id": "ZQqAECzh_tCZ",
        "colab_type": "code",
        "colab": {
          "base_uri": "https://localhost:8080/",
          "height": 68
        },
        "outputId": "8aac4f4f-2f0e-431f-9b09-83c4f985ec2b"
      },
      "cell_type": "code",
      "source": [
        "score = model.evaluate(x_test, y_test, verbose=1)\n",
        "print('Test loss:', score[0])\n",
        "print('Test accuracy:', score[1])"
      ],
      "execution_count": 38,
      "outputs": [
        {
          "output_type": "stream",
          "text": [
            "250/250 [==============================] - 1s 5ms/step\n",
            "Test loss: 0.7684581179618836\n",
            "Test accuracy: 0.7680000014305115\n"
          ],
          "name": "stdout"
        }
      ]
    }
  ]
}