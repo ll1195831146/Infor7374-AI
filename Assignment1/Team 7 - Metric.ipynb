{
  "nbformat": 4,
  "nbformat_minor": 0,
  "metadata": {
    "colab": {
      "name": "7374 Assignment1 Part1.ipynb",
      "version": "0.3.2",
      "provenance": [],
      "include_colab_link": true
    },
    "kernelspec": {
      "name": "python3",
      "display_name": "Python 3"
    },
    "accelerator": "GPU"
  },
  "cells": [
    {
      "cell_type": "markdown",
      "metadata": {
        "id": "view-in-github",
        "colab_type": "text"
      },
      "source": [
        "<a href=\"https://colab.research.google.com/github/ll1195831146/Infor7374-AI/blob/master/Assignment1/Team%207%20-%20Metric.ipynb\" target=\"_parent\"><img src=\"https://colab.research.google.com/assets/colab-badge.svg\" alt=\"Open In Colab\"/></a>"
      ]
    },
    {
      "metadata": {
        "id": "JMHFpYSSMbN7",
        "colab_type": "text"
      },
      "cell_type": "markdown",
      "source": [
        "**Metric**"
      ]
    },
    {
      "metadata": {
        "id": "wl0iD9uJMbN_",
        "colab_type": "code",
        "colab": {
          "base_uri": "https://localhost:8080/",
          "height": 34
        },
        "outputId": "d63bd678-7c25-4d9a-f257-9607d809e58f"
      },
      "cell_type": "code",
      "source": [
        "from __future__ import print_function\n",
        "import keras\n",
        "from keras.datasets import cifar10\n",
        "from keras.preprocessing.image import ImageDataGenerator\n",
        "from keras.models import Sequential\n",
        "from keras.layers import Dense, Dropout, Activation, Flatten\n",
        "from keras.layers import Conv2D, MaxPooling2D\n",
        "import os\n",
        "from keras import metrics"
      ],
      "execution_count": 2,
      "outputs": [
        {
          "output_type": "stream",
          "text": [
            "Using TensorFlow backend.\n"
          ],
          "name": "stderr"
        }
      ]
    },
    {
      "metadata": {
        "id": "saTix5oIMbOH",
        "colab_type": "code",
        "colab": {}
      },
      "cell_type": "code",
      "source": [
        "save_dir = os.path.join(os.getcwd(), 'saved_models')\n",
        "model_name = 'keras_cifar10_trained_model.h5'"
      ],
      "execution_count": 0,
      "outputs": []
    },
    {
      "metadata": {
        "id": "NRNRsFHhMbOM",
        "colab_type": "code",
        "outputId": "a5385995-d63b-4a80-e401-dd278c781ee7",
        "colab": {
          "base_uri": "https://localhost:8080/",
          "height": 102
        }
      },
      "cell_type": "code",
      "source": [
        "# The data, split between train and test sets:\n",
        "(x_train, y_train), (x_test, y_test) = cifar10.load_data()\n",
        "print('x_train shape:', x_train.shape)\n",
        "print(x_train.shape[0], 'train samples')\n",
        "print(x_test.shape[0], 'test samples')"
      ],
      "execution_count": 4,
      "outputs": [
        {
          "output_type": "stream",
          "text": [
            "Downloading data from https://www.cs.toronto.edu/~kriz/cifar-10-python.tar.gz\n",
            "170500096/170498071 [==============================] - 39s 0us/step\n",
            "x_train shape: (50000, 32, 32, 3)\n",
            "50000 train samples\n",
            "10000 test samples\n"
          ],
          "name": "stdout"
        }
      ]
    },
    {
      "metadata": {
        "id": "mpoBBpksMbOT",
        "colab_type": "code",
        "colab": {}
      },
      "cell_type": "code",
      "source": [
        "batch_size = 32\n",
        "num_classes = 10\n",
        "epochs = 5\n",
        "data_augmentation = True\n",
        "num_predictions = 20"
      ],
      "execution_count": 0,
      "outputs": []
    },
    {
      "metadata": {
        "id": "QXvY8oE8MbOV",
        "colab_type": "code",
        "colab": {}
      },
      "cell_type": "code",
      "source": [
        "# Convert class vectors to binary class matrices.\n",
        "y_train = keras.utils.to_categorical(y_train, num_classes)\n",
        "y_test = keras.utils.to_categorical(y_test, num_classes)"
      ],
      "execution_count": 0,
      "outputs": []
    },
    {
      "metadata": {
        "id": "mVOTzBy_MbOZ",
        "colab_type": "code",
        "colab": {
          "base_uri": "https://localhost:8080/",
          "height": 93
        },
        "outputId": "a149e4f1-59a1-4945-d800-fb7f97247839"
      },
      "cell_type": "code",
      "source": [
        "# initiate RMSprop optimizer\n",
        "opt = keras.optimizers.rmsprop(lr=0.0001, decay=1e-6)"
      ],
      "execution_count": 7,
      "outputs": [
        {
          "output_type": "stream",
          "text": [
            "WARNING:tensorflow:From /usr/local/lib/python3.6/dist-packages/tensorflow/python/framework/op_def_library.py:263: colocate_with (from tensorflow.python.framework.ops) is deprecated and will be removed in a future version.\n",
            "Instructions for updating:\n",
            "Colocations handled automatically by placer.\n"
          ],
          "name": "stdout"
        }
      ]
    },
    {
      "metadata": {
        "id": "JR8dgCkiMbOc",
        "colab_type": "code",
        "colab": {}
      },
      "cell_type": "code",
      "source": [
        "x_train = x_train.astype('float32')\n",
        "x_test = x_test.astype('float32')\n",
        "x_train /= 255\n",
        "x_test /= 255"
      ],
      "execution_count": 0,
      "outputs": []
    },
    {
      "metadata": {
        "id": "qTy-9t2BMbOe",
        "colab_type": "code",
        "outputId": "6ddce4d7-df05-4ed5-d506-3d2910b8b00b",
        "colab": {
          "base_uri": "https://localhost:8080/",
          "height": 34
        }
      },
      "cell_type": "code",
      "source": [
        "print('Using real-time data augmentation.')\n",
        "# This will do preprocessing and realtime data augmentation:\n",
        "datagen = ImageDataGenerator(\n",
        "    featurewise_center=False,  # set input mean to 0 over the dataset\n",
        "    samplewise_center=False,  # set each sample mean to 0\n",
        "    featurewise_std_normalization=False,  # divide inputs by std of the dataset\n",
        "    samplewise_std_normalization=False,  # divide each input by its std\n",
        "    zca_whitening=False,  # apply ZCA whitening\n",
        "    zca_epsilon=1e-06,  # epsilon for ZCA whitening\n",
        "    rotation_range=0,  # randomly rotate images in the range (degrees, 0 to 180)\n",
        "    # randomly shift images horizontally (fraction of total width)\n",
        "    width_shift_range=0.1,\n",
        "    # randomly shift images vertically (fraction of total height)\n",
        "    height_shift_range=0.1,\n",
        "    shear_range=0.,  # set range for random shear\n",
        "    zoom_range=0.,  # set range for random zoom\n",
        "    channel_shift_range=0.,  # set range for random channel shifts\n",
        "    # set mode for filling points outside the input boundaries\n",
        "    fill_mode='nearest',\n",
        "    cval=0.,  # value used for fill_mode = \"constant\"\n",
        "    horizontal_flip=True,  # randomly flip images\n",
        "    vertical_flip=False,  # randomly flip images\n",
        "    # set rescaling factor (applied before any other transformation)\n",
        "    rescale=None,\n",
        "    # set function that will be applied on each input\n",
        "    preprocessing_function=None,\n",
        "    # image data format, either \"channels_first\" or \"channels_last\"\n",
        "    data_format=None,\n",
        "    # fraction of images reserved for validation (strictly between 0 and 1)\n",
        "    validation_split=0.0)\n",
        "    \n",
        "# Compute quantities required for feature-wise normalization\n",
        "# (std, mean, and principal components if ZCA whitening is applied).\n",
        "datagen.fit(x_train)"
      ],
      "execution_count": 9,
      "outputs": [
        {
          "output_type": "stream",
          "text": [
            "Using real-time data augmentation.\n"
          ],
          "name": "stdout"
        }
      ]
    },
    {
      "metadata": {
        "id": "7we0owXjPXmy",
        "colab_type": "code",
        "colab": {}
      },
      "cell_type": "code",
      "source": [
        "model = Sequential()\n",
        "model.add(Conv2D(32, (3, 3), padding='same',\n",
        "input_shape=x_train.shape[1:]))\n",
        "model.add(Activation('relu'))\n",
        "model.add(Conv2D(32, (3, 3)))\n",
        "model.add(Activation('relu'))\n",
        "model.add(MaxPooling2D(pool_size=(2, 2)))\n",
        "model.add(Dropout(0.1))\n",
        "\n",
        "model.add(Conv2D(64, (3, 3), padding='same'))\n",
        "model.add(Activation('relu'))\n",
        "model.add(Conv2D(64, (3, 3)))\n",
        "model.add(Activation('relu'))\n",
        "model.add(MaxPooling2D(pool_size=(2, 2)))\n",
        "model.add(Dropout(0.1))\n",
        "\n",
        "model.add(Flatten())\n",
        "model.add(Dense(512))\n",
        "model.add(Activation('relu'))\n",
        "model.add(Dropout(0.1))\n",
        "model.add(Dense(num_classes))\n",
        "model.add(Activation('softmax'))"
      ],
      "execution_count": 0,
      "outputs": []
    },
    {
      "metadata": {
        "id": "RPTEmkNzQJ0u",
        "colab_type": "text"
      },
      "cell_type": "markdown",
      "source": [
        "**Binary Accuracy**"
      ]
    },
    {
      "metadata": {
        "id": "7y0sd2c1MbPd",
        "colab_type": "code",
        "outputId": "b268cb9a-e7df-4896-a3cf-0e50ebddab2c",
        "colab": {
          "base_uri": "https://localhost:8080/",
          "height": 1005
        }
      },
      "cell_type": "code",
      "source": [
        "import keras.backend as K\n",
        "\n",
        "def binary_accuracy(y_true, y_pred):\n",
        "    return K.mean(K.equal(y_true, K.round(y_pred)), axis=-1)\n",
        "\n",
        "model.compile(loss='categorical_crossentropy',\n",
        "optimizer=keras.optimizers.rmsprop(lr=0.0002, decay=1e-6),\n",
        "metrics=['accuracy',binary_accuracy])\n",
        "\n",
        "model.fit_generator(datagen.flow(x_train, y_train,\n",
        "    batch_size=batch_size),\n",
        "    epochs=5,\n",
        "    steps_per_epoch=1563,\n",
        "    validation_data=(x_test, y_test),\n",
        "    workers=4)"
      ],
      "execution_count": 14,
      "outputs": [
        {
          "output_type": "stream",
          "text": [
            "WARNING:tensorflow:From /usr/local/lib/python3.6/dist-packages/tensorflow/python/ops/math_ops.py:3066: to_int32 (from tensorflow.python.ops.math_ops) is deprecated and will be removed in a future version.\n",
            "Instructions for updating:\n",
            "Use tf.cast instead.\n",
            "Epoch 1/5\n",
            "1563/1563 [==============================] - 50s 32ms/step - loss: 1.6657 - acc: 0.3923 - binary_accuracy: 0.9064 - val_loss: 1.3429 - val_acc: 0.5116 - val_binary_accuracy: 0.9167\n",
            "Epoch 2/5\n",
            "1563/1563 [==============================] - 45s 29ms/step - loss: 1.3563 - acc: 0.5148 - binary_accuracy: 0.9176 - val_loss: 1.3038 - val_acc: 0.5392 - val_binary_accuracy: 0.9210\n",
            "Epoch 3/5\n",
            "1563/1563 [==============================] - 45s 29ms/step - loss: 1.1997 - acc: 0.5735 - binary_accuracy: 0.9257 - val_loss: 1.0254 - val_acc: 0.6409 - val_binary_accuracy: 0.9347\n",
            "Epoch 4/5\n",
            "1563/1563 [==============================] - 45s 29ms/step - loss: 1.0995 - acc: 0.6120 - binary_accuracy: 0.9313 - val_loss: 0.9393 - val_acc: 0.6657 - val_binary_accuracy: 0.9396\n",
            "Epoch 5/5\n",
            "1563/1563 [==============================] - 45s 29ms/step - loss: 1.0179 - acc: 0.6419 - binary_accuracy: 0.9357 - val_loss: 0.9561 - val_acc: 0.6633 - val_binary_accuracy: 0.9395\n"
          ],
          "name": "stdout"
        },
        {
          "output_type": "execute_result",
          "data": {
            "text/plain": [
              "<keras.callbacks.History at 0x7f9818222b38>"
            ]
          },
          "metadata": {
            "tags": []
          },
          "execution_count": 14
        }
      ]
    },
    {
      "metadata": {
        "id": "DFRJ5YzeMbPg",
        "colab_type": "code",
        "outputId": "a398b024-7ec4-4cd6-9900-51fcf4dfea38",
        "colab": {
          "base_uri": "https://localhost:8080/",
          "height": 68
        }
      },
      "cell_type": "code",
      "source": [
        "score = model.evaluate(x_test, y_test, verbose=1)\n",
        "print('Test loss:', score[0])\n",
        "print('Test accuracy:', score[1])"
      ],
      "execution_count": 15,
      "outputs": [
        {
          "output_type": "stream",
          "text": [
            "10000/10000 [==============================] - 1s 144us/step\n",
            "Test loss: 0.956063318824768\n",
            "Test accuracy: 0.6633\n"
          ],
          "name": "stdout"
        }
      ]
    },
    {
      "metadata": {
        "id": "XltDbDlRQyFw",
        "colab_type": "text"
      },
      "cell_type": "markdown",
      "source": [
        "**Categorical Accuracy**"
      ]
    },
    {
      "metadata": {
        "id": "9p9MrEowQyhO",
        "colab_type": "code",
        "colab": {
          "base_uri": "https://localhost:8080/",
          "height": 1005
        },
        "outputId": "2f8368b5-19af-4b0d-be8a-2ec8b4b23a88"
      },
      "cell_type": "code",
      "source": [
        "def categorical_accuracy(y_true, y_pred):\n",
        "    return K.cast(K.equal(K.argmax(y_true, axis=-1),\n",
        "                          K.argmax(y_pred, axis=-1)),\n",
        "                  K.floatx())\n",
        "\n",
        "model.compile(loss='categorical_crossentropy',\n",
        "optimizer=keras.optimizers.rmsprop(lr=0.0002, decay=1e-6),\n",
        "metrics=['accuracy',categorical_accuracy])\n",
        "\n",
        "model.fit_generator(datagen.flow(x_train, y_train,\n",
        "    batch_size=batch_size),\n",
        "    epochs=5,\n",
        "    steps_per_epoch=1563,\n",
        "    validation_data=(x_test, y_test),\n",
        "    workers=4)"
      ],
      "execution_count": 16,
      "outputs": [
        {
          "output_type": "stream",
          "text": [
            "Epoch 1/5\n",
            "1563/1563 [==============================] - 45s 29ms/step - loss: 0.9613 - acc: 0.6617 - categorical_accuracy: 0.6617 - val_loss: 0.9737 - val_acc: 0.6755 - val_categorical_accuracy: 0.6755\n",
            "Epoch 2/5\n",
            "1563/1563 [==============================] - 45s 29ms/step - loss: 0.9098 - acc: 0.6814 - categorical_accuracy: 0.6814 - val_loss: 0.8729 - val_acc: 0.7002 - val_categorical_accuracy: 0.7002\n",
            "Epoch 3/5\n",
            "1563/1563 [==============================] - 45s 29ms/step - loss: 0.8644 - acc: 0.6986 - categorical_accuracy: 0.6986 - val_loss: 0.8588 - val_acc: 0.7076 - val_categorical_accuracy: 0.7076\n",
            "Epoch 4/5\n",
            "1563/1563 [==============================] - 45s 29ms/step - loss: 0.8188 - acc: 0.7159 - categorical_accuracy: 0.7159 - val_loss: 0.8486 - val_acc: 0.7019 - val_categorical_accuracy: 0.7019\n",
            "Epoch 5/5\n",
            "1563/1563 [==============================] - 45s 29ms/step - loss: 0.7928 - acc: 0.7244 - categorical_accuracy: 0.7244 - val_loss: 0.7329 - val_acc: 0.7493 - val_categorical_accuracy: 0.7493\n"
          ],
          "name": "stdout"
        },
        {
          "output_type": "execute_result",
          "data": {
            "text/plain": [
              "<keras.callbacks.History at 0x7f9818222b00>"
            ]
          },
          "metadata": {
            "tags": []
          },
          "execution_count": 16
        }
      ]
    },
    {
      "metadata": {
        "id": "mOJu6-XXQzAR",
        "colab_type": "code",
        "colab": {
          "base_uri": "https://localhost:8080/",
          "height": 68
        },
        "outputId": "afecb75f-1d91-43be-92b3-d47d1099e7e4"
      },
      "cell_type": "code",
      "source": [
        "score = model.evaluate(x_test, y_test, verbose=1)\n",
        "print('Test loss:', score[0])\n",
        "print('Test accuracy:', score[1])"
      ],
      "execution_count": 17,
      "outputs": [
        {
          "output_type": "stream",
          "text": [
            "10000/10000 [==============================] - 1s 143us/step\n",
            "Test loss: 0.7328756074905396\n",
            "Test accuracy: 0.7493\n"
          ],
          "name": "stdout"
        }
      ]
    },
    {
      "metadata": {
        "id": "SJN9BbPzQ0-i",
        "colab_type": "text"
      },
      "cell_type": "markdown",
      "source": [
        "**Top K Categorical Accuracy**"
      ]
    },
    {
      "metadata": {
        "id": "3emlyeq-Q1MJ",
        "colab_type": "code",
        "colab": {
          "base_uri": "https://localhost:8080/",
          "height": 1005
        },
        "outputId": "03fd82c4-55cd-4d34-c814-77a8652e490d"
      },
      "cell_type": "code",
      "source": [
        "def top_k_categorical_accuracy(y_true, y_pred, k=5):\n",
        "    return K.mean(K.in_top_k(y_pred, K.argmax(y_true, axis=-1), k), axis=-1)\n",
        "  \n",
        "model.compile(loss='categorical_crossentropy',\n",
        "optimizer=keras.optimizers.rmsprop(lr=0.0002, decay=1e-6),\n",
        "metrics=['accuracy',top_k_categorical_accuracy])\n",
        "\n",
        "model.fit_generator(datagen.flow(x_train, y_train,\n",
        "    batch_size=batch_size),\n",
        "    epochs=5,\n",
        "    steps_per_epoch=1563,\n",
        "    validation_data=(x_test, y_test),\n",
        "    workers=4)"
      ],
      "execution_count": 19,
      "outputs": [
        {
          "output_type": "stream",
          "text": [
            "Epoch 1/5\n",
            "1563/1563 [==============================] - 47s 30ms/step - loss: 0.7676 - acc: 0.7321 - top_k_categorical_accuracy: 0.9816 - val_loss: 0.7417 - val_acc: 0.7526 - val_top_k_categorical_accuracy: 0.9791\n",
            "Epoch 2/5\n",
            "1563/1563 [==============================] - 46s 30ms/step - loss: 0.7446 - acc: 0.7414 - top_k_categorical_accuracy: 0.9826 - val_loss: 0.6934 - val_acc: 0.7598 - val_top_k_categorical_accuracy: 0.9827\n",
            "Epoch 3/5\n",
            "1563/1563 [==============================] - 46s 30ms/step - loss: 0.7219 - acc: 0.7497 - top_k_categorical_accuracy: 0.9843 - val_loss: 0.6936 - val_acc: 0.7649 - val_top_k_categorical_accuracy: 0.9840\n",
            "Epoch 4/5\n",
            "1563/1563 [==============================] - 46s 29ms/step - loss: 0.7090 - acc: 0.7550 - top_k_categorical_accuracy: 0.9850 - val_loss: 0.7673 - val_acc: 0.7427 - val_top_k_categorical_accuracy: 0.9824\n",
            "Epoch 5/5\n",
            "1563/1563 [==============================] - 46s 29ms/step - loss: 0.6941 - acc: 0.7639 - top_k_categorical_accuracy: 0.9850 - val_loss: 0.6982 - val_acc: 0.7674 - val_top_k_categorical_accuracy: 0.9813\n"
          ],
          "name": "stdout"
        },
        {
          "output_type": "execute_result",
          "data": {
            "text/plain": [
              "<keras.callbacks.History at 0x7f98169df2b0>"
            ]
          },
          "metadata": {
            "tags": []
          },
          "execution_count": 19
        }
      ]
    },
    {
      "metadata": {
        "id": "6vPwOa4yQ1Rd",
        "colab_type": "code",
        "colab": {
          "base_uri": "https://localhost:8080/",
          "height": 68
        },
        "outputId": "f4bf2785-9bac-422a-b66e-b8b743afe456"
      },
      "cell_type": "code",
      "source": [
        "score = model.evaluate(x_test, y_test, verbose=1)\n",
        "print('Test loss:', score[0])\n",
        "print('Test accuracy:', score[1])"
      ],
      "execution_count": 20,
      "outputs": [
        {
          "output_type": "stream",
          "text": [
            "10000/10000 [==============================] - 2s 152us/step\n",
            "Test loss: 0.6981815435409546\n",
            "Test accuracy: 0.7674\n"
          ],
          "name": "stdout"
        }
      ]
    },
    {
      "metadata": {
        "id": "MjykxkJgQ2QR",
        "colab_type": "text"
      },
      "cell_type": "markdown",
      "source": [
        "**Custom Metric - IOU**"
      ]
    },
    {
      "metadata": {
        "id": "VfEghWV_Q2Y2",
        "colab_type": "code",
        "colab": {
          "base_uri": "https://localhost:8080/",
          "height": 1005
        },
        "outputId": "73d86b10-3400-4051-eead-417508efc61c"
      },
      "cell_type": "code",
      "source": [
        "def iouMetric(y_true, y_pred):\n",
        "   pred = K.cast(K.greater(y_pred, 0.5), K.floatx())\n",
        "   union = K.cast(K.greater(y_true + pred, 0), K.floatx())\n",
        "   intersec = y_true * pred\n",
        "   iou = K.sum(intersec) / (K.sum(union) + K.epsilon())\n",
        " \n",
        "   return iou\n",
        "\n",
        "model.compile(loss='categorical_crossentropy',\n",
        "optimizer=keras.optimizers.rmsprop(lr=0.0002, decay=1e-6),\n",
        "metrics=['accuracy',iouMetric])\n",
        "\n",
        "model.fit_generator(datagen.flow(x_train, y_train,\n",
        "    batch_size=batch_size),\n",
        "    epochs=5,\n",
        "    steps_per_epoch=1563,\n",
        "    validation_data=(x_test, y_test),\n",
        "    workers=4)"
      ],
      "execution_count": 22,
      "outputs": [
        {
          "output_type": "stream",
          "text": [
            "Epoch 1/5\n",
            "1563/1563 [==============================] - 46s 29ms/step - loss: 0.6842 - acc: 0.7639 - iouMetric: 0.6161 - val_loss: 0.6887 - val_acc: 0.7684 - val_iouMetric: 0.6316\n",
            "Epoch 2/5\n",
            "1563/1563 [==============================] - 45s 29ms/step - loss: 0.6737 - acc: 0.7684 - iouMetric: 0.6222 - val_loss: 0.7423 - val_acc: 0.7559 - val_iouMetric: 0.6140\n",
            "Epoch 3/5\n",
            "1563/1563 [==============================] - 45s 29ms/step - loss: 0.6727 - acc: 0.7686 - iouMetric: 0.6209 - val_loss: 0.6951 - val_acc: 0.7649 - val_iouMetric: 0.6247\n",
            "Epoch 4/5\n",
            "1563/1563 [==============================] - 45s 29ms/step - loss: 0.6602 - acc: 0.7752 - iouMetric: 0.6303 - val_loss: 0.7155 - val_acc: 0.7697 - val_iouMetric: 0.6227\n",
            "Epoch 5/5\n",
            "1563/1563 [==============================] - 45s 29ms/step - loss: 0.6622 - acc: 0.7738 - iouMetric: 0.6286 - val_loss: 0.6692 - val_acc: 0.7886 - val_iouMetric: 0.6576\n"
          ],
          "name": "stdout"
        },
        {
          "output_type": "execute_result",
          "data": {
            "text/plain": [
              "<keras.callbacks.History at 0x7f9815fa76a0>"
            ]
          },
          "metadata": {
            "tags": []
          },
          "execution_count": 22
        }
      ]
    },
    {
      "metadata": {
        "id": "srL8C8LmQ2cz",
        "colab_type": "code",
        "colab": {
          "base_uri": "https://localhost:8080/",
          "height": 68
        },
        "outputId": "177728ab-4895-4c03-af06-9878eca3ab74"
      },
      "cell_type": "code",
      "source": [
        "score = model.evaluate(x_test, y_test, verbose=1)\n",
        "print('Test loss:', score[0])\n",
        "print('Test accuracy:', score[1])"
      ],
      "execution_count": 23,
      "outputs": [
        {
          "output_type": "stream",
          "text": [
            "10000/10000 [==============================] - 1s 147us/step\n",
            "Test loss: 0.6691593486785888\n",
            "Test accuracy: 0.7886\n"
          ],
          "name": "stdout"
        }
      ]
    },
    {
      "metadata": {
        "id": "bSfi65iTMbPh",
        "colab_type": "text"
      },
      "cell_type": "markdown",
      "source": [
        "**The training efficiency on GPU is much higher than on CPU.**"
      ]
    }
  ]
}