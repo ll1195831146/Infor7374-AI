{
  "nbformat": 4,
  "nbformat_minor": 0,
  "metadata": {
    "colab": {
      "name": "7374 Assignment1 Part1.ipynb",
      "version": "0.3.2",
      "provenance": [],
      "include_colab_link": true
    },
    "kernelspec": {
      "name": "python3",
      "display_name": "Python 3"
    },
    "accelerator": "GPU"
  },
  "cells": [
    {
      "cell_type": "markdown",
      "metadata": {
        "id": "view-in-github",
        "colab_type": "text"
      },
      "source": [
        "<a href=\"https://colab.research.google.com/github/ll1195831146/Infor7374-AI/blob/master/Assignment1/7374%20Assignment1%20Part1(Colab).ipynb\" target=\"_parent\"><img src=\"https://colab.research.google.com/assets/colab-badge.svg\" alt=\"Open In Colab\"/></a>"
      ]
    },
    {
      "metadata": {
        "id": "JMHFpYSSMbN7",
        "colab_type": "text"
      },
      "cell_type": "markdown",
      "source": [
        "**In this file, I test my best model on GPU.**"
      ]
    },
    {
      "metadata": {
        "id": "wl0iD9uJMbN_",
        "colab_type": "code",
        "colab": {}
      },
      "cell_type": "code",
      "source": [
        "from __future__ import print_function\n",
        "import keras\n",
        "from keras.datasets import cifar10\n",
        "from keras.preprocessing.image import ImageDataGenerator\n",
        "from keras.models import Sequential\n",
        "from keras.layers import Dense, Dropout, Activation, Flatten\n",
        "from keras.layers import Conv2D, MaxPooling2D\n",
        "import os\n",
        "from keras import metrics"
      ],
      "execution_count": 0,
      "outputs": []
    },
    {
      "metadata": {
        "id": "saTix5oIMbOH",
        "colab_type": "code",
        "colab": {}
      },
      "cell_type": "code",
      "source": [
        "save_dir = os.path.join(os.getcwd(), 'saved_models')\n",
        "model_name = 'keras_cifar10_trained_model.h5'"
      ],
      "execution_count": 0,
      "outputs": []
    },
    {
      "metadata": {
        "id": "NRNRsFHhMbOM",
        "colab_type": "code",
        "colab": {
          "base_uri": "https://localhost:8080/",
          "height": 68
        },
        "outputId": "4fd66640-ca7a-458b-aeef-ee77fd8cd8e6"
      },
      "cell_type": "code",
      "source": [
        "# The data, split between train and test sets:\n",
        "(x_train, y_train), (x_test, y_test) = cifar10.load_data()\n",
        "print('x_train shape:', x_train.shape)\n",
        "print(x_train.shape[0], 'train samples')\n",
        "print(x_test.shape[0], 'test samples')"
      ],
      "execution_count": 23,
      "outputs": [
        {
          "output_type": "stream",
          "text": [
            "x_train shape: (50000, 32, 32, 3)\n",
            "50000 train samples\n",
            "10000 test samples\n"
          ],
          "name": "stdout"
        }
      ]
    },
    {
      "metadata": {
        "id": "mpoBBpksMbOT",
        "colab_type": "code",
        "colab": {}
      },
      "cell_type": "code",
      "source": [
        "batch_size = 32\n",
        "num_classes = 10\n",
        "epochs = 5\n",
        "data_augmentation = True\n",
        "num_predictions = 20"
      ],
      "execution_count": 0,
      "outputs": []
    },
    {
      "metadata": {
        "id": "QXvY8oE8MbOV",
        "colab_type": "code",
        "colab": {}
      },
      "cell_type": "code",
      "source": [
        "# Convert class vectors to binary class matrices.\n",
        "y_train = keras.utils.to_categorical(y_train, num_classes)\n",
        "y_test = keras.utils.to_categorical(y_test, num_classes)"
      ],
      "execution_count": 0,
      "outputs": []
    },
    {
      "metadata": {
        "id": "mVOTzBy_MbOZ",
        "colab_type": "code",
        "colab": {}
      },
      "cell_type": "code",
      "source": [
        "# initiate RMSprop optimizer\n",
        "opt = keras.optimizers.rmsprop(lr=0.0001, decay=1e-6)"
      ],
      "execution_count": 0,
      "outputs": []
    },
    {
      "metadata": {
        "id": "JR8dgCkiMbOc",
        "colab_type": "code",
        "colab": {}
      },
      "cell_type": "code",
      "source": [
        "x_train = x_train.astype('float32')\n",
        "x_test = x_test.astype('float32')\n",
        "x_train /= 255\n",
        "x_test /= 255"
      ],
      "execution_count": 0,
      "outputs": []
    },
    {
      "metadata": {
        "id": "qTy-9t2BMbOe",
        "colab_type": "code",
        "colab": {
          "base_uri": "https://localhost:8080/",
          "height": 34
        },
        "outputId": "51af9eee-7a08-4299-fff3-59114b4b3877"
      },
      "cell_type": "code",
      "source": [
        "print('Using real-time data augmentation.')\n",
        "# This will do preprocessing and realtime data augmentation:\n",
        "datagen = ImageDataGenerator(\n",
        "    featurewise_center=False,  # set input mean to 0 over the dataset\n",
        "    samplewise_center=False,  # set each sample mean to 0\n",
        "    featurewise_std_normalization=False,  # divide inputs by std of the dataset\n",
        "    samplewise_std_normalization=False,  # divide each input by its std\n",
        "    zca_whitening=False,  # apply ZCA whitening\n",
        "    zca_epsilon=1e-06,  # epsilon for ZCA whitening\n",
        "    rotation_range=0,  # randomly rotate images in the range (degrees, 0 to 180)\n",
        "    # randomly shift images horizontally (fraction of total width)\n",
        "    width_shift_range=0.1,\n",
        "    # randomly shift images vertically (fraction of total height)\n",
        "    height_shift_range=0.1,\n",
        "    shear_range=0.,  # set range for random shear\n",
        "    zoom_range=0.,  # set range for random zoom\n",
        "    channel_shift_range=0.,  # set range for random channel shifts\n",
        "    # set mode for filling points outside the input boundaries\n",
        "    fill_mode='nearest',\n",
        "    cval=0.,  # value used for fill_mode = \"constant\"\n",
        "    horizontal_flip=True,  # randomly flip images\n",
        "    vertical_flip=False,  # randomly flip images\n",
        "    # set rescaling factor (applied before any other transformation)\n",
        "    rescale=None,\n",
        "    # set function that will be applied on each input\n",
        "    preprocessing_function=None,\n",
        "    # image data format, either \"channels_first\" or \"channels_last\"\n",
        "    data_format=None,\n",
        "    # fraction of images reserved for validation (strictly between 0 and 1)\n",
        "    validation_split=0.0)\n",
        "    \n",
        "# Compute quantities required for feature-wise normalization\n",
        "# (std, mean, and principal components if ZCA whitening is applied).\n",
        "datagen.fit(x_train)"
      ],
      "execution_count": 28,
      "outputs": [
        {
          "output_type": "stream",
          "text": [
            "Using real-time data augmentation.\n"
          ],
          "name": "stdout"
        }
      ]
    },
    {
      "metadata": {
        "id": "7y0sd2c1MbPd",
        "colab_type": "code",
        "colab": {
          "base_uri": "https://localhost:8080/",
          "height": 2791
        },
        "outputId": "5fb99150-4db5-4ff2-8928-9ee5f302e11d"
      },
      "cell_type": "code",
      "source": [
        "model_best = Sequential()\n",
        "model_best.add(Conv2D(32, (3, 3), padding='same',\n",
        "input_shape=x_train.shape[1:]))\n",
        "model_best.add(Activation('relu'))\n",
        "model_best.add(Conv2D(32, (3, 3)))\n",
        "model_best.add(Activation('relu'))\n",
        "model_best.add(MaxPooling2D(pool_size=(2, 2)))\n",
        "model_best.add(Dropout(0.1))\n",
        "\n",
        "model_best.add(Conv2D(64, (3, 3), padding='same'))\n",
        "model_best.add(Activation('relu'))\n",
        "model_best.add(Conv2D(64, (3, 3)))\n",
        "model_best.add(Activation('relu'))\n",
        "model_best.add(MaxPooling2D(pool_size=(2, 2)))\n",
        "model_best.add(Dropout(0.1))\n",
        "\n",
        "model_best.add(Flatten())\n",
        "model_best.add(Dense(512))\n",
        "model_best.add(Activation('relu'))\n",
        "model_best.add(Dropout(0.1))\n",
        "model_best.add(Dense(num_classes))\n",
        "model_best.add(Activation('softmax'))\n",
        "\n",
        "model_best.compile(loss='categorical_crossentropy',\n",
        "optimizer=keras.optimizers.rmsprop(lr=0.0002, decay=1e-6),\n",
        "metrics=['accuracy',metrics.categorical_accuracy])\n",
        "\n",
        "model_best.fit_generator(datagen.flow(x_train, y_train,\n",
        "    batch_size=batch_size),\n",
        "    epochs=100,\n",
        "    steps_per_epoch=1563,\n",
        "    validation_data=(x_test, y_test),\n",
        "    workers=4)"
      ],
      "execution_count": 29,
      "outputs": [
        {
          "output_type": "stream",
          "text": [
            "Epoch 1/100\n",
            "1563/1563 [==============================] - 47s 30ms/step - loss: 1.6890 - acc: 0.3844 - categorical_accuracy: 0.3844 - val_loss: 1.4496 - val_acc: 0.4672 - val_categorical_accuracy: 0.4672\n",
            "Epoch 2/100\n",
            "1563/1563 [==============================] - 45s 29ms/step - loss: 1.3604 - acc: 0.5105 - categorical_accuracy: 0.5105 - val_loss: 1.1798 - val_acc: 0.5768 - val_categorical_accuracy: 0.5768\n",
            "Epoch 3/100\n",
            "1563/1563 [==============================] - 45s 29ms/step - loss: 1.2024 - acc: 0.5697 - categorical_accuracy: 0.5697 - val_loss: 1.0675 - val_acc: 0.6235 - val_categorical_accuracy: 0.6235\n",
            "Epoch 4/100\n",
            "1563/1563 [==============================] - 45s 29ms/step - loss: 1.0958 - acc: 0.6136 - categorical_accuracy: 0.6136 - val_loss: 1.0462 - val_acc: 0.6319 - val_categorical_accuracy: 0.6319\n",
            "Epoch 5/100\n",
            "1563/1563 [==============================] - 45s 29ms/step - loss: 1.0194 - acc: 0.6392 - categorical_accuracy: 0.6392 - val_loss: 0.9189 - val_acc: 0.6810 - val_categorical_accuracy: 0.6810\n",
            "Epoch 6/100\n",
            "1563/1563 [==============================] - 44s 28ms/step - loss: 0.9524 - acc: 0.6672 - categorical_accuracy: 0.6672 - val_loss: 0.8063 - val_acc: 0.7195 - val_categorical_accuracy: 0.7195\n",
            "Epoch 7/100\n",
            "1563/1563 [==============================] - 44s 28ms/step - loss: 0.9018 - acc: 0.6842 - categorical_accuracy: 0.6842 - val_loss: 0.7817 - val_acc: 0.7334 - val_categorical_accuracy: 0.7334\n",
            "Epoch 8/100\n",
            "1563/1563 [==============================] - 44s 28ms/step - loss: 0.8548 - acc: 0.7005 - categorical_accuracy: 0.7005 - val_loss: 0.7872 - val_acc: 0.7266 - val_categorical_accuracy: 0.7266\n",
            "Epoch 9/100\n",
            "1563/1563 [==============================] - 44s 28ms/step - loss: 0.8154 - acc: 0.7171 - categorical_accuracy: 0.7171 - val_loss: 0.8156 - val_acc: 0.7310 - val_categorical_accuracy: 0.7310\n",
            "Epoch 10/100\n",
            "1563/1563 [==============================] - 43s 28ms/step - loss: 0.7876 - acc: 0.7235 - categorical_accuracy: 0.7235 - val_loss: 0.7096 - val_acc: 0.7575 - val_categorical_accuracy: 0.7575\n",
            "Epoch 11/100\n",
            "1563/1563 [==============================] - 43s 28ms/step - loss: 0.7676 - acc: 0.7328 - categorical_accuracy: 0.7328 - val_loss: 0.7392 - val_acc: 0.7477 - val_categorical_accuracy: 0.7477\n",
            "Epoch 12/100\n",
            "1563/1563 [==============================] - 44s 28ms/step - loss: 0.7413 - acc: 0.7435 - categorical_accuracy: 0.7435 - val_loss: 0.6725 - val_acc: 0.7723 - val_categorical_accuracy: 0.7723\n",
            "Epoch 13/100\n",
            "1563/1563 [==============================] - 43s 28ms/step - loss: 0.7218 - acc: 0.7526 - categorical_accuracy: 0.7526 - val_loss: 0.7126 - val_acc: 0.7607 - val_categorical_accuracy: 0.7607\n",
            "Epoch 14/100\n",
            "1563/1563 [==============================] - 43s 28ms/step - loss: 0.7079 - acc: 0.7581 - categorical_accuracy: 0.7581 - val_loss: 0.6742 - val_acc: 0.7719 - val_categorical_accuracy: 0.7719\n",
            "Epoch 15/100\n",
            "1563/1563 [==============================] - 44s 28ms/step - loss: 0.6947 - acc: 0.7620 - categorical_accuracy: 0.7620 - val_loss: 0.6128 - val_acc: 0.7924 - val_categorical_accuracy: 0.7924\n",
            "Epoch 16/100\n",
            "1563/1563 [==============================] - 44s 28ms/step - loss: 0.6863 - acc: 0.7670 - categorical_accuracy: 0.7670 - val_loss: 0.6481 - val_acc: 0.7830 - val_categorical_accuracy: 0.7830\n",
            "Epoch 17/100\n",
            "1563/1563 [==============================] - 44s 28ms/step - loss: 0.6804 - acc: 0.7696 - categorical_accuracy: 0.7696 - val_loss: 0.7050 - val_acc: 0.7640 - val_categorical_accuracy: 0.7640\n",
            "Epoch 18/100\n",
            "1563/1563 [==============================] - 44s 28ms/step - loss: 0.6737 - acc: 0.7716 - categorical_accuracy: 0.7716 - val_loss: 0.6598 - val_acc: 0.7829 - val_categorical_accuracy: 0.7829\n",
            "Epoch 19/100\n",
            "1563/1563 [==============================] - 44s 28ms/step - loss: 0.6664 - acc: 0.7730 - categorical_accuracy: 0.7730 - val_loss: 0.6522 - val_acc: 0.7806 - val_categorical_accuracy: 0.7806\n",
            "Epoch 20/100\n",
            "1563/1563 [==============================] - 43s 27ms/step - loss: 0.6605 - acc: 0.7775 - categorical_accuracy: 0.7775 - val_loss: 0.6833 - val_acc: 0.7743 - val_categorical_accuracy: 0.7743\n",
            "Epoch 21/100\n",
            "1563/1563 [==============================] - 43s 27ms/step - loss: 0.6607 - acc: 0.7762 - categorical_accuracy: 0.7762 - val_loss: 0.6799 - val_acc: 0.7749 - val_categorical_accuracy: 0.7749\n",
            "Epoch 22/100\n",
            "1563/1563 [==============================] - 43s 28ms/step - loss: 0.6609 - acc: 0.7742 - categorical_accuracy: 0.7742 - val_loss: 0.6547 - val_acc: 0.7882 - val_categorical_accuracy: 0.7882\n",
            "Epoch 23/100\n",
            "1563/1563 [==============================] - 43s 27ms/step - loss: 0.6504 - acc: 0.7799 - categorical_accuracy: 0.7799 - val_loss: 0.6631 - val_acc: 0.7824 - val_categorical_accuracy: 0.7824\n",
            "Epoch 24/100\n",
            "1563/1563 [==============================] - 44s 28ms/step - loss: 0.6516 - acc: 0.7784 - categorical_accuracy: 0.7784 - val_loss: 0.6807 - val_acc: 0.7861 - val_categorical_accuracy: 0.7861\n",
            "Epoch 25/100\n",
            "1563/1563 [==============================] - 44s 28ms/step - loss: 0.6498 - acc: 0.7815 - categorical_accuracy: 0.7815 - val_loss: 0.6296 - val_acc: 0.7969 - val_categorical_accuracy: 0.7969\n",
            "Epoch 26/100\n",
            "1563/1563 [==============================] - 44s 28ms/step - loss: 0.6467 - acc: 0.7809 - categorical_accuracy: 0.7809 - val_loss: 0.7382 - val_acc: 0.7697 - val_categorical_accuracy: 0.7697\n",
            "Epoch 27/100\n",
            "1563/1563 [==============================] - 43s 27ms/step - loss: 0.6427 - acc: 0.7817 - categorical_accuracy: 0.7817 - val_loss: 0.6867 - val_acc: 0.7705 - val_categorical_accuracy: 0.7705\n",
            "Epoch 28/100\n",
            "1563/1563 [==============================] - 43s 28ms/step - loss: 0.6460 - acc: 0.7819 - categorical_accuracy: 0.7819 - val_loss: 0.6202 - val_acc: 0.7922 - val_categorical_accuracy: 0.7922\n",
            "Epoch 29/100\n",
            "1563/1563 [==============================] - 45s 29ms/step - loss: 0.6408 - acc: 0.7853 - categorical_accuracy: 0.7853 - val_loss: 0.7305 - val_acc: 0.7701 - val_categorical_accuracy: 0.7701\n",
            "Epoch 30/100\n",
            "1563/1563 [==============================] - 43s 28ms/step - loss: 0.6436 - acc: 0.7830 - categorical_accuracy: 0.7830 - val_loss: 0.6548 - val_acc: 0.7886 - val_categorical_accuracy: 0.7886\n",
            "Epoch 31/100\n",
            "1563/1563 [==============================] - 43s 28ms/step - loss: 0.6377 - acc: 0.7868 - categorical_accuracy: 0.7868 - val_loss: 0.6423 - val_acc: 0.7945 - val_categorical_accuracy: 0.7945\n",
            "Epoch 32/100\n",
            "1563/1563 [==============================] - 44s 28ms/step - loss: 0.6421 - acc: 0.7834 - categorical_accuracy: 0.7834 - val_loss: 0.7148 - val_acc: 0.7764 - val_categorical_accuracy: 0.7764\n",
            "Epoch 33/100\n",
            "1563/1563 [==============================] - 45s 29ms/step - loss: 0.6340 - acc: 0.7858 - categorical_accuracy: 0.7858 - val_loss: 0.6488 - val_acc: 0.7862 - val_categorical_accuracy: 0.7862\n",
            "Epoch 34/100\n",
            "1563/1563 [==============================] - 45s 29ms/step - loss: 0.6353 - acc: 0.7855 - categorical_accuracy: 0.7855 - val_loss: 0.6105 - val_acc: 0.7967 - val_categorical_accuracy: 0.7967\n",
            "Epoch 35/100\n",
            "1563/1563 [==============================] - 45s 29ms/step - loss: 0.6350 - acc: 0.7867 - categorical_accuracy: 0.7867 - val_loss: 0.6541 - val_acc: 0.7837 - val_categorical_accuracy: 0.7837\n",
            "Epoch 36/100\n",
            "1563/1563 [==============================] - 46s 29ms/step - loss: 0.6373 - acc: 0.7864 - categorical_accuracy: 0.7864 - val_loss: 0.7152 - val_acc: 0.7806 - val_categorical_accuracy: 0.7806\n",
            "Epoch 37/100\n",
            "1563/1563 [==============================] - 46s 29ms/step - loss: 0.6345 - acc: 0.7886 - categorical_accuracy: 0.7886 - val_loss: 0.6426 - val_acc: 0.7960 - val_categorical_accuracy: 0.7960\n",
            "Epoch 38/100\n",
            "1563/1563 [==============================] - 44s 28ms/step - loss: 0.6295 - acc: 0.7921 - categorical_accuracy: 0.7921 - val_loss: 0.6332 - val_acc: 0.7993 - val_categorical_accuracy: 0.7993\n",
            "Epoch 39/100\n",
            "1563/1563 [==============================] - 43s 27ms/step - loss: 0.6327 - acc: 0.7890 - categorical_accuracy: 0.7890 - val_loss: 0.6502 - val_acc: 0.7886 - val_categorical_accuracy: 0.7886\n",
            "Epoch 40/100\n",
            "1563/1563 [==============================] - 44s 28ms/step - loss: 0.6358 - acc: 0.7883 - categorical_accuracy: 0.7883 - val_loss: 0.6582 - val_acc: 0.7864 - val_categorical_accuracy: 0.7864\n",
            "Epoch 41/100\n",
            "1563/1563 [==============================] - 43s 27ms/step - loss: 0.6319 - acc: 0.7898 - categorical_accuracy: 0.7898 - val_loss: 0.6818 - val_acc: 0.7789 - val_categorical_accuracy: 0.7789\n",
            "Epoch 42/100\n",
            "1563/1563 [==============================] - 43s 28ms/step - loss: 0.6355 - acc: 0.7880 - categorical_accuracy: 0.7880 - val_loss: 0.6486 - val_acc: 0.7863 - val_categorical_accuracy: 0.7863\n",
            "Epoch 43/100\n",
            "1563/1563 [==============================] - 43s 28ms/step - loss: 0.6303 - acc: 0.7885 - categorical_accuracy: 0.7885 - val_loss: 0.6118 - val_acc: 0.8104 - val_categorical_accuracy: 0.8104\n",
            "Epoch 44/100\n",
            "1563/1563 [==============================] - 43s 28ms/step - loss: 0.6385 - acc: 0.7888 - categorical_accuracy: 0.7888 - val_loss: 0.6479 - val_acc: 0.7951 - val_categorical_accuracy: 0.7951\n",
            "Epoch 45/100\n",
            "1563/1563 [==============================] - 43s 28ms/step - loss: 0.6352 - acc: 0.7900 - categorical_accuracy: 0.7900 - val_loss: 0.6892 - val_acc: 0.7804 - val_categorical_accuracy: 0.7804\n",
            "Epoch 46/100\n",
            "1563/1563 [==============================] - 43s 28ms/step - loss: 0.6276 - acc: 0.7907 - categorical_accuracy: 0.7907 - val_loss: 0.6973 - val_acc: 0.7770 - val_categorical_accuracy: 0.7770\n",
            "Epoch 47/100\n",
            "1563/1563 [==============================] - 43s 28ms/step - loss: 0.6334 - acc: 0.7889 - categorical_accuracy: 0.7889 - val_loss: 0.7336 - val_acc: 0.7748 - val_categorical_accuracy: 0.7748\n",
            "Epoch 48/100\n",
            "1563/1563 [==============================] - 43s 28ms/step - loss: 0.6342 - acc: 0.7889 - categorical_accuracy: 0.7889 - val_loss: 0.6297 - val_acc: 0.7949 - val_categorical_accuracy: 0.7949\n",
            "Epoch 49/100\n",
            "1563/1563 [==============================] - 43s 28ms/step - loss: 0.6300 - acc: 0.7890 - categorical_accuracy: 0.7890 - val_loss: 0.6074 - val_acc: 0.8003 - val_categorical_accuracy: 0.8003\n",
            "Epoch 50/100\n",
            "1563/1563 [==============================] - 43s 27ms/step - loss: 0.6421 - acc: 0.7869 - categorical_accuracy: 0.7869 - val_loss: 0.6412 - val_acc: 0.7876 - val_categorical_accuracy: 0.7876\n",
            "Epoch 51/100\n",
            "1563/1563 [==============================] - 42s 27ms/step - loss: 0.6391 - acc: 0.7862 - categorical_accuracy: 0.7862 - val_loss: 0.7472 - val_acc: 0.7648 - val_categorical_accuracy: 0.7648\n",
            "Epoch 52/100\n",
            "1563/1563 [==============================] - 43s 27ms/step - loss: 0.6403 - acc: 0.7874 - categorical_accuracy: 0.7874 - val_loss: 0.6322 - val_acc: 0.7894 - val_categorical_accuracy: 0.7894\n",
            "Epoch 53/100\n",
            "1563/1563 [==============================] - 42s 27ms/step - loss: 0.6431 - acc: 0.7895 - categorical_accuracy: 0.7895 - val_loss: 0.6657 - val_acc: 0.7804 - val_categorical_accuracy: 0.7804\n",
            "Epoch 54/100\n",
            "1563/1563 [==============================] - 43s 28ms/step - loss: 0.6434 - acc: 0.7881 - categorical_accuracy: 0.7881 - val_loss: 0.6245 - val_acc: 0.7914 - val_categorical_accuracy: 0.7914\n",
            "Epoch 55/100\n",
            "1563/1563 [==============================] - 43s 28ms/step - loss: 0.6461 - acc: 0.7872 - categorical_accuracy: 0.7872 - val_loss: 0.9303 - val_acc: 0.7538 - val_categorical_accuracy: 0.7538\n",
            "Epoch 56/100\n",
            "1563/1563 [==============================] - 44s 28ms/step - loss: 0.6456 - acc: 0.7854 - categorical_accuracy: 0.7854 - val_loss: 0.6237 - val_acc: 0.7997 - val_categorical_accuracy: 0.7997\n",
            "Epoch 57/100\n",
            "1563/1563 [==============================] - 44s 28ms/step - loss: 0.6500 - acc: 0.7850 - categorical_accuracy: 0.7850 - val_loss: 0.5972 - val_acc: 0.8071 - val_categorical_accuracy: 0.8071\n",
            "Epoch 58/100\n",
            "1563/1563 [==============================] - 44s 28ms/step - loss: 0.6462 - acc: 0.7868 - categorical_accuracy: 0.7868 - val_loss: 0.6272 - val_acc: 0.7973 - val_categorical_accuracy: 0.7973\n",
            "Epoch 59/100\n",
            "1563/1563 [==============================] - 44s 28ms/step - loss: 0.6487 - acc: 0.7860 - categorical_accuracy: 0.7860 - val_loss: 0.7114 - val_acc: 0.7685 - val_categorical_accuracy: 0.7685\n",
            "Epoch 60/100\n",
            "1563/1563 [==============================] - 44s 28ms/step - loss: 0.6553 - acc: 0.7842 - categorical_accuracy: 0.7842 - val_loss: 0.6029 - val_acc: 0.8083 - val_categorical_accuracy: 0.8083\n",
            "Epoch 61/100\n",
            "1563/1563 [==============================] - 44s 28ms/step - loss: 0.6479 - acc: 0.7862 - categorical_accuracy: 0.7862 - val_loss: 0.6441 - val_acc: 0.7886 - val_categorical_accuracy: 0.7886\n",
            "Epoch 62/100\n",
            "1563/1563 [==============================] - 44s 28ms/step - loss: 0.6592 - acc: 0.7847 - categorical_accuracy: 0.7847 - val_loss: 0.7283 - val_acc: 0.7603 - val_categorical_accuracy: 0.7603\n",
            "Epoch 63/100\n",
            "1563/1563 [==============================] - 43s 28ms/step - loss: 0.6582 - acc: 0.7859 - categorical_accuracy: 0.7859 - val_loss: 0.7145 - val_acc: 0.7803 - val_categorical_accuracy: 0.7803\n",
            "Epoch 64/100\n",
            "1563/1563 [==============================] - 43s 27ms/step - loss: 0.6561 - acc: 0.7835 - categorical_accuracy: 0.7835 - val_loss: 0.9218 - val_acc: 0.7358 - val_categorical_accuracy: 0.7358\n",
            "Epoch 65/100\n",
            "1563/1563 [==============================] - 43s 27ms/step - loss: 0.6605 - acc: 0.7850 - categorical_accuracy: 0.7850 - val_loss: 0.6820 - val_acc: 0.7866 - val_categorical_accuracy: 0.7866\n",
            "Epoch 66/100\n",
            "1563/1563 [==============================] - 43s 28ms/step - loss: 0.6636 - acc: 0.7806 - categorical_accuracy: 0.7806 - val_loss: 0.6429 - val_acc: 0.7892 - val_categorical_accuracy: 0.7892\n",
            "Epoch 67/100\n",
            "1563/1563 [==============================] - 43s 27ms/step - loss: 0.6619 - acc: 0.7835 - categorical_accuracy: 0.7835 - val_loss: 0.6337 - val_acc: 0.7975 - val_categorical_accuracy: 0.7975\n",
            "Epoch 68/100\n",
            "1563/1563 [==============================] - 43s 28ms/step - loss: 0.6668 - acc: 0.7818 - categorical_accuracy: 0.7818 - val_loss: 0.8669 - val_acc: 0.7635 - val_categorical_accuracy: 0.7635\n",
            "Epoch 69/100\n",
            "1563/1563 [==============================] - 43s 28ms/step - loss: 0.6628 - acc: 0.7829 - categorical_accuracy: 0.7829 - val_loss: 0.7576 - val_acc: 0.7690 - val_categorical_accuracy: 0.7690\n",
            "Epoch 70/100\n",
            "1563/1563 [==============================] - 42s 27ms/step - loss: 0.6687 - acc: 0.7802 - categorical_accuracy: 0.7802 - val_loss: 0.6302 - val_acc: 0.8086 - val_categorical_accuracy: 0.8086\n",
            "Epoch 71/100\n",
            "1563/1563 [==============================] - 42s 27ms/step - loss: 0.6686 - acc: 0.7818 - categorical_accuracy: 0.7818 - val_loss: 0.6916 - val_acc: 0.7821 - val_categorical_accuracy: 0.7821\n",
            "Epoch 72/100\n",
            "1563/1563 [==============================] - 42s 27ms/step - loss: 0.6777 - acc: 0.7787 - categorical_accuracy: 0.7787 - val_loss: 0.8078 - val_acc: 0.7672 - val_categorical_accuracy: 0.7672\n",
            "Epoch 73/100\n",
            "1563/1563 [==============================] - 43s 27ms/step - loss: 0.6763 - acc: 0.7800 - categorical_accuracy: 0.7800 - val_loss: 0.7144 - val_acc: 0.7737 - val_categorical_accuracy: 0.7737\n",
            "Epoch 74/100\n",
            "1563/1563 [==============================] - 42s 27ms/step - loss: 0.6848 - acc: 0.7745 - categorical_accuracy: 0.7745 - val_loss: 0.7698 - val_acc: 0.7616 - val_categorical_accuracy: 0.7616\n",
            "Epoch 75/100\n",
            "1563/1563 [==============================] - 48s 31ms/step - loss: 0.6790 - acc: 0.7780 - categorical_accuracy: 0.7780 - val_loss: 0.6944 - val_acc: 0.7732 - val_categorical_accuracy: 0.7732\n",
            "Epoch 76/100\n",
            "1563/1563 [==============================] - 44s 28ms/step - loss: 0.6817 - acc: 0.7793 - categorical_accuracy: 0.7793 - val_loss: 0.7407 - val_acc: 0.7590 - val_categorical_accuracy: 0.7590\n",
            "Epoch 77/100\n",
            "1563/1563 [==============================] - 42s 27ms/step - loss: 0.6855 - acc: 0.7766 - categorical_accuracy: 0.7766 - val_loss: 0.7274 - val_acc: 0.7542 - val_categorical_accuracy: 0.7542\n",
            "Epoch 78/100\n",
            "1563/1563 [==============================] - 42s 27ms/step - loss: 0.6898 - acc: 0.7738 - categorical_accuracy: 0.7738 - val_loss: 0.8034 - val_acc: 0.7707 - val_categorical_accuracy: 0.7707\n",
            "Epoch 79/100\n",
            "1563/1563 [==============================] - 41s 26ms/step - loss: 0.6961 - acc: 0.7705 - categorical_accuracy: 0.7705 - val_loss: 0.7947 - val_acc: 0.7492 - val_categorical_accuracy: 0.7492\n",
            "Epoch 80/100\n",
            "1563/1563 [==============================] - 42s 27ms/step - loss: 0.6980 - acc: 0.7744 - categorical_accuracy: 0.7744 - val_loss: 0.7110 - val_acc: 0.7902 - val_categorical_accuracy: 0.7902\n",
            "Epoch 81/100\n",
            " 577/1563 [==========>...................] - ETA: 24s - loss: 0.6972 - acc: 0.7749 - categorical_accuracy: 0.7749Buffered data was truncated after reaching the output size limit."
          ],
          "name": "stdout"
        }
      ]
    },
    {
      "metadata": {
        "id": "DFRJ5YzeMbPg",
        "colab_type": "code",
        "colab": {
          "base_uri": "https://localhost:8080/",
          "height": 68
        },
        "outputId": "e847db08-f700-4fda-d425-91820caab87f"
      },
      "cell_type": "code",
      "source": [
        "score = model_best.evaluate(x_test, y_test, verbose=1)\n",
        "print('Test loss:', score[0])\n",
        "print('Test accuracy:', score[1])"
      ],
      "execution_count": 30,
      "outputs": [
        {
          "output_type": "stream",
          "text": [
            "10000/10000 [==============================] - 1s 150us/step\n",
            "Test loss: 0.6962530586719513\n",
            "Test accuracy: 0.7695\n"
          ],
          "name": "stdout"
        }
      ]
    },
    {
      "metadata": {
        "id": "bSfi65iTMbPh",
        "colab_type": "text"
      },
      "cell_type": "markdown",
      "source": [
        "**The training efficiency on GPU is much higher than on CPU.**"
      ]
    }
  ]
}